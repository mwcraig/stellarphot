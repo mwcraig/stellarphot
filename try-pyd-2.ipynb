{
 "cells": [
  {
   "cell_type": "code",
   "execution_count": 1,
   "id": "2ab11e6e-a4f1-4a6c-841f-6fb9dd2d051b",
   "metadata": {},
   "outputs": [
    {
     "name": "stderr",
     "output_type": "stream",
     "text": [
      "/Users/jv8699qa/miniconda3/envs/stelldev-pyd2/lib/python3.11/site-packages/pydantic/_internal/_config.py:321: UserWarning: Valid config keys have changed in V2:\n",
      "* 'validate_all' has been renamed to 'validate_default'\n",
      "  warnings.warn(message, UserWarning)\n"
     ]
    }
   ],
   "source": [
    "from typing import Annotated\n",
    "from pydantic import BaseModel, Field, ConfigDict\n",
    "from stellarphot.settings.astropy_pydantic import UnitType, QuantityType, PixelScaleType\n",
    "from stellarphot.settings import Camera"
   ]
  },
  {
   "cell_type": "code",
   "execution_count": 2,
   "id": "c5a583ea-ad7f-4913-92cc-6909fd0f6a34",
   "metadata": {},
   "outputs": [],
   "source": [
    "class Humbug(BaseModel):\n",
    "    #unit: UnitType\n",
    "    bunit: Annotated[UnitType, Field(examples=[\"adu\", \"meter\"])]\n",
    "    other_unit: Annotated[UnitType, Field(examples=[\"second\", \"hour\"])]"
   ]
  },
  {
   "cell_type": "code",
   "execution_count": 3,
   "id": "68c02a17-cdc5-474c-894e-9216348051c5",
   "metadata": {},
   "outputs": [
    {
     "name": "stdout",
     "output_type": "stream",
     "text": [
      "info=ValidationInfo(config={'title': 'Humbug'}, context=None, data={}, field_name='bunit')\n",
      "value='degree'\n",
      "info=ValidationInfo(config={'title': 'Humbug'}, context=None, data={'bunit': Unit(\"deg\")}, field_name='bunit')\n",
      "value='second'\n"
     ]
    }
   ],
   "source": [
    "hum = Humbug(bunit=\"degree\", other_unit=\"second\")"
   ]
  },
  {
   "cell_type": "code",
   "execution_count": 4,
   "id": "f93acbb5-6243-4e54-887f-46d748b01f64",
   "metadata": {},
   "outputs": [
    {
     "name": "stdout",
     "output_type": "stream",
     "text": [
      "{\n",
      "  \"bunit\": \"deg\",\n",
      "  \"other_unit\": \"s\"\n",
      "}\n"
     ]
    }
   ],
   "source": [
    "print(hum.model_dump_json(indent=2))"
   ]
  },
  {
   "cell_type": "code",
   "execution_count": 5,
   "id": "c51cb6d6-6305-4db9-8dab-23996438c660",
   "metadata": {},
   "outputs": [
    {
     "data": {
      "text/plain": [
       "{'bunit': Unit(\"deg\"), 'other_unit': Unit(\"s\")}"
      ]
     },
     "execution_count": 5,
     "metadata": {},
     "output_type": "execute_result"
    }
   ],
   "source": [
    "hum.model_dump()"
   ]
  },
  {
   "cell_type": "code",
   "execution_count": 6,
   "id": "d1486817-41de-4b8c-aaba-a7c15015fb48",
   "metadata": {},
   "outputs": [
    {
     "data": {
      "text/plain": [
       "{'$defs': {'UnitType': {'type': 'string'}},\n",
       " 'properties': {'bunit': {'allOf': [{'$ref': '#/$defs/UnitType'}],\n",
       "   'examples': ['adu', 'meter']},\n",
       "  'other_unit': {'allOf': [{'$ref': '#/$defs/UnitType'}],\n",
       "   'examples': ['second', 'hour']}},\n",
       " 'required': ['bunit', 'other_unit'],\n",
       " 'title': 'Humbug',\n",
       " 'type': 'object'}"
      ]
     },
     "execution_count": 6,
     "metadata": {},
     "output_type": "execute_result"
    }
   ],
   "source": [
    "hum.model_json_schema()"
   ]
  },
  {
   "cell_type": "code",
   "execution_count": 7,
   "id": "c2da9fc6-820d-4084-b074-630f6b19fdec",
   "metadata": {},
   "outputs": [],
   "source": [
    "class Qumbug(BaseModel):\n",
    "    q: QuantityType"
   ]
  },
  {
   "cell_type": "code",
   "execution_count": 8,
   "id": "66c129c8-ccb3-49a3-ae46-dfbf2e831ce9",
   "metadata": {},
   "outputs": [
    {
     "name": "stdout",
     "output_type": "stream",
     "text": [
      "info=ValidationInfo(config={'title': 'Qumbug'}, context=None, data={}, field_name='q')\n",
      "value='10 second'\n"
     ]
    }
   ],
   "source": [
    "qum = Qumbug(q=\"10 second\")"
   ]
  },
  {
   "cell_type": "code",
   "execution_count": 9,
   "id": "f9e3feea-2b5a-41d6-966b-7760a1ebcfb0",
   "metadata": {},
   "outputs": [
    {
     "data": {
      "text/plain": [
       "'{\"q\":\"10.0 s\"}'"
      ]
     },
     "execution_count": 9,
     "metadata": {},
     "output_type": "execute_result"
    }
   ],
   "source": [
    "qum.model_dump_json()"
   ]
  },
  {
   "cell_type": "code",
   "execution_count": 10,
   "id": "f1aca2e1-e7c8-402d-b797-f449fcfebd7d",
   "metadata": {},
   "outputs": [],
   "source": [
    "class Pumbug(BaseModel):\n",
    "    ps: PixelScaleType"
   ]
  },
  {
   "cell_type": "code",
   "execution_count": 11,
   "id": "1ca38eff-e92b-4548-93d2-a8295bc8d18c",
   "metadata": {},
   "outputs": [
    {
     "name": "stdout",
     "output_type": "stream",
     "text": [
      "info=ValidationInfo(config={'title': 'Pumbug'}, context=None, data={}, field_name='ps')\n",
      "value='10 arcsec / pix'\n"
     ]
    }
   ],
   "source": [
    "pum = Pumbug(ps=\"10 arcsec / pix\")"
   ]
  },
  {
   "cell_type": "code",
   "execution_count": 12,
   "id": "d9b0dfa1-44f6-47b4-b2ec-9648e22412b5",
   "metadata": {},
   "outputs": [
    {
     "data": {
      "text/plain": [
       "Pumbug(ps=<Quantity 10. arcsec / pix>)"
      ]
     },
     "execution_count": 12,
     "metadata": {},
     "output_type": "execute_result"
    }
   ],
   "source": [
    "pum"
   ]
  },
  {
   "cell_type": "code",
   "execution_count": 13,
   "id": "113d35ff-be8d-42bd-b1c2-e7afd64b1721",
   "metadata": {},
   "outputs": [
    {
     "data": {
      "text/plain": [
       "'{\"ps\":\"10.0 arcsec / pix\"}'"
      ]
     },
     "execution_count": 13,
     "metadata": {},
     "output_type": "execute_result"
    }
   ],
   "source": [
    "pum.model_dump_json()"
   ]
  },
  {
   "cell_type": "code",
   "execution_count": 14,
   "id": "43d73ce0-424c-49ea-a047-7231aadaa2f1",
   "metadata": {},
   "outputs": [
    {
     "name": "stdout",
     "output_type": "stream",
     "text": [
      "info=ValidationInfo(config={'title': 'Camera', 'extra_fields_behavior': 'forbid', 'validate_default': True}, context=None, data={}, field_name='data_unit')\n",
      "value='adu'\n",
      "info=ValidationInfo(config={'title': 'Camera', 'extra_fields_behavior': 'forbid', 'validate_default': True}, context=None, data={'data_unit': Unit(\"adu\")}, field_name='gainb')\n",
      "value='1.5 electron / adu'\n",
      "info=ValidationInfo(config={'title': 'Camera', 'extra_fields_behavior': 'forbid', 'validate_default': True}, context=None, data={'data_unit': Unit(\"adu\"), 'gainb': <Quantity 1.5 electron / adu>, 'name': 'Foo camera'}, field_name='gainb')\n",
      "value='10 electron'\n",
      "info=ValidationInfo(config={'title': 'Camera', 'extra_fields_behavior': 'forbid', 'validate_default': True}, context=None, data={'data_unit': Unit(\"adu\"), 'gainb': <Quantity 1.5 electron / adu>, 'name': 'Foo camera', 'read_noise': <Quantity 10. electron>}, field_name='gainb')\n",
      "value='5 electron/second'\n",
      "info=ValidationInfo(config={'title': 'Camera', 'extra_fields_behavior': 'forbid', 'validate_default': True}, context=None, data={'data_unit': Unit(\"adu\"), 'gainb': <Quantity 1.5 electron / adu>, 'name': 'Foo camera', 'read_noise': <Quantity 10. electron>, 'dark_current': <Quantity 5. electron / s>}, field_name='pixel_scale')\n",
      "value='0.5 arcsec/pixel'\n",
      "info=ValidationInfo(config={'title': 'Camera', 'extra_fields_behavior': 'forbid', 'validate_default': True}, context=None, data={'data_unit': Unit(\"adu\"), 'gainb': <Quantity 1.5 electron / adu>, 'name': 'Foo camera', 'read_noise': <Quantity 10. electron>, 'dark_current': <Quantity 5. electron / s>, 'pixel_scale': <Quantity 0.5 arcsec / pix>}, field_name='gainb')\n",
      "value='50000 adu'\n",
      "self=Camera(data_unit=Unit(\"adu\"), gainb=<Quantity 1.5 electron / adu>, name='Foo camera', read_noise=<Quantity 10. electron>, dark_current=<Quantity 5. electron / s>, pixel_scale=<Quantity 0.5 arcsec / pix>, max_data_value=<Quantity 50000. adu>)\n"
     ]
    }
   ],
   "source": [
    "cam = Camera(\n",
    "    data_unit=\"adu\", \n",
    "    gainb=\"1.5 electron / adu\", \n",
    "    read_noise=\"10 electron\", \n",
    "    dark_current=\"5 electron/second\",\n",
    "    pixel_scale=\"0.5 arcsec/pixel\",\n",
    "    max_data_value=\"50000 adu\",\n",
    "    name=\"Foo camera\"\n",
    ")\n"
   ]
  },
  {
   "cell_type": "code",
   "execution_count": 15,
   "id": "4cc04d9f-2c96-46f0-b71e-6beefa84b3ab",
   "metadata": {},
   "outputs": [
    {
     "data": {
      "text/plain": [
       "Camera(data_unit=Unit(\"adu\"), gainb=<Quantity 1.5 electron / adu>, name='Foo camera', read_noise=<Quantity 10. electron>, dark_current=<Quantity 5. electron / s>, pixel_scale=<Quantity 0.5 arcsec / pix>, max_data_value=<Quantity 50000. adu>)"
      ]
     },
     "execution_count": 15,
     "metadata": {},
     "output_type": "execute_result"
    }
   ],
   "source": [
    "cam"
   ]
  },
  {
   "cell_type": "code",
   "execution_count": 16,
   "id": "8bd4bebd-df37-4a69-b85a-cee65034fbf0",
   "metadata": {},
   "outputs": [
    {
     "data": {
      "text/plain": [
       "{'data_unit': Unit(\"adu\"),\n",
       " 'gainb': <Quantity 1.5 electron / adu>,\n",
       " 'name': 'Foo camera',\n",
       " 'read_noise': <Quantity 10. electron>,\n",
       " 'dark_current': <Quantity 5. electron / s>,\n",
       " 'pixel_scale': <Quantity 0.5 arcsec / pix>,\n",
       " 'max_data_value': <Quantity 50000. adu>}"
      ]
     },
     "execution_count": 16,
     "metadata": {},
     "output_type": "execute_result"
    }
   ],
   "source": [
    "cam.model_dump()"
   ]
  },
  {
   "cell_type": "code",
   "execution_count": 17,
   "id": "9563c840-2a54-4f57-8f81-8137d388ebe0",
   "metadata": {},
   "outputs": [
    {
     "name": "stdout",
     "output_type": "stream",
     "text": [
      "{\n",
      "  \"data_unit\": \"adu\",\n",
      "  \"gainb\": \"1.5 electron / adu\",\n",
      "  \"name\": \"Foo camera\",\n",
      "  \"read_noise\": \"10.0 electron\",\n",
      "  \"dark_current\": \"5.0 electron / s\",\n",
      "  \"pixel_scale\": \"0.5 arcsec / pix\",\n",
      "  \"max_data_value\": \"50000.0 adu\"\n",
      "}\n"
     ]
    }
   ],
   "source": [
    "print(cam.model_dump_json(indent=2))"
   ]
  },
  {
   "cell_type": "code",
   "execution_count": 18,
   "id": "834a6d98-66b6-4cc3-85d2-0dd84487468a",
   "metadata": {},
   "outputs": [
    {
     "data": {
      "text/plain": [
       "{'$defs': {'PixelScaleType': {'type': 'string'},\n",
       "  'QuantityType': {'type': 'string'},\n",
       "  'UnitType': {'type': 'string'}},\n",
       " 'additionalProperties': False,\n",
       " 'description': 'A class to represent a CCD-based camera.\\n\\nParameters\\n----------\\n\\ndata_unit : `astropy.units.Unit`\\n    The unit of the data.\\n\\ngain : `astropy.units.Quantity`\\n    The gain of the camera in units such the product of `gain`\\n    times the image data has units equal to that of the `read_noise`.\\n\\nname : str\\n    The name of the camera; can be anything that helps the user identify\\n    the camera.\\n\\nread_noise : `astropy.units.Quantity`\\n    The read noise of the camera with units.\\n\\ndark_current : `astropy.units.Quantity`\\n    The dark current of the camera in units such that, when multiplied by\\n    exposure time, the unit matches the units of the `read_noise`.\\n\\npixel_scale : `astropy.units.Quantity`\\n    The pixel scale of the camera in units of arcseconds per pixel.\\n\\nmax_data_value : `astropy.units.Quantity`\\n    The maximum pixel value to allow while performing photometry. Pixel values\\n    above this will be set to ``NaN``. The unit must be ``data_unit``.\\n\\nAttributes\\n----------\\n\\ndata_unit : `astropy.units.Unit`\\n    The unit of the data.\\n\\ngain : `astropy.units.Quantity`\\n    The gain of the camera in units such the product of `gain`\\n    times the image data has units equal to that of the `read_noise`.\\n\\nname : str\\n    The name of the camera; can be anything that helps the user identify\\n    the camera.\\n\\nread_noise : `astropy.units.Quantity`\\n    The read noise of the camera with units.\\n\\ndark_current : `astropy.units.Quantity`\\n    The dark current of the camera in units such that, when multiplied by\\n    exposure time, the unit matches the units of the `read_noise`.\\n\\npixel_scale : `astropy.units.Quantity`\\n    The pixel scale of the camera in units of arcseconds per pixel.\\n\\nmax_data_value : `astropy.units.Quantity`\\n    The maximum pixel value to allow while performing photometry. Pixel values\\n    above this will be set to ``NaN``. The unit must be ``data_unit``.\\n\\nNotes\\n-----\\nThe gain, read noise, and dark current are all assumed to be constant\\nacross the entire CCD.\\n\\nExamples\\n--------\\n>>> from astropy import units as u\\n>>> from stellarphot.settings import Camera\\n>>> camera = Camera(data_unit=\"adu\",\\n...                 gain=1.0 * u.electron / u.adu,\\n...                 name=\"test camera\",\\n...                 read_noise=1.0 * u.electron,\\n...                 dark_current=0.01 * u.electron / u.second,\\n...                 pixel_scale=0.563 * u.arcsec / u.pixel,\\n...                 max_data_value=50000 * u.adu)\\n>>> camera.data_unit\\nUnit(\"adu\")\\n>>> camera.gain\\n<Quantity 1. electron / adu>\\n>>> camera.name\\n\\'test camera\\'\\n>>> camera.read_noise\\n<Quantity 1. electron>\\n>>> camera.dark_current\\n<Quantity 0.01 electron / s>\\n>>> camera.pixel_scale\\n<Quantity 0.563 arcsec / pix>\\n>>> camera.max_data_value\\n<Quantity 50000. adu>',\n",
       " 'properties': {'data_unit': {'allOf': [{'$ref': '#/$defs/UnitType'}],\n",
       "   'description': 'units of the data',\n",
       "   'examples': ['adu', 'counts', 'DN', 'electrons'],\n",
       "   'title': 'data_unit'},\n",
       "  'gainb': {'allOf': [{'$ref': '#/$defs/QuantityType'}],\n",
       "   'description': 'unit should be consistent with data and read noise',\n",
       "   'examples': ['1.0 electron / adu']},\n",
       "  'name': {'description': 'name of the camera',\n",
       "   'examples': ['test camera'],\n",
       "   'title': 'Name',\n",
       "   'type': 'string'},\n",
       "  'read_noise': {'allOf': [{'$ref': '#/$defs/QuantityType'}],\n",
       "   'description': 'unit should be consistent with dark current',\n",
       "   'examples': ['10.0 electron']},\n",
       "  'dark_current': {'allOf': [{'$ref': '#/$defs/QuantityType'}],\n",
       "   'description': 'unit consistent with read noise, per unit time',\n",
       "   'examples': ['0.01 electron / second']},\n",
       "  'pixel_scale': {'allOf': [{'$ref': '#/$defs/PixelScaleType'}],\n",
       "   'description': 'units of angle per pixel',\n",
       "   'examples': ['0.6 arcsec / pix']},\n",
       "  'max_data_value': {'allOf': [{'$ref': '#/$defs/QuantityType'}],\n",
       "   'description': 'maximum data value while performing photometry',\n",
       "   'examples': ['50000 adu']}},\n",
       " 'required': ['data_unit',\n",
       "  'gainb',\n",
       "  'name',\n",
       "  'read_noise',\n",
       "  'dark_current',\n",
       "  'pixel_scale',\n",
       "  'max_data_value'],\n",
       " 'title': 'Camera',\n",
       " 'type': 'object'}"
      ]
     },
     "execution_count": 18,
     "metadata": {},
     "output_type": "execute_result"
    }
   ],
   "source": [
    "cam.model_json_schema()"
   ]
  },
  {
   "cell_type": "code",
   "execution_count": 19,
   "id": "723e031e-8fcf-485a-b2bf-0b723e827dff",
   "metadata": {},
   "outputs": [],
   "source": [
    "from ipyautoui import AutoUi"
   ]
  },
  {
   "cell_type": "code",
   "execution_count": 20,
   "id": "5d6ec11b-2060-49ab-80bf-ccf8a9073e47",
   "metadata": {},
   "outputs": [
    {
     "name": "stdout",
     "output_type": "stream",
     "text": [
      "info=ValidationInfo(config={'title': 'Camera', 'extra_fields_behavior': 'forbid', 'validate_default': True}, context=None, data={}, field_name='data_unit')\n",
      "value=''\n",
      "info=ValidationInfo(config={'title': 'Camera', 'extra_fields_behavior': 'forbid', 'validate_default': True}, context=None, data={}, field_name='gainb')\n",
      "value=''\n",
      "info=ValidationInfo(config={'title': 'Camera', 'extra_fields_behavior': 'forbid', 'validate_default': True}, context=None, data={'name': ''}, field_name='gainb')\n",
      "value=''\n",
      "info=ValidationInfo(config={'title': 'Camera', 'extra_fields_behavior': 'forbid', 'validate_default': True}, context=None, data={'name': ''}, field_name='gainb')\n",
      "value=''\n",
      "info=ValidationInfo(config={'title': 'Camera', 'extra_fields_behavior': 'forbid', 'validate_default': True}, context=None, data={'name': ''}, field_name='pixel_scale')\n",
      "value=''\n",
      "info=ValidationInfo(config={'title': 'Camera', 'extra_fields_behavior': 'forbid', 'validate_default': True}, context=None, data={'name': ''}, field_name='gainb')\n",
      "value=''\n"
     ]
    }
   ],
   "source": [
    "ui = AutoUi(Camera)"
   ]
  },
  {
   "cell_type": "code",
   "execution_count": 21,
   "id": "5325a4f3-4431-4ecc-9e64-65597a28c7d5",
   "metadata": {},
   "outputs": [
    {
     "data": {
      "application/vnd.jupyter.widget-view+json": {
       "model_id": "e751dc9c27e24ff18d9ceea7094e5c54",
       "version_major": 2,
       "version_minor": 0
      },
      "text/plain": [
       "AutoUi(children=(SaveButtonBar(children=(ToggleButton(value=False, button_style='success', disabled=True, icon…"
      ]
     },
     "execution_count": 21,
     "metadata": {},
     "output_type": "execute_result"
    }
   ],
   "source": [
    "ui"
   ]
  },
  {
   "cell_type": "code",
   "execution_count": 22,
   "id": "5cce6e70-8e06-4ec4-9ab6-b0968e81d802",
   "metadata": {},
   "outputs": [],
   "source": [
    "ui.show_validation = False"
   ]
  },
  {
   "cell_type": "code",
   "execution_count": 23,
   "id": "c75d0920-8c60-4186-91ba-9370b6b68660",
   "metadata": {},
   "outputs": [],
   "source": [
    "from pydantic import WithJsonSchema, GetPydanticSchema"
   ]
  },
  {
   "cell_type": "code",
   "execution_count": 24,
   "id": "95758f22-ba5d-4d60-8498-746ab8866a86",
   "metadata": {},
   "outputs": [
    {
     "ename": "SyntaxError",
     "evalue": "incomplete input (2598560689.py, line 1)",
     "output_type": "error",
     "traceback": [
      "\u001b[0;36m  Cell \u001b[0;32mIn[24], line 1\u001b[0;36m\u001b[0m\n\u001b[0;31m    GetPydanticSchema(\u001b[0m\n\u001b[0m                      ^\u001b[0m\n\u001b[0;31mSyntaxError\u001b[0m\u001b[0;31m:\u001b[0m incomplete input\n"
     ]
    }
   ],
   "source": [
    "GetPydanticSchema("
   ]
  },
  {
   "cell_type": "code",
   "execution_count": null,
   "id": "2a5fd195-9c31-4bc9-b869-b1428e4587ec",
   "metadata": {},
   "outputs": [],
   "source": [
    "from astropy.units import Quantity, Unit"
   ]
  },
  {
   "cell_type": "code",
   "execution_count": null,
   "id": "e3d536ed-09a9-48fb-a453-d29c6ed22b74",
   "metadata": {},
   "outputs": [],
   "source": [
    "repr(Unit(\"\"))"
   ]
  },
  {
   "cell_type": "code",
   "execution_count": null,
   "id": "2a7cd51d-ee97-4bef-a0ff-c1b83ecb9fcd",
   "metadata": {},
   "outputs": [],
   "source": [
    "repr(Unit(\"dimensionless_unscaled\"))"
   ]
  },
  {
   "cell_type": "code",
   "execution_count": null,
   "id": "c8ae0575-b4cc-4300-aa93-261faa388f63",
   "metadata": {},
   "outputs": [],
   "source": [
    "repr(Quantity(\"1 dimensionless_unscaled\"))"
   ]
  },
  {
   "cell_type": "code",
   "execution_count": null,
   "id": "51fa5418-c314-4adf-8e6c-9347de633f8b",
   "metadata": {},
   "outputs": [],
   "source": [
    "foo = Unit(\"3 meter\")"
   ]
  },
  {
   "cell_type": "code",
   "execution_count": null,
   "id": "6565db54-4dbc-4292-af60-0cb4ce69a911",
   "metadata": {},
   "outputs": [],
   "source": [
    "type(foo)"
   ]
  },
  {
   "cell_type": "code",
   "execution_count": null,
   "id": "25370632-f540-4ff4-a13d-bc873b320f85",
   "metadata": {},
   "outputs": [],
   "source": [
    "foo"
   ]
  },
  {
   "cell_type": "code",
   "execution_count": null,
   "id": "2cc53c9a-85c3-4ac1-8463-9b608a114290",
   "metadata": {},
   "outputs": [],
   "source": [
    "q = Quantity(\"3\")"
   ]
  },
  {
   "cell_type": "code",
   "execution_count": null,
   "id": "e53c403a-02d7-4374-bc2a-53fc2c099a16",
   "metadata": {},
   "outputs": [],
   "source": [
    "q.unit"
   ]
  },
  {
   "cell_type": "code",
   "execution_count": null,
   "id": "13ab396a-2f54-4497-80a9-9f28c786a1f7",
   "metadata": {},
   "outputs": [],
   "source": []
  }
 ],
 "metadata": {
  "kernelspec": {
   "display_name": "Python 3 (ipykernel)",
   "language": "python",
   "name": "python3"
  },
  "language_info": {
   "codemirror_mode": {
    "name": "ipython",
    "version": 3
   },
   "file_extension": ".py",
   "mimetype": "text/x-python",
   "name": "python",
   "nbconvert_exporter": "python",
   "pygments_lexer": "ipython3",
   "version": "3.11.7"
  }
 },
 "nbformat": 4,
 "nbformat_minor": 5
}
