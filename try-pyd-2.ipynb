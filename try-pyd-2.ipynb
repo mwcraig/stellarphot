{
 "cells": [
  {
   "cell_type": "code",
   "execution_count": 1,
   "id": "2ab11e6e-a4f1-4a6c-841f-6fb9dd2d051b",
   "metadata": {},
   "outputs": [
    {
     "name": "stderr",
     "output_type": "stream",
     "text": [
      "/Users/jv8699qa/miniconda3/envs/stelldev-pyd2/lib/python3.11/site-packages/pydantic/_internal/_config.py:321: UserWarning: Valid config keys have changed in V2:\n",
      "* 'validate_all' has been renamed to 'validate_default'\n",
      "  warnings.warn(message, UserWarning)\n"
     ]
    }
   ],
   "source": [
    "from typing import Annotated\n",
    "from pydantic import BaseModel, Field\n",
    "from stellarphot.settings.astropy_pydantic import UnitType"
   ]
  },
  {
   "cell_type": "code",
   "execution_count": 7,
   "id": "c5a583ea-ad7f-4913-92cc-6909fd0f6a34",
   "metadata": {},
   "outputs": [],
   "source": [
    "class Humbug(BaseModel):\n",
    "    #unit: UnitType\n",
    "    unit: Annotated[UnitType, Field(examples=[\"adu\", \"meter\"])]"
   ]
  },
  {
   "cell_type": "code",
   "execution_count": 8,
   "id": "68c02a17-cdc5-474c-894e-9216348051c5",
   "metadata": {},
   "outputs": [],
   "source": [
    "hum = Humbug(unit=\"degree\")"
   ]
  },
  {
   "cell_type": "code",
   "execution_count": 9,
   "id": "f93acbb5-6243-4e54-887f-46d748b01f64",
   "metadata": {},
   "outputs": [
    {
     "name": "stdout",
     "output_type": "stream",
     "text": [
      "{\n",
      "  \"unit\": \"deg\"\n",
      "}\n"
     ]
    }
   ],
   "source": [
    "print(hum.model_dump_json(indent=2))"
   ]
  },
  {
   "cell_type": "code",
   "execution_count": 10,
   "id": "c51cb6d6-6305-4db9-8dab-23996438c660",
   "metadata": {},
   "outputs": [
    {
     "data": {
      "text/plain": [
       "{'unit': Unit(\"deg\")}"
      ]
     },
     "execution_count": 10,
     "metadata": {},
     "output_type": "execute_result"
    }
   ],
   "source": [
    "hum.model_dump()"
   ]
  },
  {
   "cell_type": "code",
   "execution_count": 11,
   "id": "d1486817-41de-4b8c-aaba-a7c15015fb48",
   "metadata": {},
   "outputs": [
    {
     "data": {
      "text/plain": [
       "{'$defs': {'UnitType': {'examples': ['m', 'm / s'], 'type': 'string'}},\n",
       " 'properties': {'unit': {'allOf': [{'$ref': '#/$defs/UnitType'}],\n",
       "   'examples': ['adu', 'meter']}},\n",
       " 'required': ['unit'],\n",
       " 'title': 'Humbug',\n",
       " 'type': 'object'}"
      ]
     },
     "execution_count": 11,
     "metadata": {},
     "output_type": "execute_result"
    }
   ],
   "source": [
    "hum.model_json_schema()"
   ]
  },
  {
   "cell_type": "code",
   "execution_count": 12,
   "id": "723e031e-8fcf-485a-b2bf-0b723e827dff",
   "metadata": {},
   "outputs": [],
   "source": [
    "from ipyautoui import AutoUi"
   ]
  },
  {
   "cell_type": "code",
   "execution_count": 13,
   "id": "5d6ec11b-2060-49ab-80bf-ccf8a9073e47",
   "metadata": {},
   "outputs": [
    {
     "data": {
      "application/vnd.jupyter.widget-view+json": {
       "model_id": "b71e4eb12c4c4d91be525a54d066e375",
       "version_major": 2,
       "version_minor": 0
      },
      "text/plain": [
       "AutoUi(children=(SaveButtonBar(children=(ToggleButton(value=False, button_style='success', disabled=True, icon…"
      ]
     },
     "execution_count": 13,
     "metadata": {},
     "output_type": "execute_result"
    }
   ],
   "source": [
    "AutoUi(Humbug)"
   ]
  },
  {
   "cell_type": "code",
   "execution_count": 7,
   "id": "c75d0920-8c60-4186-91ba-9370b6b68660",
   "metadata": {},
   "outputs": [],
   "source": [
    "from pydantic import WithJsonSchema, GetPydanticSchema"
   ]
  },
  {
   "cell_type": "code",
   "execution_count": 11,
   "id": "95758f22-ba5d-4d60-8498-746ab8866a86",
   "metadata": {},
   "outputs": [
    {
     "data": {
      "text/plain": [
       "['__annotations__',\n",
       " '__class__',\n",
       " '__dataclass_fields__',\n",
       " '__dataclass_params__',\n",
       " '__delattr__',\n",
       " '__dir__',\n",
       " '__doc__',\n",
       " '__eq__',\n",
       " '__format__',\n",
       " '__ge__',\n",
       " '__get_pydantic_json_schema__',\n",
       " '__getattribute__',\n",
       " '__getstate__',\n",
       " '__gt__',\n",
       " '__hash__',\n",
       " '__init__',\n",
       " '__init_subclass__',\n",
       " '__le__',\n",
       " '__lt__',\n",
       " '__match_args__',\n",
       " '__module__',\n",
       " '__ne__',\n",
       " '__new__',\n",
       " '__reduce__',\n",
       " '__reduce_ex__',\n",
       " '__repr__',\n",
       " '__setattr__',\n",
       " '__sizeof__',\n",
       " '__slots__',\n",
       " '__str__',\n",
       " '__subclasshook__',\n",
       " 'json_schema',\n",
       " 'mode']"
      ]
     },
     "execution_count": 11,
     "metadata": {},
     "output_type": "execute_result"
    }
   ],
   "source": [
    "GetPydanticSchema("
   ]
  },
  {
   "cell_type": "code",
   "execution_count": null,
   "id": "2a5fd195-9c31-4bc9-b869-b1428e4587ec",
   "metadata": {},
   "outputs": [],
   "source": []
  }
 ],
 "metadata": {
  "kernelspec": {
   "display_name": "Python 3 (ipykernel)",
   "language": "python",
   "name": "python3"
  },
  "language_info": {
   "codemirror_mode": {
    "name": "ipython",
    "version": 3
   },
   "file_extension": ".py",
   "mimetype": "text/x-python",
   "name": "python",
   "nbconvert_exporter": "python",
   "pygments_lexer": "ipython3",
   "version": "3.11.7"
  }
 },
 "nbformat": 4,
 "nbformat_minor": 5
}
