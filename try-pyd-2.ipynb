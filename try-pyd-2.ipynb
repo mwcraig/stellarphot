{
 "cells": [
  {
   "cell_type": "code",
   "execution_count": 1,
   "id": "2ab11e6e-a4f1-4a6c-841f-6fb9dd2d051b",
   "metadata": {},
   "outputs": [
    {
     "ename": "PydanticSchemaGenerationError",
     "evalue": "Unable to generate pydantic-core schema for <class 'astropy.units.core.Unit'>. Set `arbitrary_types_allowed=True` in the model_config to ignore this error or implement `__get_pydantic_core_schema__` on your type to fully support it.\n\nIf you got this error by calling handler(<some type>) within `__get_pydantic_core_schema__` then you likely need to call `handler.generate_schema(<some type>)` since we do not call `__get_pydantic_core_schema__` on `<some type>` otherwise to avoid infinite recursion.\n\nFor further information visit https://errors.pydantic.dev/2.5/u/schema-for-unknown-type",
     "output_type": "error",
     "traceback": [
      "\u001b[0;31m---------------------------------------------------------------------------\u001b[0m",
      "\u001b[0;31mPydanticSchemaGenerationError\u001b[0m             Traceback (most recent call last)",
      "Cell \u001b[0;32mIn[1], line 3\u001b[0m\n\u001b[1;32m      1\u001b[0m \u001b[38;5;28;01mfrom\u001b[39;00m \u001b[38;5;21;01mtyping\u001b[39;00m \u001b[38;5;28;01mimport\u001b[39;00m Annotated\n\u001b[1;32m      2\u001b[0m \u001b[38;5;28;01mfrom\u001b[39;00m \u001b[38;5;21;01mpydantic\u001b[39;00m \u001b[38;5;28;01mimport\u001b[39;00m BaseModel, Field\n\u001b[0;32m----> 3\u001b[0m \u001b[38;5;28;01mfrom\u001b[39;00m \u001b[38;5;21;01mstellarphot\u001b[39;00m\u001b[38;5;21;01m.\u001b[39;00m\u001b[38;5;21;01msettings\u001b[39;00m\u001b[38;5;21;01m.\u001b[39;00m\u001b[38;5;21;01mastropy_pydantic\u001b[39;00m \u001b[38;5;28;01mimport\u001b[39;00m UnitType, QuantityType, PixelScaleType\n\u001b[1;32m      4\u001b[0m \u001b[38;5;28;01mfrom\u001b[39;00m \u001b[38;5;21;01mstellarphot\u001b[39;00m\u001b[38;5;21;01m.\u001b[39;00m\u001b[38;5;21;01msettings\u001b[39;00m \u001b[38;5;28;01mimport\u001b[39;00m Camera\n",
      "File \u001b[0;32m~/development/astronomy/stellarphot/stellarphot/__init__.py:10\u001b[0m\n\u001b[1;32m      6\u001b[0m \u001b[38;5;28;01mfrom\u001b[39;00m \u001b[38;5;21;01m.\u001b[39;00m\u001b[38;5;21;01m_astropy_init\u001b[39;00m \u001b[38;5;28;01mimport\u001b[39;00m \u001b[38;5;241m*\u001b[39m  \u001b[38;5;66;03m# noqa\u001b[39;00m\n\u001b[1;32m      8\u001b[0m \u001b[38;5;66;03m# ----------------------------------------------------------------------------\u001b[39;00m\n\u001b[0;32m---> 10\u001b[0m \u001b[38;5;28;01mfrom\u001b[39;00m \u001b[38;5;21;01m.\u001b[39;00m\u001b[38;5;21;01mcore\u001b[39;00m \u001b[38;5;28;01mimport\u001b[39;00m \u001b[38;5;241m*\u001b[39m\n",
      "File \u001b[0;32m~/development/astronomy/stellarphot/stellarphot/core.py:12\u001b[0m\n\u001b[1;32m      9\u001b[0m \u001b[38;5;28;01mfrom\u001b[39;00m \u001b[38;5;21;01mastropy\u001b[39;00m\u001b[38;5;21;01m.\u001b[39;00m\u001b[38;5;21;01mwcs\u001b[39;00m \u001b[38;5;28;01mimport\u001b[39;00m WCS\n\u001b[1;32m     10\u001b[0m \u001b[38;5;28;01mfrom\u001b[39;00m \u001b[38;5;21;01mastroquery\u001b[39;00m\u001b[38;5;21;01m.\u001b[39;00m\u001b[38;5;21;01mvizier\u001b[39;00m \u001b[38;5;28;01mimport\u001b[39;00m Vizier\n\u001b[0;32m---> 12\u001b[0m \u001b[38;5;28;01mfrom\u001b[39;00m \u001b[38;5;21;01m.\u001b[39;00m\u001b[38;5;21;01msettings\u001b[39;00m \u001b[38;5;28;01mimport\u001b[39;00m Camera\n\u001b[1;32m     14\u001b[0m __all__ \u001b[38;5;241m=\u001b[39m [\n\u001b[1;32m     15\u001b[0m     \u001b[38;5;124m\"\u001b[39m\u001b[38;5;124mBaseEnhancedTable\u001b[39m\u001b[38;5;124m\"\u001b[39m,\n\u001b[1;32m     16\u001b[0m     \u001b[38;5;124m\"\u001b[39m\u001b[38;5;124mPhotometryData\u001b[39m\u001b[38;5;124m\"\u001b[39m,\n\u001b[0;32m   (...)\u001b[0m\n\u001b[1;32m     20\u001b[0m     \u001b[38;5;124m\"\u001b[39m\u001b[38;5;124mSourceListData\u001b[39m\u001b[38;5;124m\"\u001b[39m,\n\u001b[1;32m     21\u001b[0m ]\n\u001b[1;32m     24\u001b[0m \u001b[38;5;28;01mclass\u001b[39;00m \u001b[38;5;21;01mBaseEnhancedTable\u001b[39;00m(QTable):\n",
      "File \u001b[0;32m~/development/astronomy/stellarphot/stellarphot/settings/__init__.py:2\u001b[0m\n\u001b[1;32m      1\u001b[0m \u001b[38;5;28;01mfrom\u001b[39;00m \u001b[38;5;21;01m.\u001b[39;00m\u001b[38;5;21;01mautowidgets\u001b[39;00m \u001b[38;5;28;01mimport\u001b[39;00m \u001b[38;5;241m*\u001b[39m\n\u001b[0;32m----> 2\u001b[0m \u001b[38;5;28;01mfrom\u001b[39;00m \u001b[38;5;21;01m.\u001b[39;00m\u001b[38;5;21;01mmodels\u001b[39;00m \u001b[38;5;28;01mimport\u001b[39;00m \u001b[38;5;241m*\u001b[39m\n\u001b[1;32m      3\u001b[0m \u001b[38;5;28;01mfrom\u001b[39;00m \u001b[38;5;21;01m.\u001b[39;00m\u001b[38;5;21;01mviews\u001b[39;00m \u001b[38;5;28;01mimport\u001b[39;00m \u001b[38;5;241m*\u001b[39m\n",
      "File \u001b[0;32m~/development/astronomy/stellarphot/stellarphot/settings/models.py:28\u001b[0m\n\u001b[1;32m     18\u001b[0m \u001b[38;5;66;03m# Most models should use the default configuration, but it can be customized if needed.\u001b[39;00m\n\u001b[1;32m     19\u001b[0m MODEL_DEFAULT_CONFIGURATION \u001b[38;5;241m=\u001b[39m ConfigDict(\n\u001b[1;32m     20\u001b[0m     \u001b[38;5;66;03m# Make sure default values are valid\u001b[39;00m\n\u001b[1;32m     21\u001b[0m     validate_default \u001b[38;5;241m=\u001b[39m \u001b[38;5;28;01mTrue\u001b[39;00m,\n\u001b[0;32m   (...)\u001b[0m\n\u001b[1;32m     25\u001b[0m     extra \u001b[38;5;241m=\u001b[39m \u001b[38;5;124m\"\u001b[39m\u001b[38;5;124mforbid\u001b[39m\u001b[38;5;124m\"\u001b[39m,\n\u001b[1;32m     26\u001b[0m )\n\u001b[0;32m---> 28\u001b[0m \u001b[38;5;28;43;01mclass\u001b[39;49;00m\u001b[43m \u001b[49m\u001b[38;5;21;43;01mCamera\u001b[39;49;00m\u001b[43m(\u001b[49m\u001b[43mBaseModel\u001b[49m\u001b[43m)\u001b[49m\u001b[43m:\u001b[49m\n\u001b[1;32m     29\u001b[0m \u001b[38;5;250;43m    \u001b[39;49m\u001b[38;5;124;43;03m\"\"\"\u001b[39;49;00m\n\u001b[1;32m     30\u001b[0m \u001b[38;5;124;43;03m    A class to represent a CCD-based camera.\u001b[39;49;00m\n\u001b[1;32m     31\u001b[0m \n\u001b[0;32m   (...)\u001b[0m\n\u001b[1;32m    117\u001b[0m \u001b[38;5;124;43;03m    <Quantity 50000. adu>\u001b[39;49;00m\n\u001b[1;32m    118\u001b[0m \u001b[38;5;124;43;03m    \"\"\"\u001b[39;49;00m\n\u001b[1;32m    119\u001b[0m \u001b[43m    \u001b[49m\u001b[43mmodel_config\u001b[49m\u001b[43m \u001b[49m\u001b[38;5;241;43m=\u001b[39;49m\u001b[43m \u001b[49m\u001b[43mMODEL_DEFAULT_CONFIGURATION\u001b[49m\n",
      "File \u001b[0;32m~/mambaforge/envs/stelldev-pyd2/lib/python3.11/site-packages/pydantic/_internal/_model_construction.py:182\u001b[0m, in \u001b[0;36mModelMetaclass.__new__\u001b[0;34m(mcs, cls_name, bases, namespace, __pydantic_generic_metadata__, __pydantic_reset_parent_namespace__, _create_model_module, **kwargs)\u001b[0m\n\u001b[1;32m    180\u001b[0m types_namespace \u001b[38;5;241m=\u001b[39m get_cls_types_namespace(\u001b[38;5;28mcls\u001b[39m, parent_namespace)\n\u001b[1;32m    181\u001b[0m set_model_fields(\u001b[38;5;28mcls\u001b[39m, bases, config_wrapper, types_namespace)\n\u001b[0;32m--> 182\u001b[0m \u001b[43mcomplete_model_class\u001b[49m\u001b[43m(\u001b[49m\n\u001b[1;32m    183\u001b[0m \u001b[43m    \u001b[49m\u001b[38;5;28;43mcls\u001b[39;49m\u001b[43m,\u001b[49m\n\u001b[1;32m    184\u001b[0m \u001b[43m    \u001b[49m\u001b[43mcls_name\u001b[49m\u001b[43m,\u001b[49m\n\u001b[1;32m    185\u001b[0m \u001b[43m    \u001b[49m\u001b[43mconfig_wrapper\u001b[49m\u001b[43m,\u001b[49m\n\u001b[1;32m    186\u001b[0m \u001b[43m    \u001b[49m\u001b[43mraise_errors\u001b[49m\u001b[38;5;241;43m=\u001b[39;49m\u001b[38;5;28;43;01mFalse\u001b[39;49;00m\u001b[43m,\u001b[49m\n\u001b[1;32m    187\u001b[0m \u001b[43m    \u001b[49m\u001b[43mtypes_namespace\u001b[49m\u001b[38;5;241;43m=\u001b[39;49m\u001b[43mtypes_namespace\u001b[49m\u001b[43m,\u001b[49m\n\u001b[1;32m    188\u001b[0m \u001b[43m    \u001b[49m\u001b[43mcreate_model_module\u001b[49m\u001b[38;5;241;43m=\u001b[39;49m\u001b[43m_create_model_module\u001b[49m\u001b[43m,\u001b[49m\n\u001b[1;32m    189\u001b[0m \u001b[43m\u001b[49m\u001b[43m)\u001b[49m\n\u001b[1;32m    190\u001b[0m \u001b[38;5;66;03m# using super(cls, cls) on the next line ensures we only call the parent class's __pydantic_init_subclass__\u001b[39;00m\n\u001b[1;32m    191\u001b[0m \u001b[38;5;66;03m# I believe the `type: ignore` is only necessary because mypy doesn't realize that this code branch is\u001b[39;00m\n\u001b[1;32m    192\u001b[0m \u001b[38;5;66;03m# only hit for _proper_ subclasses of BaseModel\u001b[39;00m\n\u001b[1;32m    193\u001b[0m \u001b[38;5;28msuper\u001b[39m(\u001b[38;5;28mcls\u001b[39m, \u001b[38;5;28mcls\u001b[39m)\u001b[38;5;241m.\u001b[39m__pydantic_init_subclass__(\u001b[38;5;241m*\u001b[39m\u001b[38;5;241m*\u001b[39mkwargs)  \u001b[38;5;66;03m# type: ignore[misc]\u001b[39;00m\n",
      "File \u001b[0;32m~/mambaforge/envs/stelldev-pyd2/lib/python3.11/site-packages/pydantic/_internal/_model_construction.py:491\u001b[0m, in \u001b[0;36mcomplete_model_class\u001b[0;34m(cls, cls_name, config_wrapper, raise_errors, types_namespace, create_model_module)\u001b[0m\n\u001b[1;32m    488\u001b[0m     \u001b[38;5;28;01mreturn\u001b[39;00m \u001b[38;5;28;01mFalse\u001b[39;00m\n\u001b[1;32m    490\u001b[0m \u001b[38;5;28;01mtry\u001b[39;00m:\n\u001b[0;32m--> 491\u001b[0m     schema \u001b[38;5;241m=\u001b[39m \u001b[38;5;28;43mcls\u001b[39;49m\u001b[38;5;241;43m.\u001b[39;49m\u001b[43m__get_pydantic_core_schema__\u001b[49m\u001b[43m(\u001b[49m\u001b[38;5;28;43mcls\u001b[39;49m\u001b[43m,\u001b[49m\u001b[43m \u001b[49m\u001b[43mhandler\u001b[49m\u001b[43m)\u001b[49m\n\u001b[1;32m    492\u001b[0m \u001b[38;5;28;01mexcept\u001b[39;00m PydanticUndefinedAnnotation \u001b[38;5;28;01mas\u001b[39;00m e:\n\u001b[1;32m    493\u001b[0m     \u001b[38;5;28;01mif\u001b[39;00m raise_errors:\n",
      "File \u001b[0;32m~/mambaforge/envs/stelldev-pyd2/lib/python3.11/site-packages/pydantic/main.py:578\u001b[0m, in \u001b[0;36mBaseModel.__get_pydantic_core_schema__\u001b[0;34m(cls, _BaseModel__source, _BaseModel__handler)\u001b[0m\n\u001b[1;32m    575\u001b[0m     \u001b[38;5;28;01mif\u001b[39;00m \u001b[38;5;129;01mnot\u001b[39;00m \u001b[38;5;28mcls\u001b[39m\u001b[38;5;241m.\u001b[39m__pydantic_generic_metadata__[\u001b[38;5;124m'\u001b[39m\u001b[38;5;124morigin\u001b[39m\u001b[38;5;124m'\u001b[39m]:\n\u001b[1;32m    576\u001b[0m         \u001b[38;5;28;01mreturn\u001b[39;00m \u001b[38;5;28mcls\u001b[39m\u001b[38;5;241m.\u001b[39m__pydantic_core_schema__\n\u001b[0;32m--> 578\u001b[0m \u001b[38;5;28;01mreturn\u001b[39;00m \u001b[43m__handler\u001b[49m\u001b[43m(\u001b[49m\u001b[43m__source\u001b[49m\u001b[43m)\u001b[49m\n",
      "File \u001b[0;32m~/mambaforge/envs/stelldev-pyd2/lib/python3.11/site-packages/pydantic/_internal/_schema_generation_shared.py:82\u001b[0m, in \u001b[0;36mCallbackGetCoreSchemaHandler.__call__\u001b[0;34m(self, _CallbackGetCoreSchemaHandler__source_type)\u001b[0m\n\u001b[1;32m     81\u001b[0m \u001b[38;5;28;01mdef\u001b[39;00m \u001b[38;5;21m__call__\u001b[39m(\u001b[38;5;28mself\u001b[39m, __source_type: Any) \u001b[38;5;241m-\u001b[39m\u001b[38;5;241m>\u001b[39m core_schema\u001b[38;5;241m.\u001b[39mCoreSchema:\n\u001b[0;32m---> 82\u001b[0m     schema \u001b[38;5;241m=\u001b[39m \u001b[38;5;28;43mself\u001b[39;49m\u001b[38;5;241;43m.\u001b[39;49m\u001b[43m_handler\u001b[49m\u001b[43m(\u001b[49m\u001b[43m__source_type\u001b[49m\u001b[43m)\u001b[49m\n\u001b[1;32m     83\u001b[0m     ref \u001b[38;5;241m=\u001b[39m schema\u001b[38;5;241m.\u001b[39mget(\u001b[38;5;124m'\u001b[39m\u001b[38;5;124mref\u001b[39m\u001b[38;5;124m'\u001b[39m)\n\u001b[1;32m     84\u001b[0m     \u001b[38;5;28;01mif\u001b[39;00m \u001b[38;5;28mself\u001b[39m\u001b[38;5;241m.\u001b[39m_ref_mode \u001b[38;5;241m==\u001b[39m \u001b[38;5;124m'\u001b[39m\u001b[38;5;124mto-def\u001b[39m\u001b[38;5;124m'\u001b[39m:\n",
      "File \u001b[0;32m~/mambaforge/envs/stelldev-pyd2/lib/python3.11/site-packages/pydantic/_internal/_generate_schema.py:468\u001b[0m, in \u001b[0;36mGenerateSchema.generate_schema\u001b[0;34m(self, obj, from_dunder_get_core_schema)\u001b[0m\n\u001b[1;32m    465\u001b[0m         schema \u001b[38;5;241m=\u001b[39m from_property\n\u001b[1;32m    467\u001b[0m \u001b[38;5;28;01mif\u001b[39;00m schema \u001b[38;5;129;01mis\u001b[39;00m \u001b[38;5;28;01mNone\u001b[39;00m:\n\u001b[0;32m--> 468\u001b[0m     schema \u001b[38;5;241m=\u001b[39m \u001b[38;5;28;43mself\u001b[39;49m\u001b[38;5;241;43m.\u001b[39;49m\u001b[43m_generate_schema\u001b[49m\u001b[43m(\u001b[49m\u001b[43mobj\u001b[49m\u001b[43m)\u001b[49m\n\u001b[1;32m    470\u001b[0m metadata_js_function \u001b[38;5;241m=\u001b[39m _extract_get_pydantic_json_schema(obj, schema)\n\u001b[1;32m    471\u001b[0m \u001b[38;5;28;01mif\u001b[39;00m metadata_js_function \u001b[38;5;129;01mis\u001b[39;00m \u001b[38;5;129;01mnot\u001b[39;00m \u001b[38;5;28;01mNone\u001b[39;00m:\n",
      "File \u001b[0;32m~/mambaforge/envs/stelldev-pyd2/lib/python3.11/site-packages/pydantic/_internal/_generate_schema.py:700\u001b[0m, in \u001b[0;36mGenerateSchema._generate_schema\u001b[0;34m(self, obj)\u001b[0m\n\u001b[1;32m    698\u001b[0m needs_apply_discriminated_union \u001b[38;5;241m=\u001b[39m \u001b[38;5;28mself\u001b[39m\u001b[38;5;241m.\u001b[39m_needs_apply_discriminated_union\n\u001b[1;32m    699\u001b[0m \u001b[38;5;28mself\u001b[39m\u001b[38;5;241m.\u001b[39m_needs_apply_discriminated_union \u001b[38;5;241m=\u001b[39m \u001b[38;5;28;01mFalse\u001b[39;00m\n\u001b[0;32m--> 700\u001b[0m schema \u001b[38;5;241m=\u001b[39m \u001b[38;5;28mself\u001b[39m\u001b[38;5;241m.\u001b[39m_post_process_generated_schema(\u001b[38;5;28;43mself\u001b[39;49m\u001b[38;5;241;43m.\u001b[39;49m\u001b[43m_generate_schema_inner\u001b[49m\u001b[43m(\u001b[49m\u001b[43mobj\u001b[49m\u001b[43m)\u001b[49m)\n\u001b[1;32m    701\u001b[0m \u001b[38;5;28mself\u001b[39m\u001b[38;5;241m.\u001b[39m_has_invalid_schema \u001b[38;5;241m=\u001b[39m \u001b[38;5;28mself\u001b[39m\u001b[38;5;241m.\u001b[39m_has_invalid_schema \u001b[38;5;129;01mor\u001b[39;00m has_invalid_schema\n\u001b[1;32m    702\u001b[0m \u001b[38;5;28mself\u001b[39m\u001b[38;5;241m.\u001b[39m_needs_apply_discriminated_union \u001b[38;5;241m=\u001b[39m \u001b[38;5;28mself\u001b[39m\u001b[38;5;241m.\u001b[39m_needs_apply_discriminated_union \u001b[38;5;129;01mor\u001b[39;00m needs_apply_discriminated_union\n",
      "File \u001b[0;32m~/mambaforge/envs/stelldev-pyd2/lib/python3.11/site-packages/pydantic/_internal/_generate_schema.py:722\u001b[0m, in \u001b[0;36mGenerateSchema._generate_schema_inner\u001b[0;34m(self, obj)\u001b[0m\n\u001b[1;32m    719\u001b[0m \u001b[38;5;28;01mfrom\u001b[39;00m \u001b[38;5;21;01m.\u001b[39;00m\u001b[38;5;21;01m.\u001b[39;00m\u001b[38;5;21;01mmain\u001b[39;00m \u001b[38;5;28;01mimport\u001b[39;00m BaseModel\n\u001b[1;32m    721\u001b[0m \u001b[38;5;28;01mif\u001b[39;00m lenient_issubclass(obj, BaseModel):\n\u001b[0;32m--> 722\u001b[0m     \u001b[38;5;28;01mreturn\u001b[39;00m \u001b[38;5;28;43mself\u001b[39;49m\u001b[38;5;241;43m.\u001b[39;49m\u001b[43m_model_schema\u001b[49m\u001b[43m(\u001b[49m\u001b[43mobj\u001b[49m\u001b[43m)\u001b[49m\n\u001b[1;32m    724\u001b[0m \u001b[38;5;28;01mif\u001b[39;00m \u001b[38;5;28misinstance\u001b[39m(obj, PydanticRecursiveRef):\n\u001b[1;32m    725\u001b[0m     \u001b[38;5;28;01mreturn\u001b[39;00m core_schema\u001b[38;5;241m.\u001b[39mdefinition_reference_schema(schema_ref\u001b[38;5;241m=\u001b[39mobj\u001b[38;5;241m.\u001b[39mtype_ref)\n",
      "File \u001b[0;32m~/mambaforge/envs/stelldev-pyd2/lib/python3.11/site-packages/pydantic/_internal/_generate_schema.py:541\u001b[0m, in \u001b[0;36mGenerateSchema._model_schema\u001b[0;34m(self, cls)\u001b[0m\n\u001b[1;32m    529\u001b[0m     model_schema \u001b[38;5;241m=\u001b[39m core_schema\u001b[38;5;241m.\u001b[39mmodel_schema(\n\u001b[1;32m    530\u001b[0m         \u001b[38;5;28mcls\u001b[39m,\n\u001b[1;32m    531\u001b[0m         inner_schema,\n\u001b[0;32m   (...)\u001b[0m\n\u001b[1;32m    537\u001b[0m         metadata\u001b[38;5;241m=\u001b[39mmetadata,\n\u001b[1;32m    538\u001b[0m     )\n\u001b[1;32m    539\u001b[0m \u001b[38;5;28;01melse\u001b[39;00m:\n\u001b[1;32m    540\u001b[0m     fields_schema: core_schema\u001b[38;5;241m.\u001b[39mCoreSchema \u001b[38;5;241m=\u001b[39m core_schema\u001b[38;5;241m.\u001b[39mmodel_fields_schema(\n\u001b[0;32m--> 541\u001b[0m         \u001b[43m{\u001b[49m\u001b[43mk\u001b[49m\u001b[43m:\u001b[49m\u001b[43m \u001b[49m\u001b[38;5;28;43mself\u001b[39;49m\u001b[38;5;241;43m.\u001b[39;49m\u001b[43m_generate_md_field_schema\u001b[49m\u001b[43m(\u001b[49m\u001b[43mk\u001b[49m\u001b[43m,\u001b[49m\u001b[43m \u001b[49m\u001b[43mv\u001b[49m\u001b[43m,\u001b[49m\u001b[43m \u001b[49m\u001b[43mdecorators\u001b[49m\u001b[43m)\u001b[49m\u001b[43m \u001b[49m\u001b[38;5;28;43;01mfor\u001b[39;49;00m\u001b[43m \u001b[49m\u001b[43mk\u001b[49m\u001b[43m,\u001b[49m\u001b[43m \u001b[49m\u001b[43mv\u001b[49m\u001b[43m \u001b[49m\u001b[38;5;129;43;01min\u001b[39;49;00m\u001b[43m \u001b[49m\u001b[43mfields\u001b[49m\u001b[38;5;241;43m.\u001b[39;49m\u001b[43mitems\u001b[49m\u001b[43m(\u001b[49m\u001b[43m)\u001b[49m\u001b[43m}\u001b[49m,\n\u001b[1;32m    542\u001b[0m         computed_fields\u001b[38;5;241m=\u001b[39m[\n\u001b[1;32m    543\u001b[0m             \u001b[38;5;28mself\u001b[39m\u001b[38;5;241m.\u001b[39m_computed_field_schema(d, decorators\u001b[38;5;241m.\u001b[39mfield_serializers)\n\u001b[1;32m    544\u001b[0m             \u001b[38;5;28;01mfor\u001b[39;00m d \u001b[38;5;129;01min\u001b[39;00m computed_fields\u001b[38;5;241m.\u001b[39mvalues()\n\u001b[1;32m    545\u001b[0m         ],\n\u001b[1;32m    546\u001b[0m         extras_schema\u001b[38;5;241m=\u001b[39mextras_schema,\n\u001b[1;32m    547\u001b[0m         model_name\u001b[38;5;241m=\u001b[39m\u001b[38;5;28mcls\u001b[39m\u001b[38;5;241m.\u001b[39m\u001b[38;5;18m__name__\u001b[39m,\n\u001b[1;32m    548\u001b[0m     )\n\u001b[1;32m    549\u001b[0m     inner_schema \u001b[38;5;241m=\u001b[39m apply_validators(fields_schema, decorators\u001b[38;5;241m.\u001b[39mroot_validators\u001b[38;5;241m.\u001b[39mvalues(), \u001b[38;5;28;01mNone\u001b[39;00m)\n\u001b[1;32m    550\u001b[0m     new_inner_schema \u001b[38;5;241m=\u001b[39m define_expected_missing_refs(inner_schema, recursively_defined_type_refs())\n",
      "File \u001b[0;32m~/mambaforge/envs/stelldev-pyd2/lib/python3.11/site-packages/pydantic/_internal/_generate_schema.py:541\u001b[0m, in \u001b[0;36m<dictcomp>\u001b[0;34m(.0)\u001b[0m\n\u001b[1;32m    529\u001b[0m     model_schema \u001b[38;5;241m=\u001b[39m core_schema\u001b[38;5;241m.\u001b[39mmodel_schema(\n\u001b[1;32m    530\u001b[0m         \u001b[38;5;28mcls\u001b[39m,\n\u001b[1;32m    531\u001b[0m         inner_schema,\n\u001b[0;32m   (...)\u001b[0m\n\u001b[1;32m    537\u001b[0m         metadata\u001b[38;5;241m=\u001b[39mmetadata,\n\u001b[1;32m    538\u001b[0m     )\n\u001b[1;32m    539\u001b[0m \u001b[38;5;28;01melse\u001b[39;00m:\n\u001b[1;32m    540\u001b[0m     fields_schema: core_schema\u001b[38;5;241m.\u001b[39mCoreSchema \u001b[38;5;241m=\u001b[39m core_schema\u001b[38;5;241m.\u001b[39mmodel_fields_schema(\n\u001b[0;32m--> 541\u001b[0m         {k: \u001b[38;5;28;43mself\u001b[39;49m\u001b[38;5;241;43m.\u001b[39;49m\u001b[43m_generate_md_field_schema\u001b[49m\u001b[43m(\u001b[49m\u001b[43mk\u001b[49m\u001b[43m,\u001b[49m\u001b[43m \u001b[49m\u001b[43mv\u001b[49m\u001b[43m,\u001b[49m\u001b[43m \u001b[49m\u001b[43mdecorators\u001b[49m\u001b[43m)\u001b[49m \u001b[38;5;28;01mfor\u001b[39;00m k, v \u001b[38;5;129;01min\u001b[39;00m fields\u001b[38;5;241m.\u001b[39mitems()},\n\u001b[1;32m    542\u001b[0m         computed_fields\u001b[38;5;241m=\u001b[39m[\n\u001b[1;32m    543\u001b[0m             \u001b[38;5;28mself\u001b[39m\u001b[38;5;241m.\u001b[39m_computed_field_schema(d, decorators\u001b[38;5;241m.\u001b[39mfield_serializers)\n\u001b[1;32m    544\u001b[0m             \u001b[38;5;28;01mfor\u001b[39;00m d \u001b[38;5;129;01min\u001b[39;00m computed_fields\u001b[38;5;241m.\u001b[39mvalues()\n\u001b[1;32m    545\u001b[0m         ],\n\u001b[1;32m    546\u001b[0m         extras_schema\u001b[38;5;241m=\u001b[39mextras_schema,\n\u001b[1;32m    547\u001b[0m         model_name\u001b[38;5;241m=\u001b[39m\u001b[38;5;28mcls\u001b[39m\u001b[38;5;241m.\u001b[39m\u001b[38;5;18m__name__\u001b[39m,\n\u001b[1;32m    548\u001b[0m     )\n\u001b[1;32m    549\u001b[0m     inner_schema \u001b[38;5;241m=\u001b[39m apply_validators(fields_schema, decorators\u001b[38;5;241m.\u001b[39mroot_validators\u001b[38;5;241m.\u001b[39mvalues(), \u001b[38;5;28;01mNone\u001b[39;00m)\n\u001b[1;32m    550\u001b[0m     new_inner_schema \u001b[38;5;241m=\u001b[39m define_expected_missing_refs(inner_schema, recursively_defined_type_refs())\n",
      "File \u001b[0;32m~/mambaforge/envs/stelldev-pyd2/lib/python3.11/site-packages/pydantic/_internal/_generate_schema.py:886\u001b[0m, in \u001b[0;36mGenerateSchema._generate_md_field_schema\u001b[0;34m(self, name, field_info, decorators)\u001b[0m\n\u001b[1;32m    879\u001b[0m \u001b[38;5;28;01mdef\u001b[39;00m \u001b[38;5;21m_generate_md_field_schema\u001b[39m(\n\u001b[1;32m    880\u001b[0m     \u001b[38;5;28mself\u001b[39m,\n\u001b[1;32m    881\u001b[0m     name: \u001b[38;5;28mstr\u001b[39m,\n\u001b[1;32m    882\u001b[0m     field_info: FieldInfo,\n\u001b[1;32m    883\u001b[0m     decorators: DecoratorInfos,\n\u001b[1;32m    884\u001b[0m ) \u001b[38;5;241m-\u001b[39m\u001b[38;5;241m>\u001b[39m core_schema\u001b[38;5;241m.\u001b[39mModelField:\n\u001b[1;32m    885\u001b[0m \u001b[38;5;250m    \u001b[39m\u001b[38;5;124;03m\"\"\"Prepare a ModelField to represent a model field.\"\"\"\u001b[39;00m\n\u001b[0;32m--> 886\u001b[0m     common_field \u001b[38;5;241m=\u001b[39m \u001b[38;5;28;43mself\u001b[39;49m\u001b[38;5;241;43m.\u001b[39;49m\u001b[43m_common_field_schema\u001b[49m\u001b[43m(\u001b[49m\u001b[43mname\u001b[49m\u001b[43m,\u001b[49m\u001b[43m \u001b[49m\u001b[43mfield_info\u001b[49m\u001b[43m,\u001b[49m\u001b[43m \u001b[49m\u001b[43mdecorators\u001b[49m\u001b[43m)\u001b[49m\n\u001b[1;32m    887\u001b[0m     \u001b[38;5;28;01mreturn\u001b[39;00m core_schema\u001b[38;5;241m.\u001b[39mmodel_field(\n\u001b[1;32m    888\u001b[0m         common_field[\u001b[38;5;124m'\u001b[39m\u001b[38;5;124mschema\u001b[39m\u001b[38;5;124m'\u001b[39m],\n\u001b[1;32m    889\u001b[0m         serialization_exclude\u001b[38;5;241m=\u001b[39mcommon_field[\u001b[38;5;124m'\u001b[39m\u001b[38;5;124mserialization_exclude\u001b[39m\u001b[38;5;124m'\u001b[39m],\n\u001b[0;32m   (...)\u001b[0m\n\u001b[1;32m    893\u001b[0m         metadata\u001b[38;5;241m=\u001b[39mcommon_field[\u001b[38;5;124m'\u001b[39m\u001b[38;5;124mmetadata\u001b[39m\u001b[38;5;124m'\u001b[39m],\n\u001b[1;32m    894\u001b[0m     )\n",
      "File \u001b[0;32m~/mambaforge/envs/stelldev-pyd2/lib/python3.11/site-packages/pydantic/_internal/_generate_schema.py:951\u001b[0m, in \u001b[0;36mGenerateSchema._common_field_schema\u001b[0;34m(self, name, field_info, decorators)\u001b[0m\n\u001b[1;32m    949\u001b[0m         schema \u001b[38;5;241m=\u001b[39m \u001b[38;5;28mself\u001b[39m\u001b[38;5;241m.\u001b[39m_apply_annotations(source_type, annotations, transform_inner_schema\u001b[38;5;241m=\u001b[39mset_discriminator)\n\u001b[1;32m    950\u001b[0m     \u001b[38;5;28;01melse\u001b[39;00m:\n\u001b[0;32m--> 951\u001b[0m         schema \u001b[38;5;241m=\u001b[39m \u001b[38;5;28;43mself\u001b[39;49m\u001b[38;5;241;43m.\u001b[39;49m\u001b[43m_apply_annotations\u001b[49m\u001b[43m(\u001b[49m\n\u001b[1;32m    952\u001b[0m \u001b[43m            \u001b[49m\u001b[43msource_type\u001b[49m\u001b[43m,\u001b[49m\n\u001b[1;32m    953\u001b[0m \u001b[43m            \u001b[49m\u001b[43mannotations\u001b[49m\u001b[43m,\u001b[49m\n\u001b[1;32m    954\u001b[0m \u001b[43m        \u001b[49m\u001b[43m)\u001b[49m\n\u001b[1;32m    956\u001b[0m \u001b[38;5;66;03m# This V1 compatibility shim should eventually be removed\u001b[39;00m\n\u001b[1;32m    957\u001b[0m \u001b[38;5;66;03m# push down any `each_item=True` validators\u001b[39;00m\n\u001b[1;32m    958\u001b[0m \u001b[38;5;66;03m# note that this won't work for any Annotated types that get wrapped by a function validator\u001b[39;00m\n\u001b[1;32m    959\u001b[0m \u001b[38;5;66;03m# but that's okay because that didn't exist in V1\u001b[39;00m\n\u001b[1;32m    960\u001b[0m this_field_validators \u001b[38;5;241m=\u001b[39m filter_field_decorator_info_by_field(decorators\u001b[38;5;241m.\u001b[39mvalidators\u001b[38;5;241m.\u001b[39mvalues(), name)\n",
      "File \u001b[0;32m~/mambaforge/envs/stelldev-pyd2/lib/python3.11/site-packages/pydantic/_internal/_generate_schema.py:1654\u001b[0m, in \u001b[0;36mGenerateSchema._apply_annotations\u001b[0;34m(self, source_type, annotations, transform_inner_schema)\u001b[0m\n\u001b[1;32m   1649\u001b[0m         \u001b[38;5;28;01mcontinue\u001b[39;00m\n\u001b[1;32m   1650\u001b[0m     get_inner_schema \u001b[38;5;241m=\u001b[39m \u001b[38;5;28mself\u001b[39m\u001b[38;5;241m.\u001b[39m_get_wrapped_inner_schema(\n\u001b[1;32m   1651\u001b[0m         get_inner_schema, annotation, pydantic_js_annotation_functions\n\u001b[1;32m   1652\u001b[0m     )\n\u001b[0;32m-> 1654\u001b[0m schema \u001b[38;5;241m=\u001b[39m \u001b[43mget_inner_schema\u001b[49m\u001b[43m(\u001b[49m\u001b[43msource_type\u001b[49m\u001b[43m)\u001b[49m\n\u001b[1;32m   1655\u001b[0m \u001b[38;5;28;01mif\u001b[39;00m pydantic_js_annotation_functions:\n\u001b[1;32m   1656\u001b[0m     metadata \u001b[38;5;241m=\u001b[39m CoreMetadataHandler(schema)\u001b[38;5;241m.\u001b[39mmetadata\n",
      "File \u001b[0;32m~/mambaforge/envs/stelldev-pyd2/lib/python3.11/site-packages/pydantic/_internal/_schema_generation_shared.py:82\u001b[0m, in \u001b[0;36mCallbackGetCoreSchemaHandler.__call__\u001b[0;34m(self, _CallbackGetCoreSchemaHandler__source_type)\u001b[0m\n\u001b[1;32m     81\u001b[0m \u001b[38;5;28;01mdef\u001b[39;00m \u001b[38;5;21m__call__\u001b[39m(\u001b[38;5;28mself\u001b[39m, __source_type: Any) \u001b[38;5;241m-\u001b[39m\u001b[38;5;241m>\u001b[39m core_schema\u001b[38;5;241m.\u001b[39mCoreSchema:\n\u001b[0;32m---> 82\u001b[0m     schema \u001b[38;5;241m=\u001b[39m \u001b[38;5;28;43mself\u001b[39;49m\u001b[38;5;241;43m.\u001b[39;49m\u001b[43m_handler\u001b[49m\u001b[43m(\u001b[49m\u001b[43m__source_type\u001b[49m\u001b[43m)\u001b[49m\n\u001b[1;32m     83\u001b[0m     ref \u001b[38;5;241m=\u001b[39m schema\u001b[38;5;241m.\u001b[39mget(\u001b[38;5;124m'\u001b[39m\u001b[38;5;124mref\u001b[39m\u001b[38;5;124m'\u001b[39m)\n\u001b[1;32m     84\u001b[0m     \u001b[38;5;28;01mif\u001b[39;00m \u001b[38;5;28mself\u001b[39m\u001b[38;5;241m.\u001b[39m_ref_mode \u001b[38;5;241m==\u001b[39m \u001b[38;5;124m'\u001b[39m\u001b[38;5;124mto-def\u001b[39m\u001b[38;5;124m'\u001b[39m:\n",
      "File \u001b[0;32m~/mambaforge/envs/stelldev-pyd2/lib/python3.11/site-packages/pydantic/_internal/_generate_schema.py:1635\u001b[0m, in \u001b[0;36mGenerateSchema._apply_annotations.<locals>.inner_handler\u001b[0;34m(obj)\u001b[0m\n\u001b[1;32m   1633\u001b[0m from_property \u001b[38;5;241m=\u001b[39m \u001b[38;5;28mself\u001b[39m\u001b[38;5;241m.\u001b[39m_generate_schema_from_property(obj, obj)\n\u001b[1;32m   1634\u001b[0m \u001b[38;5;28;01mif\u001b[39;00m from_property \u001b[38;5;129;01mis\u001b[39;00m \u001b[38;5;28;01mNone\u001b[39;00m:\n\u001b[0;32m-> 1635\u001b[0m     schema \u001b[38;5;241m=\u001b[39m \u001b[38;5;28;43mself\u001b[39;49m\u001b[38;5;241;43m.\u001b[39;49m\u001b[43m_generate_schema\u001b[49m\u001b[43m(\u001b[49m\u001b[43mobj\u001b[49m\u001b[43m)\u001b[49m\n\u001b[1;32m   1636\u001b[0m \u001b[38;5;28;01melse\u001b[39;00m:\n\u001b[1;32m   1637\u001b[0m     schema \u001b[38;5;241m=\u001b[39m from_property\n",
      "File \u001b[0;32m~/mambaforge/envs/stelldev-pyd2/lib/python3.11/site-packages/pydantic/_internal/_generate_schema.py:700\u001b[0m, in \u001b[0;36mGenerateSchema._generate_schema\u001b[0;34m(self, obj)\u001b[0m\n\u001b[1;32m    698\u001b[0m needs_apply_discriminated_union \u001b[38;5;241m=\u001b[39m \u001b[38;5;28mself\u001b[39m\u001b[38;5;241m.\u001b[39m_needs_apply_discriminated_union\n\u001b[1;32m    699\u001b[0m \u001b[38;5;28mself\u001b[39m\u001b[38;5;241m.\u001b[39m_needs_apply_discriminated_union \u001b[38;5;241m=\u001b[39m \u001b[38;5;28;01mFalse\u001b[39;00m\n\u001b[0;32m--> 700\u001b[0m schema \u001b[38;5;241m=\u001b[39m \u001b[38;5;28mself\u001b[39m\u001b[38;5;241m.\u001b[39m_post_process_generated_schema(\u001b[38;5;28;43mself\u001b[39;49m\u001b[38;5;241;43m.\u001b[39;49m\u001b[43m_generate_schema_inner\u001b[49m\u001b[43m(\u001b[49m\u001b[43mobj\u001b[49m\u001b[43m)\u001b[49m)\n\u001b[1;32m    701\u001b[0m \u001b[38;5;28mself\u001b[39m\u001b[38;5;241m.\u001b[39m_has_invalid_schema \u001b[38;5;241m=\u001b[39m \u001b[38;5;28mself\u001b[39m\u001b[38;5;241m.\u001b[39m_has_invalid_schema \u001b[38;5;129;01mor\u001b[39;00m has_invalid_schema\n\u001b[1;32m    702\u001b[0m \u001b[38;5;28mself\u001b[39m\u001b[38;5;241m.\u001b[39m_needs_apply_discriminated_union \u001b[38;5;241m=\u001b[39m \u001b[38;5;28mself\u001b[39m\u001b[38;5;241m.\u001b[39m_needs_apply_discriminated_union \u001b[38;5;129;01mor\u001b[39;00m needs_apply_discriminated_union\n",
      "File \u001b[0;32m~/mambaforge/envs/stelldev-pyd2/lib/python3.11/site-packages/pydantic/_internal/_generate_schema.py:727\u001b[0m, in \u001b[0;36mGenerateSchema._generate_schema_inner\u001b[0;34m(self, obj)\u001b[0m\n\u001b[1;32m    724\u001b[0m \u001b[38;5;28;01mif\u001b[39;00m \u001b[38;5;28misinstance\u001b[39m(obj, PydanticRecursiveRef):\n\u001b[1;32m    725\u001b[0m     \u001b[38;5;28;01mreturn\u001b[39;00m core_schema\u001b[38;5;241m.\u001b[39mdefinition_reference_schema(schema_ref\u001b[38;5;241m=\u001b[39mobj\u001b[38;5;241m.\u001b[39mtype_ref)\n\u001b[0;32m--> 727\u001b[0m \u001b[38;5;28;01mreturn\u001b[39;00m \u001b[38;5;28;43mself\u001b[39;49m\u001b[38;5;241;43m.\u001b[39;49m\u001b[43mmatch_type\u001b[49m\u001b[43m(\u001b[49m\u001b[43mobj\u001b[49m\u001b[43m)\u001b[49m\n",
      "File \u001b[0;32m~/mambaforge/envs/stelldev-pyd2/lib/python3.11/site-packages/pydantic/_internal/_generate_schema.py:767\u001b[0m, in \u001b[0;36mGenerateSchema.match_type\u001b[0;34m(self, obj)\u001b[0m\n\u001b[1;32m    765\u001b[0m     \u001b[38;5;28;01mreturn\u001b[39;00m \u001b[38;5;28mself\u001b[39m\u001b[38;5;241m.\u001b[39m_dict_schema(obj, \u001b[38;5;241m*\u001b[39m\u001b[38;5;28mself\u001b[39m\u001b[38;5;241m.\u001b[39m_get_first_two_args_or_any(obj))\n\u001b[1;32m    766\u001b[0m \u001b[38;5;28;01melif\u001b[39;00m \u001b[38;5;28misinstance\u001b[39m(obj, TypeAliasType):\n\u001b[0;32m--> 767\u001b[0m     \u001b[38;5;28;01mreturn\u001b[39;00m \u001b[38;5;28;43mself\u001b[39;49m\u001b[38;5;241;43m.\u001b[39;49m\u001b[43m_type_alias_type_schema\u001b[49m\u001b[43m(\u001b[49m\u001b[43mobj\u001b[49m\u001b[43m)\u001b[49m\n\u001b[1;32m    768\u001b[0m \u001b[38;5;28;01melif\u001b[39;00m obj \u001b[38;5;241m==\u001b[39m \u001b[38;5;28mtype\u001b[39m:\n\u001b[1;32m    769\u001b[0m     \u001b[38;5;28;01mreturn\u001b[39;00m \u001b[38;5;28mself\u001b[39m\u001b[38;5;241m.\u001b[39m_type_schema()\n",
      "File \u001b[0;32m~/mambaforge/envs/stelldev-pyd2/lib/python3.11/site-packages/pydantic/_internal/_generate_schema.py:1075\u001b[0m, in \u001b[0;36mGenerateSchema._type_alias_type_schema\u001b[0;34m(self, obj)\u001b[0m\n\u001b[1;32m   1073\u001b[0m annotation \u001b[38;5;241m=\u001b[39m _typing_extra\u001b[38;5;241m.\u001b[39meval_type_lenient(annotation, \u001b[38;5;28mself\u001b[39m\u001b[38;5;241m.\u001b[39m_types_namespace, \u001b[38;5;28;01mNone\u001b[39;00m)\n\u001b[1;32m   1074\u001b[0m annotation \u001b[38;5;241m=\u001b[39m replace_types(annotation, typevars_map)\n\u001b[0;32m-> 1075\u001b[0m schema \u001b[38;5;241m=\u001b[39m \u001b[38;5;28;43mself\u001b[39;49m\u001b[38;5;241;43m.\u001b[39;49m\u001b[43mgenerate_schema\u001b[49m\u001b[43m(\u001b[49m\u001b[43mannotation\u001b[49m\u001b[43m)\u001b[49m\n\u001b[1;32m   1076\u001b[0m \u001b[38;5;28;01massert\u001b[39;00m schema[\u001b[38;5;124m'\u001b[39m\u001b[38;5;124mtype\u001b[39m\u001b[38;5;124m'\u001b[39m] \u001b[38;5;241m!=\u001b[39m \u001b[38;5;124m'\u001b[39m\u001b[38;5;124mdefinitions\u001b[39m\u001b[38;5;124m'\u001b[39m\n\u001b[1;32m   1077\u001b[0m schema[\u001b[38;5;124m'\u001b[39m\u001b[38;5;124mref\u001b[39m\u001b[38;5;124m'\u001b[39m] \u001b[38;5;241m=\u001b[39m ref  \u001b[38;5;66;03m# type: ignore\u001b[39;00m\n",
      "File \u001b[0;32m~/mambaforge/envs/stelldev-pyd2/lib/python3.11/site-packages/pydantic/_internal/_generate_schema.py:468\u001b[0m, in \u001b[0;36mGenerateSchema.generate_schema\u001b[0;34m(self, obj, from_dunder_get_core_schema)\u001b[0m\n\u001b[1;32m    465\u001b[0m         schema \u001b[38;5;241m=\u001b[39m from_property\n\u001b[1;32m    467\u001b[0m \u001b[38;5;28;01mif\u001b[39;00m schema \u001b[38;5;129;01mis\u001b[39;00m \u001b[38;5;28;01mNone\u001b[39;00m:\n\u001b[0;32m--> 468\u001b[0m     schema \u001b[38;5;241m=\u001b[39m \u001b[38;5;28;43mself\u001b[39;49m\u001b[38;5;241;43m.\u001b[39;49m\u001b[43m_generate_schema\u001b[49m\u001b[43m(\u001b[49m\u001b[43mobj\u001b[49m\u001b[43m)\u001b[49m\n\u001b[1;32m    470\u001b[0m metadata_js_function \u001b[38;5;241m=\u001b[39m _extract_get_pydantic_json_schema(obj, schema)\n\u001b[1;32m    471\u001b[0m \u001b[38;5;28;01mif\u001b[39;00m metadata_js_function \u001b[38;5;129;01mis\u001b[39;00m \u001b[38;5;129;01mnot\u001b[39;00m \u001b[38;5;28;01mNone\u001b[39;00m:\n",
      "File \u001b[0;32m~/mambaforge/envs/stelldev-pyd2/lib/python3.11/site-packages/pydantic/_internal/_generate_schema.py:700\u001b[0m, in \u001b[0;36mGenerateSchema._generate_schema\u001b[0;34m(self, obj)\u001b[0m\n\u001b[1;32m    698\u001b[0m needs_apply_discriminated_union \u001b[38;5;241m=\u001b[39m \u001b[38;5;28mself\u001b[39m\u001b[38;5;241m.\u001b[39m_needs_apply_discriminated_union\n\u001b[1;32m    699\u001b[0m \u001b[38;5;28mself\u001b[39m\u001b[38;5;241m.\u001b[39m_needs_apply_discriminated_union \u001b[38;5;241m=\u001b[39m \u001b[38;5;28;01mFalse\u001b[39;00m\n\u001b[0;32m--> 700\u001b[0m schema \u001b[38;5;241m=\u001b[39m \u001b[38;5;28mself\u001b[39m\u001b[38;5;241m.\u001b[39m_post_process_generated_schema(\u001b[38;5;28;43mself\u001b[39;49m\u001b[38;5;241;43m.\u001b[39;49m\u001b[43m_generate_schema_inner\u001b[49m\u001b[43m(\u001b[49m\u001b[43mobj\u001b[49m\u001b[43m)\u001b[49m)\n\u001b[1;32m    701\u001b[0m \u001b[38;5;28mself\u001b[39m\u001b[38;5;241m.\u001b[39m_has_invalid_schema \u001b[38;5;241m=\u001b[39m \u001b[38;5;28mself\u001b[39m\u001b[38;5;241m.\u001b[39m_has_invalid_schema \u001b[38;5;129;01mor\u001b[39;00m has_invalid_schema\n\u001b[1;32m    702\u001b[0m \u001b[38;5;28mself\u001b[39m\u001b[38;5;241m.\u001b[39m_needs_apply_discriminated_union \u001b[38;5;241m=\u001b[39m \u001b[38;5;28mself\u001b[39m\u001b[38;5;241m.\u001b[39m_needs_apply_discriminated_union \u001b[38;5;129;01mor\u001b[39;00m needs_apply_discriminated_union\n",
      "File \u001b[0;32m~/mambaforge/envs/stelldev-pyd2/lib/python3.11/site-packages/pydantic/_internal/_generate_schema.py:707\u001b[0m, in \u001b[0;36mGenerateSchema._generate_schema_inner\u001b[0;34m(self, obj)\u001b[0m\n\u001b[1;32m    705\u001b[0m \u001b[38;5;28;01mdef\u001b[39;00m \u001b[38;5;21m_generate_schema_inner\u001b[39m(\u001b[38;5;28mself\u001b[39m, obj: Any) \u001b[38;5;241m-\u001b[39m\u001b[38;5;241m>\u001b[39m core_schema\u001b[38;5;241m.\u001b[39mCoreSchema:\n\u001b[1;32m    706\u001b[0m     \u001b[38;5;28;01mif\u001b[39;00m \u001b[38;5;28misinstance\u001b[39m(obj, _AnnotatedType):\n\u001b[0;32m--> 707\u001b[0m         \u001b[38;5;28;01mreturn\u001b[39;00m \u001b[38;5;28;43mself\u001b[39;49m\u001b[38;5;241;43m.\u001b[39;49m\u001b[43m_annotated_schema\u001b[49m\u001b[43m(\u001b[49m\u001b[43mobj\u001b[49m\u001b[43m)\u001b[49m\n\u001b[1;32m    709\u001b[0m     \u001b[38;5;28;01mif\u001b[39;00m \u001b[38;5;28misinstance\u001b[39m(obj, \u001b[38;5;28mdict\u001b[39m):\n\u001b[1;32m    710\u001b[0m         \u001b[38;5;66;03m# we assume this is already a valid schema\u001b[39;00m\n\u001b[1;32m    711\u001b[0m         \u001b[38;5;28;01mreturn\u001b[39;00m obj  \u001b[38;5;66;03m# type: ignore[return-value]\u001b[39;00m\n",
      "File \u001b[0;32m~/mambaforge/envs/stelldev-pyd2/lib/python3.11/site-packages/pydantic/_internal/_generate_schema.py:1586\u001b[0m, in \u001b[0;36mGenerateSchema._annotated_schema\u001b[0;34m(self, annotated_type)\u001b[0m\n\u001b[1;32m   1580\u001b[0m \u001b[38;5;28;01mfrom\u001b[39;00m \u001b[38;5;21;01m.\u001b[39;00m\u001b[38;5;21;01m.\u001b[39;00m\u001b[38;5;21;01mfields\u001b[39;00m \u001b[38;5;28;01mimport\u001b[39;00m FieldInfo\n\u001b[1;32m   1582\u001b[0m source_type, \u001b[38;5;241m*\u001b[39mannotations \u001b[38;5;241m=\u001b[39m \u001b[38;5;28mself\u001b[39m\u001b[38;5;241m.\u001b[39m_get_args_resolving_forward_refs(\n\u001b[1;32m   1583\u001b[0m     annotated_type,\n\u001b[1;32m   1584\u001b[0m     required\u001b[38;5;241m=\u001b[39m\u001b[38;5;28;01mTrue\u001b[39;00m,\n\u001b[1;32m   1585\u001b[0m )\n\u001b[0;32m-> 1586\u001b[0m schema \u001b[38;5;241m=\u001b[39m \u001b[38;5;28;43mself\u001b[39;49m\u001b[38;5;241;43m.\u001b[39;49m\u001b[43m_apply_annotations\u001b[49m\u001b[43m(\u001b[49m\u001b[43msource_type\u001b[49m\u001b[43m,\u001b[49m\u001b[43m \u001b[49m\u001b[43mannotations\u001b[49m\u001b[43m)\u001b[49m\n\u001b[1;32m   1587\u001b[0m \u001b[38;5;66;03m# put the default validator last so that TypeAdapter.get_default_value() works\u001b[39;00m\n\u001b[1;32m   1588\u001b[0m \u001b[38;5;66;03m# even if there are function validators involved\u001b[39;00m\n\u001b[1;32m   1589\u001b[0m \u001b[38;5;28;01mfor\u001b[39;00m annotation \u001b[38;5;129;01min\u001b[39;00m annotations:\n",
      "File \u001b[0;32m~/mambaforge/envs/stelldev-pyd2/lib/python3.11/site-packages/pydantic/_internal/_generate_schema.py:1654\u001b[0m, in \u001b[0;36mGenerateSchema._apply_annotations\u001b[0;34m(self, source_type, annotations, transform_inner_schema)\u001b[0m\n\u001b[1;32m   1649\u001b[0m         \u001b[38;5;28;01mcontinue\u001b[39;00m\n\u001b[1;32m   1650\u001b[0m     get_inner_schema \u001b[38;5;241m=\u001b[39m \u001b[38;5;28mself\u001b[39m\u001b[38;5;241m.\u001b[39m_get_wrapped_inner_schema(\n\u001b[1;32m   1651\u001b[0m         get_inner_schema, annotation, pydantic_js_annotation_functions\n\u001b[1;32m   1652\u001b[0m     )\n\u001b[0;32m-> 1654\u001b[0m schema \u001b[38;5;241m=\u001b[39m \u001b[43mget_inner_schema\u001b[49m\u001b[43m(\u001b[49m\u001b[43msource_type\u001b[49m\u001b[43m)\u001b[49m\n\u001b[1;32m   1655\u001b[0m \u001b[38;5;28;01mif\u001b[39;00m pydantic_js_annotation_functions:\n\u001b[1;32m   1656\u001b[0m     metadata \u001b[38;5;241m=\u001b[39m CoreMetadataHandler(schema)\u001b[38;5;241m.\u001b[39mmetadata\n",
      "File \u001b[0;32m~/mambaforge/envs/stelldev-pyd2/lib/python3.11/site-packages/pydantic/_internal/_schema_generation_shared.py:82\u001b[0m, in \u001b[0;36mCallbackGetCoreSchemaHandler.__call__\u001b[0;34m(self, _CallbackGetCoreSchemaHandler__source_type)\u001b[0m\n\u001b[1;32m     81\u001b[0m \u001b[38;5;28;01mdef\u001b[39;00m \u001b[38;5;21m__call__\u001b[39m(\u001b[38;5;28mself\u001b[39m, __source_type: Any) \u001b[38;5;241m-\u001b[39m\u001b[38;5;241m>\u001b[39m core_schema\u001b[38;5;241m.\u001b[39mCoreSchema:\n\u001b[0;32m---> 82\u001b[0m     schema \u001b[38;5;241m=\u001b[39m \u001b[38;5;28;43mself\u001b[39;49m\u001b[38;5;241;43m.\u001b[39;49m\u001b[43m_handler\u001b[49m\u001b[43m(\u001b[49m\u001b[43m__source_type\u001b[49m\u001b[43m)\u001b[49m\n\u001b[1;32m     83\u001b[0m     ref \u001b[38;5;241m=\u001b[39m schema\u001b[38;5;241m.\u001b[39mget(\u001b[38;5;124m'\u001b[39m\u001b[38;5;124mref\u001b[39m\u001b[38;5;124m'\u001b[39m)\n\u001b[1;32m     84\u001b[0m     \u001b[38;5;28;01mif\u001b[39;00m \u001b[38;5;28mself\u001b[39m\u001b[38;5;241m.\u001b[39m_ref_mode \u001b[38;5;241m==\u001b[39m \u001b[38;5;124m'\u001b[39m\u001b[38;5;124mto-def\u001b[39m\u001b[38;5;124m'\u001b[39m:\n",
      "File \u001b[0;32m~/mambaforge/envs/stelldev-pyd2/lib/python3.11/site-packages/pydantic/_internal/_generate_schema.py:1736\u001b[0m, in \u001b[0;36mGenerateSchema._get_wrapped_inner_schema.<locals>.new_handler\u001b[0;34m(source)\u001b[0m\n\u001b[1;32m   1735\u001b[0m \u001b[38;5;28;01mdef\u001b[39;00m \u001b[38;5;21mnew_handler\u001b[39m(source: Any) \u001b[38;5;241m-\u001b[39m\u001b[38;5;241m>\u001b[39m core_schema\u001b[38;5;241m.\u001b[39mCoreSchema:\n\u001b[0;32m-> 1736\u001b[0m     schema \u001b[38;5;241m=\u001b[39m \u001b[43mmetadata_get_schema\u001b[49m\u001b[43m(\u001b[49m\u001b[43msource\u001b[49m\u001b[43m,\u001b[49m\u001b[43m \u001b[49m\u001b[43mget_inner_schema\u001b[49m\u001b[43m)\u001b[49m\n\u001b[1;32m   1737\u001b[0m     schema \u001b[38;5;241m=\u001b[39m \u001b[38;5;28mself\u001b[39m\u001b[38;5;241m.\u001b[39m_apply_single_annotation(schema, annotation)\n\u001b[1;32m   1738\u001b[0m     schema \u001b[38;5;241m=\u001b[39m \u001b[38;5;28mself\u001b[39m\u001b[38;5;241m.\u001b[39m_apply_single_annotation_json_schema(schema, annotation)\n",
      "File \u001b[0;32m~/mambaforge/envs/stelldev-pyd2/lib/python3.11/site-packages/pydantic/functional_serializers.py:42\u001b[0m, in \u001b[0;36mPlainSerializer.__get_pydantic_core_schema__\u001b[0;34m(self, source_type, handler)\u001b[0m\n\u001b[1;32m     32\u001b[0m \u001b[38;5;28;01mdef\u001b[39;00m \u001b[38;5;21m__get_pydantic_core_schema__\u001b[39m(\u001b[38;5;28mself\u001b[39m, source_type: Any, handler: GetCoreSchemaHandler) \u001b[38;5;241m-\u001b[39m\u001b[38;5;241m>\u001b[39m core_schema\u001b[38;5;241m.\u001b[39mCoreSchema:\n\u001b[1;32m     33\u001b[0m \u001b[38;5;250m    \u001b[39m\u001b[38;5;124;03m\"\"\"Gets the Pydantic core schema.\u001b[39;00m\n\u001b[1;32m     34\u001b[0m \n\u001b[1;32m     35\u001b[0m \u001b[38;5;124;03m    Args:\u001b[39;00m\n\u001b[0;32m   (...)\u001b[0m\n\u001b[1;32m     40\u001b[0m \u001b[38;5;124;03m        The Pydantic core schema.\u001b[39;00m\n\u001b[1;32m     41\u001b[0m \u001b[38;5;124;03m    \"\"\"\u001b[39;00m\n\u001b[0;32m---> 42\u001b[0m     schema \u001b[38;5;241m=\u001b[39m \u001b[43mhandler\u001b[49m\u001b[43m(\u001b[49m\u001b[43msource_type\u001b[49m\u001b[43m)\u001b[49m\n\u001b[1;32m     43\u001b[0m     \u001b[38;5;28;01mtry\u001b[39;00m:\n\u001b[1;32m     44\u001b[0m         return_type \u001b[38;5;241m=\u001b[39m _decorators\u001b[38;5;241m.\u001b[39mget_function_return_type(\n\u001b[1;32m     45\u001b[0m             \u001b[38;5;28mself\u001b[39m\u001b[38;5;241m.\u001b[39mfunc, \u001b[38;5;28mself\u001b[39m\u001b[38;5;241m.\u001b[39mreturn_type, handler\u001b[38;5;241m.\u001b[39m_get_types_namespace()\n\u001b[1;32m     46\u001b[0m         )\n",
      "File \u001b[0;32m~/mambaforge/envs/stelldev-pyd2/lib/python3.11/site-packages/pydantic/_internal/_schema_generation_shared.py:82\u001b[0m, in \u001b[0;36mCallbackGetCoreSchemaHandler.__call__\u001b[0;34m(self, _CallbackGetCoreSchemaHandler__source_type)\u001b[0m\n\u001b[1;32m     81\u001b[0m \u001b[38;5;28;01mdef\u001b[39;00m \u001b[38;5;21m__call__\u001b[39m(\u001b[38;5;28mself\u001b[39m, __source_type: Any) \u001b[38;5;241m-\u001b[39m\u001b[38;5;241m>\u001b[39m core_schema\u001b[38;5;241m.\u001b[39mCoreSchema:\n\u001b[0;32m---> 82\u001b[0m     schema \u001b[38;5;241m=\u001b[39m \u001b[38;5;28;43mself\u001b[39;49m\u001b[38;5;241;43m.\u001b[39;49m\u001b[43m_handler\u001b[49m\u001b[43m(\u001b[49m\u001b[43m__source_type\u001b[49m\u001b[43m)\u001b[49m\n\u001b[1;32m     83\u001b[0m     ref \u001b[38;5;241m=\u001b[39m schema\u001b[38;5;241m.\u001b[39mget(\u001b[38;5;124m'\u001b[39m\u001b[38;5;124mref\u001b[39m\u001b[38;5;124m'\u001b[39m)\n\u001b[1;32m     84\u001b[0m     \u001b[38;5;28;01mif\u001b[39;00m \u001b[38;5;28mself\u001b[39m\u001b[38;5;241m.\u001b[39m_ref_mode \u001b[38;5;241m==\u001b[39m \u001b[38;5;124m'\u001b[39m\u001b[38;5;124mto-def\u001b[39m\u001b[38;5;124m'\u001b[39m:\n",
      "File \u001b[0;32m~/mambaforge/envs/stelldev-pyd2/lib/python3.11/site-packages/pydantic/_internal/_generate_schema.py:1736\u001b[0m, in \u001b[0;36mGenerateSchema._get_wrapped_inner_schema.<locals>.new_handler\u001b[0;34m(source)\u001b[0m\n\u001b[1;32m   1735\u001b[0m \u001b[38;5;28;01mdef\u001b[39;00m \u001b[38;5;21mnew_handler\u001b[39m(source: Any) \u001b[38;5;241m-\u001b[39m\u001b[38;5;241m>\u001b[39m core_schema\u001b[38;5;241m.\u001b[39mCoreSchema:\n\u001b[0;32m-> 1736\u001b[0m     schema \u001b[38;5;241m=\u001b[39m \u001b[43mmetadata_get_schema\u001b[49m\u001b[43m(\u001b[49m\u001b[43msource\u001b[49m\u001b[43m,\u001b[49m\u001b[43m \u001b[49m\u001b[43mget_inner_schema\u001b[49m\u001b[43m)\u001b[49m\n\u001b[1;32m   1737\u001b[0m     schema \u001b[38;5;241m=\u001b[39m \u001b[38;5;28mself\u001b[39m\u001b[38;5;241m.\u001b[39m_apply_single_annotation(schema, annotation)\n\u001b[1;32m   1738\u001b[0m     schema \u001b[38;5;241m=\u001b[39m \u001b[38;5;28mself\u001b[39m\u001b[38;5;241m.\u001b[39m_apply_single_annotation_json_schema(schema, annotation)\n",
      "File \u001b[0;32m~/mambaforge/envs/stelldev-pyd2/lib/python3.11/site-packages/pydantic/_internal/_generate_schema.py:1732\u001b[0m, in \u001b[0;36mGenerateSchema._get_wrapped_inner_schema.<locals>.<lambda>\u001b[0;34m(source, handler)\u001b[0m\n\u001b[1;32m   1725\u001b[0m \u001b[38;5;28;01mdef\u001b[39;00m \u001b[38;5;21m_get_wrapped_inner_schema\u001b[39m(\n\u001b[1;32m   1726\u001b[0m     \u001b[38;5;28mself\u001b[39m,\n\u001b[1;32m   1727\u001b[0m     get_inner_schema: GetCoreSchemaHandler,\n\u001b[1;32m   1728\u001b[0m     annotation: Any,\n\u001b[1;32m   1729\u001b[0m     pydantic_js_annotation_functions: \u001b[38;5;28mlist\u001b[39m[GetJsonSchemaFunction],\n\u001b[1;32m   1730\u001b[0m ) \u001b[38;5;241m-\u001b[39m\u001b[38;5;241m>\u001b[39m CallbackGetCoreSchemaHandler:\n\u001b[1;32m   1731\u001b[0m     metadata_get_schema: GetCoreSchemaFunction \u001b[38;5;241m=\u001b[39m \u001b[38;5;28mgetattr\u001b[39m(annotation, \u001b[38;5;124m'\u001b[39m\u001b[38;5;124m__get_pydantic_core_schema__\u001b[39m\u001b[38;5;124m'\u001b[39m, \u001b[38;5;28;01mNone\u001b[39;00m) \u001b[38;5;129;01mor\u001b[39;00m (\n\u001b[0;32m-> 1732\u001b[0m         \u001b[38;5;28;01mlambda\u001b[39;00m source, handler: \u001b[43mhandler\u001b[49m\u001b[43m(\u001b[49m\u001b[43msource\u001b[49m\u001b[43m)\u001b[49m\n\u001b[1;32m   1733\u001b[0m     )\n\u001b[1;32m   1735\u001b[0m     \u001b[38;5;28;01mdef\u001b[39;00m \u001b[38;5;21mnew_handler\u001b[39m(source: Any) \u001b[38;5;241m-\u001b[39m\u001b[38;5;241m>\u001b[39m core_schema\u001b[38;5;241m.\u001b[39mCoreSchema:\n\u001b[1;32m   1736\u001b[0m         schema \u001b[38;5;241m=\u001b[39m metadata_get_schema(source, get_inner_schema)\n",
      "File \u001b[0;32m~/mambaforge/envs/stelldev-pyd2/lib/python3.11/site-packages/pydantic/_internal/_schema_generation_shared.py:82\u001b[0m, in \u001b[0;36mCallbackGetCoreSchemaHandler.__call__\u001b[0;34m(self, _CallbackGetCoreSchemaHandler__source_type)\u001b[0m\n\u001b[1;32m     81\u001b[0m \u001b[38;5;28;01mdef\u001b[39;00m \u001b[38;5;21m__call__\u001b[39m(\u001b[38;5;28mself\u001b[39m, __source_type: Any) \u001b[38;5;241m-\u001b[39m\u001b[38;5;241m>\u001b[39m core_schema\u001b[38;5;241m.\u001b[39mCoreSchema:\n\u001b[0;32m---> 82\u001b[0m     schema \u001b[38;5;241m=\u001b[39m \u001b[38;5;28;43mself\u001b[39;49m\u001b[38;5;241;43m.\u001b[39;49m\u001b[43m_handler\u001b[49m\u001b[43m(\u001b[49m\u001b[43m__source_type\u001b[49m\u001b[43m)\u001b[49m\n\u001b[1;32m     83\u001b[0m     ref \u001b[38;5;241m=\u001b[39m schema\u001b[38;5;241m.\u001b[39mget(\u001b[38;5;124m'\u001b[39m\u001b[38;5;124mref\u001b[39m\u001b[38;5;124m'\u001b[39m)\n\u001b[1;32m     84\u001b[0m     \u001b[38;5;28;01mif\u001b[39;00m \u001b[38;5;28mself\u001b[39m\u001b[38;5;241m.\u001b[39m_ref_mode \u001b[38;5;241m==\u001b[39m \u001b[38;5;124m'\u001b[39m\u001b[38;5;124mto-def\u001b[39m\u001b[38;5;124m'\u001b[39m:\n",
      "File \u001b[0;32m~/mambaforge/envs/stelldev-pyd2/lib/python3.11/site-packages/pydantic/_internal/_generate_schema.py:1736\u001b[0m, in \u001b[0;36mGenerateSchema._get_wrapped_inner_schema.<locals>.new_handler\u001b[0;34m(source)\u001b[0m\n\u001b[1;32m   1735\u001b[0m \u001b[38;5;28;01mdef\u001b[39;00m \u001b[38;5;21mnew_handler\u001b[39m(source: Any) \u001b[38;5;241m-\u001b[39m\u001b[38;5;241m>\u001b[39m core_schema\u001b[38;5;241m.\u001b[39mCoreSchema:\n\u001b[0;32m-> 1736\u001b[0m     schema \u001b[38;5;241m=\u001b[39m \u001b[43mmetadata_get_schema\u001b[49m\u001b[43m(\u001b[49m\u001b[43msource\u001b[49m\u001b[43m,\u001b[49m\u001b[43m \u001b[49m\u001b[43mget_inner_schema\u001b[49m\u001b[43m)\u001b[49m\n\u001b[1;32m   1737\u001b[0m     schema \u001b[38;5;241m=\u001b[39m \u001b[38;5;28mself\u001b[39m\u001b[38;5;241m.\u001b[39m_apply_single_annotation(schema, annotation)\n\u001b[1;32m   1738\u001b[0m     schema \u001b[38;5;241m=\u001b[39m \u001b[38;5;28mself\u001b[39m\u001b[38;5;241m.\u001b[39m_apply_single_annotation_json_schema(schema, annotation)\n",
      "File \u001b[0;32m~/mambaforge/envs/stelldev-pyd2/lib/python3.11/site-packages/pydantic/functional_validators.py:118\u001b[0m, in \u001b[0;36mBeforeValidator.__get_pydantic_core_schema__\u001b[0;34m(self, source_type, handler)\u001b[0m\n\u001b[1;32m    117\u001b[0m \u001b[38;5;28;01mdef\u001b[39;00m \u001b[38;5;21m__get_pydantic_core_schema__\u001b[39m(\u001b[38;5;28mself\u001b[39m, source_type: Any, handler: _GetCoreSchemaHandler) \u001b[38;5;241m-\u001b[39m\u001b[38;5;241m>\u001b[39m core_schema\u001b[38;5;241m.\u001b[39mCoreSchema:\n\u001b[0;32m--> 118\u001b[0m     schema \u001b[38;5;241m=\u001b[39m \u001b[43mhandler\u001b[49m\u001b[43m(\u001b[49m\u001b[43msource_type\u001b[49m\u001b[43m)\u001b[49m\n\u001b[1;32m    119\u001b[0m     info_arg \u001b[38;5;241m=\u001b[39m _inspect_validator(\u001b[38;5;28mself\u001b[39m\u001b[38;5;241m.\u001b[39mfunc, \u001b[38;5;124m'\u001b[39m\u001b[38;5;124mbefore\u001b[39m\u001b[38;5;124m'\u001b[39m)\n\u001b[1;32m    120\u001b[0m     \u001b[38;5;28;01mif\u001b[39;00m info_arg:\n",
      "File \u001b[0;32m~/mambaforge/envs/stelldev-pyd2/lib/python3.11/site-packages/pydantic/_internal/_schema_generation_shared.py:82\u001b[0m, in \u001b[0;36mCallbackGetCoreSchemaHandler.__call__\u001b[0;34m(self, _CallbackGetCoreSchemaHandler__source_type)\u001b[0m\n\u001b[1;32m     81\u001b[0m \u001b[38;5;28;01mdef\u001b[39;00m \u001b[38;5;21m__call__\u001b[39m(\u001b[38;5;28mself\u001b[39m, __source_type: Any) \u001b[38;5;241m-\u001b[39m\u001b[38;5;241m>\u001b[39m core_schema\u001b[38;5;241m.\u001b[39mCoreSchema:\n\u001b[0;32m---> 82\u001b[0m     schema \u001b[38;5;241m=\u001b[39m \u001b[38;5;28;43mself\u001b[39;49m\u001b[38;5;241;43m.\u001b[39;49m\u001b[43m_handler\u001b[49m\u001b[43m(\u001b[49m\u001b[43m__source_type\u001b[49m\u001b[43m)\u001b[49m\n\u001b[1;32m     83\u001b[0m     ref \u001b[38;5;241m=\u001b[39m schema\u001b[38;5;241m.\u001b[39mget(\u001b[38;5;124m'\u001b[39m\u001b[38;5;124mref\u001b[39m\u001b[38;5;124m'\u001b[39m)\n\u001b[1;32m     84\u001b[0m     \u001b[38;5;28;01mif\u001b[39;00m \u001b[38;5;28mself\u001b[39m\u001b[38;5;241m.\u001b[39m_ref_mode \u001b[38;5;241m==\u001b[39m \u001b[38;5;124m'\u001b[39m\u001b[38;5;124mto-def\u001b[39m\u001b[38;5;124m'\u001b[39m:\n",
      "File \u001b[0;32m~/mambaforge/envs/stelldev-pyd2/lib/python3.11/site-packages/pydantic/_internal/_generate_schema.py:1635\u001b[0m, in \u001b[0;36mGenerateSchema._apply_annotations.<locals>.inner_handler\u001b[0;34m(obj)\u001b[0m\n\u001b[1;32m   1633\u001b[0m from_property \u001b[38;5;241m=\u001b[39m \u001b[38;5;28mself\u001b[39m\u001b[38;5;241m.\u001b[39m_generate_schema_from_property(obj, obj)\n\u001b[1;32m   1634\u001b[0m \u001b[38;5;28;01mif\u001b[39;00m from_property \u001b[38;5;129;01mis\u001b[39;00m \u001b[38;5;28;01mNone\u001b[39;00m:\n\u001b[0;32m-> 1635\u001b[0m     schema \u001b[38;5;241m=\u001b[39m \u001b[38;5;28;43mself\u001b[39;49m\u001b[38;5;241;43m.\u001b[39;49m\u001b[43m_generate_schema\u001b[49m\u001b[43m(\u001b[49m\u001b[43mobj\u001b[49m\u001b[43m)\u001b[49m\n\u001b[1;32m   1636\u001b[0m \u001b[38;5;28;01melse\u001b[39;00m:\n\u001b[1;32m   1637\u001b[0m     schema \u001b[38;5;241m=\u001b[39m from_property\n",
      "File \u001b[0;32m~/mambaforge/envs/stelldev-pyd2/lib/python3.11/site-packages/pydantic/_internal/_generate_schema.py:700\u001b[0m, in \u001b[0;36mGenerateSchema._generate_schema\u001b[0;34m(self, obj)\u001b[0m\n\u001b[1;32m    698\u001b[0m needs_apply_discriminated_union \u001b[38;5;241m=\u001b[39m \u001b[38;5;28mself\u001b[39m\u001b[38;5;241m.\u001b[39m_needs_apply_discriminated_union\n\u001b[1;32m    699\u001b[0m \u001b[38;5;28mself\u001b[39m\u001b[38;5;241m.\u001b[39m_needs_apply_discriminated_union \u001b[38;5;241m=\u001b[39m \u001b[38;5;28;01mFalse\u001b[39;00m\n\u001b[0;32m--> 700\u001b[0m schema \u001b[38;5;241m=\u001b[39m \u001b[38;5;28mself\u001b[39m\u001b[38;5;241m.\u001b[39m_post_process_generated_schema(\u001b[38;5;28;43mself\u001b[39;49m\u001b[38;5;241;43m.\u001b[39;49m\u001b[43m_generate_schema_inner\u001b[49m\u001b[43m(\u001b[49m\u001b[43mobj\u001b[49m\u001b[43m)\u001b[49m)\n\u001b[1;32m    701\u001b[0m \u001b[38;5;28mself\u001b[39m\u001b[38;5;241m.\u001b[39m_has_invalid_schema \u001b[38;5;241m=\u001b[39m \u001b[38;5;28mself\u001b[39m\u001b[38;5;241m.\u001b[39m_has_invalid_schema \u001b[38;5;129;01mor\u001b[39;00m has_invalid_schema\n\u001b[1;32m    702\u001b[0m \u001b[38;5;28mself\u001b[39m\u001b[38;5;241m.\u001b[39m_needs_apply_discriminated_union \u001b[38;5;241m=\u001b[39m \u001b[38;5;28mself\u001b[39m\u001b[38;5;241m.\u001b[39m_needs_apply_discriminated_union \u001b[38;5;129;01mor\u001b[39;00m needs_apply_discriminated_union\n",
      "File \u001b[0;32m~/mambaforge/envs/stelldev-pyd2/lib/python3.11/site-packages/pydantic/_internal/_generate_schema.py:727\u001b[0m, in \u001b[0;36mGenerateSchema._generate_schema_inner\u001b[0;34m(self, obj)\u001b[0m\n\u001b[1;32m    724\u001b[0m \u001b[38;5;28;01mif\u001b[39;00m \u001b[38;5;28misinstance\u001b[39m(obj, PydanticRecursiveRef):\n\u001b[1;32m    725\u001b[0m     \u001b[38;5;28;01mreturn\u001b[39;00m core_schema\u001b[38;5;241m.\u001b[39mdefinition_reference_schema(schema_ref\u001b[38;5;241m=\u001b[39mobj\u001b[38;5;241m.\u001b[39mtype_ref)\n\u001b[0;32m--> 727\u001b[0m \u001b[38;5;28;01mreturn\u001b[39;00m \u001b[38;5;28;43mself\u001b[39;49m\u001b[38;5;241;43m.\u001b[39;49m\u001b[43mmatch_type\u001b[49m\u001b[43m(\u001b[49m\u001b[43mobj\u001b[49m\u001b[43m)\u001b[49m\n",
      "File \u001b[0;32m~/mambaforge/envs/stelldev-pyd2/lib/python3.11/site-packages/pydantic/_internal/_generate_schema.py:810\u001b[0m, in \u001b[0;36mGenerateSchema.match_type\u001b[0;34m(self, obj)\u001b[0m\n\u001b[1;32m    808\u001b[0m origin \u001b[38;5;241m=\u001b[39m get_origin(obj)\n\u001b[1;32m    809\u001b[0m \u001b[38;5;28;01mif\u001b[39;00m origin \u001b[38;5;129;01mis\u001b[39;00m \u001b[38;5;129;01mnot\u001b[39;00m \u001b[38;5;28;01mNone\u001b[39;00m:\n\u001b[0;32m--> 810\u001b[0m     \u001b[38;5;28;01mreturn\u001b[39;00m \u001b[38;5;28;43mself\u001b[39;49m\u001b[38;5;241;43m.\u001b[39;49m\u001b[43m_match_generic_type\u001b[49m\u001b[43m(\u001b[49m\u001b[43mobj\u001b[49m\u001b[43m,\u001b[49m\u001b[43m \u001b[49m\u001b[43morigin\u001b[49m\u001b[43m)\u001b[49m\n\u001b[1;32m    812\u001b[0m \u001b[38;5;28;01mif\u001b[39;00m \u001b[38;5;28mself\u001b[39m\u001b[38;5;241m.\u001b[39m_arbitrary_types:\n\u001b[1;32m    813\u001b[0m     \u001b[38;5;28;01mreturn\u001b[39;00m \u001b[38;5;28mself\u001b[39m\u001b[38;5;241m.\u001b[39m_arbitrary_type_schema(obj)\n",
      "File \u001b[0;32m~/mambaforge/envs/stelldev-pyd2/lib/python3.11/site-packages/pydantic/_internal/_generate_schema.py:834\u001b[0m, in \u001b[0;36mGenerateSchema._match_generic_type\u001b[0;34m(self, obj, origin)\u001b[0m\n\u001b[1;32m    831\u001b[0m     \u001b[38;5;28;01mreturn\u001b[39;00m from_property\n\u001b[1;32m    833\u001b[0m \u001b[38;5;28;01mif\u001b[39;00m _typing_extra\u001b[38;5;241m.\u001b[39morigin_is_union(origin):\n\u001b[0;32m--> 834\u001b[0m     \u001b[38;5;28;01mreturn\u001b[39;00m \u001b[38;5;28;43mself\u001b[39;49m\u001b[38;5;241;43m.\u001b[39;49m\u001b[43m_union_schema\u001b[49m\u001b[43m(\u001b[49m\u001b[43mobj\u001b[49m\u001b[43m)\u001b[49m\n\u001b[1;32m    835\u001b[0m \u001b[38;5;28;01melif\u001b[39;00m origin \u001b[38;5;129;01min\u001b[39;00m TUPLE_TYPES:\n\u001b[1;32m    836\u001b[0m     \u001b[38;5;28;01mreturn\u001b[39;00m \u001b[38;5;28mself\u001b[39m\u001b[38;5;241m.\u001b[39m_tuple_schema(obj)\n",
      "File \u001b[0;32m~/mambaforge/envs/stelldev-pyd2/lib/python3.11/site-packages/pydantic/_internal/_generate_schema.py:1036\u001b[0m, in \u001b[0;36mGenerateSchema._union_schema\u001b[0;34m(self, union_type)\u001b[0m\n\u001b[1;32m   1034\u001b[0m         nullable \u001b[38;5;241m=\u001b[39m \u001b[38;5;28;01mTrue\u001b[39;00m\n\u001b[1;32m   1035\u001b[0m     \u001b[38;5;28;01melse\u001b[39;00m:\n\u001b[0;32m-> 1036\u001b[0m         choices\u001b[38;5;241m.\u001b[39mappend(\u001b[38;5;28;43mself\u001b[39;49m\u001b[38;5;241;43m.\u001b[39;49m\u001b[43mgenerate_schema\u001b[49m\u001b[43m(\u001b[49m\u001b[43marg\u001b[49m\u001b[43m)\u001b[49m)\n\u001b[1;32m   1038\u001b[0m \u001b[38;5;28;01mif\u001b[39;00m \u001b[38;5;28mlen\u001b[39m(choices) \u001b[38;5;241m==\u001b[39m \u001b[38;5;241m1\u001b[39m:\n\u001b[1;32m   1039\u001b[0m     s \u001b[38;5;241m=\u001b[39m choices[\u001b[38;5;241m0\u001b[39m]\n",
      "File \u001b[0;32m~/mambaforge/envs/stelldev-pyd2/lib/python3.11/site-packages/pydantic/_internal/_generate_schema.py:468\u001b[0m, in \u001b[0;36mGenerateSchema.generate_schema\u001b[0;34m(self, obj, from_dunder_get_core_schema)\u001b[0m\n\u001b[1;32m    465\u001b[0m         schema \u001b[38;5;241m=\u001b[39m from_property\n\u001b[1;32m    467\u001b[0m \u001b[38;5;28;01mif\u001b[39;00m schema \u001b[38;5;129;01mis\u001b[39;00m \u001b[38;5;28;01mNone\u001b[39;00m:\n\u001b[0;32m--> 468\u001b[0m     schema \u001b[38;5;241m=\u001b[39m \u001b[38;5;28;43mself\u001b[39;49m\u001b[38;5;241;43m.\u001b[39;49m\u001b[43m_generate_schema\u001b[49m\u001b[43m(\u001b[49m\u001b[43mobj\u001b[49m\u001b[43m)\u001b[49m\n\u001b[1;32m    470\u001b[0m metadata_js_function \u001b[38;5;241m=\u001b[39m _extract_get_pydantic_json_schema(obj, schema)\n\u001b[1;32m    471\u001b[0m \u001b[38;5;28;01mif\u001b[39;00m metadata_js_function \u001b[38;5;129;01mis\u001b[39;00m \u001b[38;5;129;01mnot\u001b[39;00m \u001b[38;5;28;01mNone\u001b[39;00m:\n",
      "File \u001b[0;32m~/mambaforge/envs/stelldev-pyd2/lib/python3.11/site-packages/pydantic/_internal/_generate_schema.py:700\u001b[0m, in \u001b[0;36mGenerateSchema._generate_schema\u001b[0;34m(self, obj)\u001b[0m\n\u001b[1;32m    698\u001b[0m needs_apply_discriminated_union \u001b[38;5;241m=\u001b[39m \u001b[38;5;28mself\u001b[39m\u001b[38;5;241m.\u001b[39m_needs_apply_discriminated_union\n\u001b[1;32m    699\u001b[0m \u001b[38;5;28mself\u001b[39m\u001b[38;5;241m.\u001b[39m_needs_apply_discriminated_union \u001b[38;5;241m=\u001b[39m \u001b[38;5;28;01mFalse\u001b[39;00m\n\u001b[0;32m--> 700\u001b[0m schema \u001b[38;5;241m=\u001b[39m \u001b[38;5;28mself\u001b[39m\u001b[38;5;241m.\u001b[39m_post_process_generated_schema(\u001b[38;5;28;43mself\u001b[39;49m\u001b[38;5;241;43m.\u001b[39;49m\u001b[43m_generate_schema_inner\u001b[49m\u001b[43m(\u001b[49m\u001b[43mobj\u001b[49m\u001b[43m)\u001b[49m)\n\u001b[1;32m    701\u001b[0m \u001b[38;5;28mself\u001b[39m\u001b[38;5;241m.\u001b[39m_has_invalid_schema \u001b[38;5;241m=\u001b[39m \u001b[38;5;28mself\u001b[39m\u001b[38;5;241m.\u001b[39m_has_invalid_schema \u001b[38;5;129;01mor\u001b[39;00m has_invalid_schema\n\u001b[1;32m    702\u001b[0m \u001b[38;5;28mself\u001b[39m\u001b[38;5;241m.\u001b[39m_needs_apply_discriminated_union \u001b[38;5;241m=\u001b[39m \u001b[38;5;28mself\u001b[39m\u001b[38;5;241m.\u001b[39m_needs_apply_discriminated_union \u001b[38;5;129;01mor\u001b[39;00m needs_apply_discriminated_union\n",
      "File \u001b[0;32m~/mambaforge/envs/stelldev-pyd2/lib/python3.11/site-packages/pydantic/_internal/_generate_schema.py:727\u001b[0m, in \u001b[0;36mGenerateSchema._generate_schema_inner\u001b[0;34m(self, obj)\u001b[0m\n\u001b[1;32m    724\u001b[0m \u001b[38;5;28;01mif\u001b[39;00m \u001b[38;5;28misinstance\u001b[39m(obj, PydanticRecursiveRef):\n\u001b[1;32m    725\u001b[0m     \u001b[38;5;28;01mreturn\u001b[39;00m core_schema\u001b[38;5;241m.\u001b[39mdefinition_reference_schema(schema_ref\u001b[38;5;241m=\u001b[39mobj\u001b[38;5;241m.\u001b[39mtype_ref)\n\u001b[0;32m--> 727\u001b[0m \u001b[38;5;28;01mreturn\u001b[39;00m \u001b[38;5;28;43mself\u001b[39;49m\u001b[38;5;241;43m.\u001b[39;49m\u001b[43mmatch_type\u001b[49m\u001b[43m(\u001b[49m\u001b[43mobj\u001b[49m\u001b[43m)\u001b[49m\n",
      "File \u001b[0;32m~/mambaforge/envs/stelldev-pyd2/lib/python3.11/site-packages/pydantic/_internal/_generate_schema.py:814\u001b[0m, in \u001b[0;36mGenerateSchema.match_type\u001b[0;34m(self, obj)\u001b[0m\n\u001b[1;32m    812\u001b[0m \u001b[38;5;28;01mif\u001b[39;00m \u001b[38;5;28mself\u001b[39m\u001b[38;5;241m.\u001b[39m_arbitrary_types:\n\u001b[1;32m    813\u001b[0m     \u001b[38;5;28;01mreturn\u001b[39;00m \u001b[38;5;28mself\u001b[39m\u001b[38;5;241m.\u001b[39m_arbitrary_type_schema(obj)\n\u001b[0;32m--> 814\u001b[0m \u001b[38;5;28;01mreturn\u001b[39;00m \u001b[38;5;28;43mself\u001b[39;49m\u001b[38;5;241;43m.\u001b[39;49m\u001b[43m_unknown_type_schema\u001b[49m\u001b[43m(\u001b[49m\u001b[43mobj\u001b[49m\u001b[43m)\u001b[49m\n",
      "File \u001b[0;32m~/mambaforge/envs/stelldev-pyd2/lib/python3.11/site-packages/pydantic/_internal/_generate_schema.py:366\u001b[0m, in \u001b[0;36mGenerateSchema._unknown_type_schema\u001b[0;34m(self, obj)\u001b[0m\n\u001b[1;32m    365\u001b[0m \u001b[38;5;28;01mdef\u001b[39;00m \u001b[38;5;21m_unknown_type_schema\u001b[39m(\u001b[38;5;28mself\u001b[39m, obj: Any) \u001b[38;5;241m-\u001b[39m\u001b[38;5;241m>\u001b[39m CoreSchema:\n\u001b[0;32m--> 366\u001b[0m     \u001b[38;5;28;01mraise\u001b[39;00m PydanticSchemaGenerationError(\n\u001b[1;32m    367\u001b[0m         \u001b[38;5;124mf\u001b[39m\u001b[38;5;124m'\u001b[39m\u001b[38;5;124mUnable to generate pydantic-core schema for \u001b[39m\u001b[38;5;132;01m{\u001b[39;00mobj\u001b[38;5;132;01m!r}\u001b[39;00m\u001b[38;5;124m. \u001b[39m\u001b[38;5;124m'\u001b[39m\n\u001b[1;32m    368\u001b[0m         \u001b[38;5;124m'\u001b[39m\u001b[38;5;124mSet `arbitrary_types_allowed=True` in the model_config to ignore this error\u001b[39m\u001b[38;5;124m'\u001b[39m\n\u001b[1;32m    369\u001b[0m         \u001b[38;5;124m'\u001b[39m\u001b[38;5;124m or implement `__get_pydantic_core_schema__` on your type to fully support it.\u001b[39m\u001b[38;5;124m'\u001b[39m\n\u001b[1;32m    370\u001b[0m         \u001b[38;5;124m'\u001b[39m\u001b[38;5;130;01m\\n\u001b[39;00m\u001b[38;5;130;01m\\n\u001b[39;00m\u001b[38;5;124mIf you got this error by calling handler(<some type>) within\u001b[39m\u001b[38;5;124m'\u001b[39m\n\u001b[1;32m    371\u001b[0m         \u001b[38;5;124m'\u001b[39m\u001b[38;5;124m `__get_pydantic_core_schema__` then you likely need to call\u001b[39m\u001b[38;5;124m'\u001b[39m\n\u001b[1;32m    372\u001b[0m         \u001b[38;5;124m'\u001b[39m\u001b[38;5;124m `handler.generate_schema(<some type>)` since we do not call\u001b[39m\u001b[38;5;124m'\u001b[39m\n\u001b[1;32m    373\u001b[0m         \u001b[38;5;124m'\u001b[39m\u001b[38;5;124m `__get_pydantic_core_schema__` on `<some type>` otherwise to avoid infinite recursion.\u001b[39m\u001b[38;5;124m'\u001b[39m\n\u001b[1;32m    374\u001b[0m     )\n",
      "\u001b[0;31mPydanticSchemaGenerationError\u001b[0m: Unable to generate pydantic-core schema for <class 'astropy.units.core.Unit'>. Set `arbitrary_types_allowed=True` in the model_config to ignore this error or implement `__get_pydantic_core_schema__` on your type to fully support it.\n\nIf you got this error by calling handler(<some type>) within `__get_pydantic_core_schema__` then you likely need to call `handler.generate_schema(<some type>)` since we do not call `__get_pydantic_core_schema__` on `<some type>` otherwise to avoid infinite recursion.\n\nFor further information visit https://errors.pydantic.dev/2.5/u/schema-for-unknown-type"
     ]
    }
   ],
   "source": [
    "from typing import Annotated\n",
    "from pydantic import BaseModel, Field\n",
    "from stellarphot.settings.astropy_pydantic import UnitType, QuantityType, PixelScaleType\n",
    "from stellarphot.settings import Camera"
   ]
  },
  {
   "cell_type": "code",
   "execution_count": null,
   "id": "c5a583ea-ad7f-4913-92cc-6909fd0f6a34",
   "metadata": {},
   "outputs": [],
   "source": [
    "class Humbug(BaseModel):\n",
    "    #unit: UnitType\n",
    "    bunit: Annotated[UnitType, Field(examples=[\"adu\", \"meter\"])]\n",
    "    other_unit: Annotated[UnitType, Field(examples=[\"second\", \"hour\"])]"
   ]
  },
  {
   "cell_type": "code",
   "execution_count": null,
   "id": "68c02a17-cdc5-474c-894e-9216348051c5",
   "metadata": {},
   "outputs": [],
   "source": [
    "hum = Humbug(bunit=\"degree\", other_unit=\"second\")"
   ]
  },
  {
   "cell_type": "code",
   "execution_count": 4,
   "id": "f93acbb5-6243-4e54-887f-46d748b01f64",
   "metadata": {},
   "outputs": [
    {
     "name": "stdout",
     "output_type": "stream",
     "text": [
      "{\n",
      "  \"unit\": \"deg\"\n",
      "}\n"
     ]
    }
   ],
   "source": [
    "print(hum.model_dump_json(indent=2))"
   ]
  },
  {
   "cell_type": "code",
   "execution_count": 5,
   "id": "c51cb6d6-6305-4db9-8dab-23996438c660",
   "metadata": {},
   "outputs": [
    {
     "data": {
      "text/plain": [
       "{'unit': Unit(\"deg\")}"
      ]
     },
     "execution_count": 5,
     "metadata": {},
     "output_type": "execute_result"
    }
   ],
   "source": [
    "hum.model_dump()"
   ]
  },
  {
   "cell_type": "code",
   "execution_count": 6,
   "id": "d1486817-41de-4b8c-aaba-a7c15015fb48",
   "metadata": {},
   "outputs": [
    {
     "data": {
      "text/plain": [
       "{'$defs': {'UnitType': {'type': 'string'}},\n",
       " 'properties': {'unit': {'allOf': [{'$ref': '#/$defs/UnitType'}],\n",
       "   'examples': ['adu', 'meter']}},\n",
       " 'required': ['unit'],\n",
       " 'title': 'Humbug',\n",
       " 'type': 'object'}"
      ]
     },
     "execution_count": 6,
     "metadata": {},
     "output_type": "execute_result"
    }
   ],
   "source": [
    "hum.model_json_schema()"
   ]
  },
  {
   "cell_type": "code",
   "execution_count": 7,
   "id": "c2da9fc6-820d-4084-b074-630f6b19fdec",
   "metadata": {},
   "outputs": [],
   "source": [
    "class Qumbug(BaseModel):\n",
    "    q: QuantityType"
   ]
  },
  {
   "cell_type": "code",
   "execution_count": 8,
   "id": "66c129c8-ccb3-49a3-ae46-dfbf2e831ce9",
   "metadata": {},
   "outputs": [
    {
     "name": "stdout",
     "output_type": "stream",
     "text": [
      "info=ValidationInfo(config={'title': 'Qumbug'}, context=None, data={}, field_name='q')\n",
      "value='10 second'\n"
     ]
    }
   ],
   "source": [
    "qum = Qumbug(q=\"10 second\")"
   ]
  },
  {
   "cell_type": "code",
   "execution_count": 9,
   "id": "f9e3feea-2b5a-41d6-966b-7760a1ebcfb0",
   "metadata": {},
   "outputs": [
    {
     "data": {
      "text/plain": [
       "'{\"q\":\"10.0 s\"}'"
      ]
     },
     "execution_count": 9,
     "metadata": {},
     "output_type": "execute_result"
    }
   ],
   "source": [
    "qum.model_dump_json()"
   ]
  },
  {
   "cell_type": "code",
   "execution_count": 10,
   "id": "f1aca2e1-e7c8-402d-b797-f449fcfebd7d",
   "metadata": {},
   "outputs": [],
   "source": [
    "class Pumbug(BaseModel):\n",
    "    ps: PixelScaleType"
   ]
  },
  {
   "cell_type": "code",
   "execution_count": 11,
   "id": "1ca38eff-e92b-4548-93d2-a8295bc8d18c",
   "metadata": {},
   "outputs": [
    {
     "name": "stdout",
     "output_type": "stream",
     "text": [
      "info=ValidationInfo(config={'title': 'Pumbug'}, context=None, data={}, field_name='ps')\n",
      "value='10 arcsec / pix'\n"
     ]
    }
   ],
   "source": [
    "pum = Pumbug(ps=\"10 arcsec / pix\")"
   ]
  },
  {
   "cell_type": "code",
   "execution_count": 12,
   "id": "d9b0dfa1-44f6-47b4-b2ec-9648e22412b5",
   "metadata": {},
   "outputs": [
    {
     "data": {
      "text/plain": [
       "Pumbug(ps=<Quantity 10. arcsec / pix>)"
      ]
     },
     "execution_count": 12,
     "metadata": {},
     "output_type": "execute_result"
    }
   ],
   "source": [
    "pum"
   ]
  },
  {
   "cell_type": "code",
   "execution_count": 13,
   "id": "113d35ff-be8d-42bd-b1c2-e7afd64b1721",
   "metadata": {},
   "outputs": [
    {
     "data": {
      "text/plain": [
       "'{\"ps\":\"10.0 arcsec / pix\"}'"
      ]
     },
     "execution_count": 13,
     "metadata": {},
     "output_type": "execute_result"
    }
   ],
   "source": [
    "pum.model_dump_json()"
   ]
  },
  {
   "cell_type": "code",
   "execution_count": 25,
   "id": "43d73ce0-424c-49ea-a047-7231aadaa2f1",
   "metadata": {},
   "outputs": [
    {
     "name": "stdout",
     "output_type": "stream",
     "text": [
      "info=ValidationInfo(config={'title': 'Camera', 'extra_fields_behavior': 'forbid', 'validate_default': True}, context=None, data={}, field_name='data_unit')\n",
      "value='adu'\n",
      "info=ValidationInfo(config={'title': 'Camera', 'extra_fields_behavior': 'forbid', 'validate_default': True}, context=None, data={'data_unit': Unit(\"adu\")}, field_name='gainb')\n",
      "value='1.5 electron / adu'\n",
      "info=ValidationInfo(config={'title': 'Camera', 'extra_fields_behavior': 'forbid', 'validate_default': True}, context=None, data={'data_unit': Unit(\"adu\"), 'gainb': <Quantity 1.5 electron / adu>, 'name': 'Foo camera'}, field_name='gainb')\n",
      "value='10 electron'\n",
      "info=ValidationInfo(config={'title': 'Camera', 'extra_fields_behavior': 'forbid', 'validate_default': True}, context=None, data={'data_unit': Unit(\"adu\"), 'gainb': <Quantity 1.5 electron / adu>, 'name': 'Foo camera', 'read_noise': <Quantity 10. electron>}, field_name='gainb')\n",
      "value='5 electron/second'\n",
      "info=ValidationInfo(config={'title': 'Camera', 'extra_fields_behavior': 'forbid', 'validate_default': True}, context=None, data={'data_unit': Unit(\"adu\"), 'gainb': <Quantity 1.5 electron / adu>, 'name': 'Foo camera', 'read_noise': <Quantity 10. electron>, 'dark_current': <Quantity 5. electron / s>}, field_name='pixel_scale')\n",
      "value='0.5 arcsec/pixel'\n",
      "info=ValidationInfo(config={'title': 'Camera', 'extra_fields_behavior': 'forbid', 'validate_default': True}, context=None, data={'data_unit': Unit(\"adu\"), 'gainb': <Quantity 1.5 electron / adu>, 'name': 'Foo camera', 'read_noise': <Quantity 10. electron>, 'dark_current': <Quantity 5. electron / s>, 'pixel_scale': <Quantity 0.5 arcsec / pix>}, field_name='gainb')\n",
      "value='50000 adu'\n",
      "self=Camera(data_unit=Unit(\"adu\"), gainb=<Quantity 1.5 electron / adu>, name='Foo camera', read_noise=<Quantity 10. electron>, dark_current=<Quantity 5. electron / s>, pixel_scale=<Quantity 0.5 arcsec / pix>, max_data_value=<Quantity 50000. adu>)\n"
     ]
    }
   ],
   "source": [
    "cam = Camera(\n",
    "    data_unit=\"adu\", \n",
    "    gainb=\"1.5 electron / adu\", \n",
    "    read_noise=\"10 electron\", \n",
    "    dark_current=\"5 electron/second\",\n",
    "    pixel_scale=\"0.5 arcsec/pixel\",\n",
    "    max_data_value=\"50000 adu\",\n",
    "    name=\"Foo camera\"\n",
    ")\n"
   ]
  },
  {
   "cell_type": "code",
   "execution_count": 26,
   "id": "4cc04d9f-2c96-46f0-b71e-6beefa84b3ab",
   "metadata": {},
   "outputs": [
    {
     "data": {
      "text/plain": [
       "Camera(data_unit=Unit(\"adu\"), gainb=<Quantity 1.5 electron / adu>, name='Foo camera', read_noise=<Quantity 10. electron>, dark_current=<Quantity 5. electron / s>, pixel_scale=<Quantity 0.5 arcsec / pix>, max_data_value=<Quantity 50000. adu>)"
      ]
     },
     "execution_count": 26,
     "metadata": {},
     "output_type": "execute_result"
    }
   ],
   "source": [
    "cam"
   ]
  },
  {
   "cell_type": "code",
   "execution_count": 27,
   "id": "8bd4bebd-df37-4a69-b85a-cee65034fbf0",
   "metadata": {},
   "outputs": [
    {
     "data": {
      "text/plain": [
       "{'data_unit': Unit(\"adu\"),\n",
       " 'gainb': <Quantity 1.5 electron / adu>,\n",
       " 'name': 'Foo camera',\n",
       " 'read_noise': <Quantity 10. electron>,\n",
       " 'dark_current': <Quantity 5. electron / s>,\n",
       " 'pixel_scale': <Quantity 0.5 arcsec / pix>,\n",
       " 'max_data_value': <Quantity 50000. adu>}"
      ]
     },
     "execution_count": 27,
     "metadata": {},
     "output_type": "execute_result"
    }
   ],
   "source": [
    "cam.model_dump()"
   ]
  },
  {
   "cell_type": "code",
   "execution_count": 28,
   "id": "9563c840-2a54-4f57-8f81-8137d388ebe0",
   "metadata": {},
   "outputs": [
    {
     "name": "stdout",
     "output_type": "stream",
     "text": [
      "{\n",
      "  \"data_unit\": \"adu\",\n",
      "  \"gainb\": \"1.5 electron / adu\",\n",
      "  \"name\": \"Foo camera\",\n",
      "  \"read_noise\": \"10.0 electron\",\n",
      "  \"dark_current\": \"5.0 electron / s\",\n",
      "  \"pixel_scale\": \"0.5 arcsec / pix\",\n",
      "  \"max_data_value\": \"50000.0 adu\"\n",
      "}\n"
     ]
    }
   ],
   "source": [
    "print(cam.model_dump_json(indent=2))"
   ]
  },
  {
   "cell_type": "code",
   "execution_count": 29,
   "id": "834a6d98-66b6-4cc3-85d2-0dd84487468a",
   "metadata": {},
   "outputs": [
    {
     "data": {
      "text/plain": [
       "{'$defs': {'PixelScaleType': {'type': 'string'},\n",
       "  'QuantityType': {'type': 'string'},\n",
       "  'UnitType': {'type': 'string'}},\n",
       " 'additionalProperties': False,\n",
       " 'description': 'A class to represent a CCD-based camera.\\n\\nParameters\\n----------\\n\\ndata_unit : `astropy.units.Unit`\\n    The unit of the data.\\n\\ngain : `astropy.units.Quantity`\\n    The gain of the camera in units such the product of `gain`\\n    times the image data has units equal to that of the `read_noise`.\\n\\nname : str\\n    The name of the camera; can be anything that helps the user identify\\n    the camera.\\n\\nread_noise : `astropy.units.Quantity`\\n    The read noise of the camera with units.\\n\\ndark_current : `astropy.units.Quantity`\\n    The dark current of the camera in units such that, when multiplied by\\n    exposure time, the unit matches the units of the `read_noise`.\\n\\npixel_scale : `astropy.units.Quantity`\\n    The pixel scale of the camera in units of arcseconds per pixel.\\n\\nmax_data_value : `astropy.units.Quantity`\\n    The maximum pixel value to allow while performing photometry. Pixel values\\n    above this will be set to ``NaN``. The unit must be ``data_unit``.\\n\\nAttributes\\n----------\\n\\ndata_unit : `astropy.units.Unit`\\n    The unit of the data.\\n\\ngain : `astropy.units.Quantity`\\n    The gain of the camera in units such the product of `gain`\\n    times the image data has units equal to that of the `read_noise`.\\n\\nname : str\\n    The name of the camera; can be anything that helps the user identify\\n    the camera.\\n\\nread_noise : `astropy.units.Quantity`\\n    The read noise of the camera with units.\\n\\ndark_current : `astropy.units.Quantity`\\n    The dark current of the camera in units such that, when multiplied by\\n    exposure time, the unit matches the units of the `read_noise`.\\n\\npixel_scale : `astropy.units.Quantity`\\n    The pixel scale of the camera in units of arcseconds per pixel.\\n\\nmax_data_value : `astropy.units.Quantity`\\n    The maximum pixel value to allow while performing photometry. Pixel values\\n    above this will be set to ``NaN``. The unit must be ``data_unit``.\\n\\nNotes\\n-----\\nThe gain, read noise, and dark current are all assumed to be constant\\nacross the entire CCD.\\n\\nExamples\\n--------\\n>>> from astropy import units as u\\n>>> from stellarphot.settings import Camera\\n>>> camera = Camera(data_unit=\"adu\",\\n...                 gain=1.0 * u.electron / u.adu,\\n...                 name=\"test camera\",\\n...                 read_noise=1.0 * u.electron,\\n...                 dark_current=0.01 * u.electron / u.second,\\n...                 pixel_scale=0.563 * u.arcsec / u.pixel,\\n...                 max_data_value=50000 * u.adu)\\n>>> camera.data_unit\\nUnit(\"adu\")\\n>>> camera.gain\\n<Quantity 1. electron / adu>\\n>>> camera.name\\n\\'test camera\\'\\n>>> camera.read_noise\\n<Quantity 1. electron>\\n>>> camera.dark_current\\n<Quantity 0.01 electron / s>\\n>>> camera.pixel_scale\\n<Quantity 0.563 arcsec / pix>\\n>>> camera.max_data_value\\n<Quantity 50000. adu>',\n",
       " 'properties': {'data_unit': {'allOf': [{'$ref': '#/$defs/UnitType'}],\n",
       "   'description': 'units of the data',\n",
       "   'examples': ['adu', 'counts', 'DN', 'electrons'],\n",
       "   'title': 'data_unit'},\n",
       "  'gainb': {'allOf': [{'$ref': '#/$defs/QuantityType'}],\n",
       "   'description': 'unit should be consistent with data and read noise',\n",
       "   'examples': ['1.0 electron / adu']},\n",
       "  'name': {'description': 'name of the camera',\n",
       "   'examples': ['test camera'],\n",
       "   'title': 'Name',\n",
       "   'type': 'string'},\n",
       "  'read_noise': {'allOf': [{'$ref': '#/$defs/QuantityType'}],\n",
       "   'description': 'unit should be consistent with dark current',\n",
       "   'examples': ['10.0 electron']},\n",
       "  'dark_current': {'allOf': [{'$ref': '#/$defs/QuantityType'}],\n",
       "   'description': 'unit consistent with read noise, per unit time',\n",
       "   'examples': ['0.01 electron / second']},\n",
       "  'pixel_scale': {'allOf': [{'$ref': '#/$defs/PixelScaleType'}],\n",
       "   'description': 'units of angle per pixel',\n",
       "   'examples': ['0.6 arcsec / pix']},\n",
       "  'max_data_value': {'allOf': [{'$ref': '#/$defs/QuantityType'}],\n",
       "   'description': 'maximum data value while performing photometry',\n",
       "   'examples': ['50000 adu']}},\n",
       " 'required': ['data_unit',\n",
       "  'gainb',\n",
       "  'name',\n",
       "  'read_noise',\n",
       "  'dark_current',\n",
       "  'pixel_scale',\n",
       "  'max_data_value'],\n",
       " 'title': 'Camera',\n",
       " 'type': 'object'}"
      ]
     },
     "execution_count": 29,
     "metadata": {},
     "output_type": "execute_result"
    }
   ],
   "source": [
    "cam.model_json_schema()"
   ]
  },
  {
   "cell_type": "code",
   "execution_count": 30,
   "id": "723e031e-8fcf-485a-b2bf-0b723e827dff",
   "metadata": {},
   "outputs": [],
   "source": [
    "from ipyautoui import AutoUi"
   ]
  },
  {
   "cell_type": "code",
   "execution_count": 31,
   "id": "5d6ec11b-2060-49ab-80bf-ccf8a9073e47",
   "metadata": {},
   "outputs": [
    {
     "name": "stdout",
     "output_type": "stream",
     "text": [
      "info=ValidationInfo(config={'title': 'Camera', 'extra_fields_behavior': 'forbid', 'validate_default': True}, context=None, data={}, field_name='data_unit')\n",
      "value=''\n",
      "info=ValidationInfo(config={'title': 'Camera', 'extra_fields_behavior': 'forbid', 'validate_default': True}, context=None, data={}, field_name='gainb')\n",
      "value=''\n",
      "info=ValidationInfo(config={'title': 'Camera', 'extra_fields_behavior': 'forbid', 'validate_default': True}, context=None, data={'name': ''}, field_name='gainb')\n",
      "value=''\n",
      "info=ValidationInfo(config={'title': 'Camera', 'extra_fields_behavior': 'forbid', 'validate_default': True}, context=None, data={'name': ''}, field_name='gainb')\n",
      "value=''\n",
      "info=ValidationInfo(config={'title': 'Camera', 'extra_fields_behavior': 'forbid', 'validate_default': True}, context=None, data={'name': ''}, field_name='pixel_scale')\n",
      "value=''\n",
      "info=ValidationInfo(config={'title': 'Camera', 'extra_fields_behavior': 'forbid', 'validate_default': True}, context=None, data={'name': ''}, field_name='gainb')\n",
      "value=''\n"
     ]
    }
   ],
   "source": [
    "ui = AutoUi(Camera)"
   ]
  },
  {
   "cell_type": "code",
   "execution_count": 32,
   "id": "5325a4f3-4431-4ecc-9e64-65597a28c7d5",
   "metadata": {},
   "outputs": [
    {
     "data": {
      "application/vnd.jupyter.widget-view+json": {
       "model_id": "144b2ab694224cb1aacc504cfbf60067",
       "version_major": 2,
       "version_minor": 0
      },
      "text/plain": [
       "AutoUi(children=(SaveButtonBar(children=(ToggleButton(value=False, button_style='success', disabled=True, icon…"
      ]
     },
     "execution_count": 32,
     "metadata": {},
     "output_type": "execute_result"
    }
   ],
   "source": [
    "ui"
   ]
  },
  {
   "cell_type": "code",
   "execution_count": 33,
   "id": "5cce6e70-8e06-4ec4-9ab6-b0968e81d802",
   "metadata": {},
   "outputs": [],
   "source": [
    "ui.show_validation = False"
   ]
  },
  {
   "cell_type": "code",
   "execution_count": 23,
   "id": "c75d0920-8c60-4186-91ba-9370b6b68660",
   "metadata": {},
   "outputs": [],
   "source": [
    "from pydantic import WithJsonSchema, GetPydanticSchema"
   ]
  },
  {
   "cell_type": "code",
   "execution_count": 24,
   "id": "95758f22-ba5d-4d60-8498-746ab8866a86",
   "metadata": {},
   "outputs": [
    {
     "ename": "SyntaxError",
     "evalue": "incomplete input (2598560689.py, line 1)",
     "output_type": "error",
     "traceback": [
      "\u001b[0;36m  Cell \u001b[0;32mIn[24], line 1\u001b[0;36m\u001b[0m\n\u001b[0;31m    GetPydanticSchema(\u001b[0m\n\u001b[0m                      ^\u001b[0m\n\u001b[0;31mSyntaxError\u001b[0m\u001b[0;31m:\u001b[0m incomplete input\n"
     ]
    }
   ],
   "source": [
    "GetPydanticSchema("
   ]
  },
  {
   "cell_type": "code",
   "execution_count": null,
   "id": "2a5fd195-9c31-4bc9-b869-b1428e4587ec",
   "metadata": {},
   "outputs": [],
   "source": [
    "from astropy.units import Quantity, Unit"
   ]
  },
  {
   "cell_type": "code",
   "execution_count": null,
   "id": "e3d536ed-09a9-48fb-a453-d29c6ed22b74",
   "metadata": {},
   "outputs": [],
   "source": [
    "repr(Unit(\"\"))"
   ]
  },
  {
   "cell_type": "code",
   "execution_count": null,
   "id": "2a7cd51d-ee97-4bef-a0ff-c1b83ecb9fcd",
   "metadata": {},
   "outputs": [],
   "source": [
    "repr(Unit(\"dimensionless_unscaled\"))"
   ]
  },
  {
   "cell_type": "code",
   "execution_count": null,
   "id": "c8ae0575-b4cc-4300-aa93-261faa388f63",
   "metadata": {},
   "outputs": [],
   "source": [
    "repr(Quantity(\"1 dimensionless_unscaled\"))"
   ]
  },
  {
   "cell_type": "code",
   "execution_count": null,
   "id": "51fa5418-c314-4adf-8e6c-9347de633f8b",
   "metadata": {},
   "outputs": [],
   "source": [
    "foo = Unit(\"3 meter\")"
   ]
  },
  {
   "cell_type": "code",
   "execution_count": null,
   "id": "6565db54-4dbc-4292-af60-0cb4ce69a911",
   "metadata": {},
   "outputs": [],
   "source": [
    "type(foo)"
   ]
  },
  {
   "cell_type": "code",
   "execution_count": null,
   "id": "25370632-f540-4ff4-a13d-bc873b320f85",
   "metadata": {},
   "outputs": [],
   "source": [
    "foo"
   ]
  },
  {
   "cell_type": "code",
   "execution_count": null,
   "id": "2cc53c9a-85c3-4ac1-8463-9b608a114290",
   "metadata": {},
   "outputs": [],
   "source": [
    "q = Quantity(\"3\")"
   ]
  },
  {
   "cell_type": "code",
   "execution_count": null,
   "id": "e53c403a-02d7-4374-bc2a-53fc2c099a16",
   "metadata": {},
   "outputs": [],
   "source": [
    "q.unit"
   ]
  },
  {
   "cell_type": "code",
   "execution_count": null,
   "id": "13ab396a-2f54-4497-80a9-9f28c786a1f7",
   "metadata": {},
   "outputs": [],
   "source": []
  }
 ],
 "metadata": {
  "kernelspec": {
   "display_name": "Python 3 (ipykernel)",
   "language": "python",
   "name": "python3"
  },
  "language_info": {
   "codemirror_mode": {
    "name": "ipython",
    "version": 3
   },
   "file_extension": ".py",
   "mimetype": "text/x-python",
   "name": "python",
   "nbconvert_exporter": "python",
   "pygments_lexer": "ipython3",
   "version": "3.11.7"
  }
 },
 "nbformat": 4,
 "nbformat_minor": 5
}
