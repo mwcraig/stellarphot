{
 "cells": [
  {
   "cell_type": "code",
   "execution_count": 1,
   "id": "64d321a4-c23e-489e-af94-e7b7358f9d4f",
   "metadata": {},
   "outputs": [],
   "source": [
    "from typing import Annotated\n",
    "from typing_extensions import TypeAliasType\n",
    "\n",
    "from pydantic import BeforeValidator, AfterValidator, WrapValidator, PlainValidator, BaseModel, PlainSerializer, WithJsonSchema\n",
    "\n",
    "class MyClass:\n",
    "    pass"
   ]
  },
  {
   "cell_type": "code",
   "execution_count": 2,
   "id": "53529c50-f1b3-48f8-bf1d-6ba896413959",
   "metadata": {},
   "outputs": [],
   "source": [
    "def dumb_validator(value, info):\n",
    "    return value\n",
    "\n",
    "def dumb_ser(value):\n",
    "    return str(value)"
   ]
  },
  {
   "cell_type": "code",
   "execution_count": 15,
   "id": "fc887988-75f3-412a-a1d6-27d13e8b58d1",
   "metadata": {},
   "outputs": [],
   "source": [
    "MyClassType = TypeAliasType(\n",
    "    'MyClassType',\n",
    "    Annotated[\n",
    "        int,\n",
    "        PlainValidator(dumb_validator),\n",
    "        PlainSerializer(dumb_ser),\n",
    "        WithJsonSchema({\"type\": \"monkey\"})\n",
    "    ]\n",
    ")"
   ]
  },
  {
   "cell_type": "code",
   "execution_count": 16,
   "id": "ddbf10c2-b1f8-4672-aabe-32335b179c38",
   "metadata": {},
   "outputs": [],
   "source": [
    "class MyModel(BaseModel):\n",
    "    a_thing: MyClassType\n",
    "    b_thing: MyClassType"
   ]
  },
  {
   "cell_type": "code",
   "execution_count": 17,
   "id": "30355550-7c5d-472d-8279-170ea5d7dd8c",
   "metadata": {},
   "outputs": [],
   "source": [
    "moo = MyModel(a_thing=5, b_thing=7)  # MyModel(a_thing=MyClassType, b_thing=\"hello\")"
   ]
  },
  {
   "cell_type": "code",
   "execution_count": 18,
   "id": "57344757-9ea5-4dd1-a973-56031a2c35d9",
   "metadata": {},
   "outputs": [
    {
     "data": {
      "text/plain": [
       "{'a_thing': '5', 'b_thing': '7'}"
      ]
     },
     "execution_count": 18,
     "metadata": {},
     "output_type": "execute_result"
    }
   ],
   "source": [
    "moo.model_dump()"
   ]
  },
  {
   "cell_type": "code",
   "execution_count": 19,
   "id": "f54e4e6f-b549-4f4a-878b-09b666e92a44",
   "metadata": {},
   "outputs": [
    {
     "data": {
      "text/plain": [
       "'{\"a_thing\":\"5\",\"b_thing\":\"7\"}'"
      ]
     },
     "execution_count": 19,
     "metadata": {},
     "output_type": "execute_result"
    }
   ],
   "source": [
    "moo.model_dump_json()"
   ]
  },
  {
   "cell_type": "code",
   "execution_count": 20,
   "id": "a7197cd0-bd0c-4bdb-a9cc-2ce79e051ded",
   "metadata": {},
   "outputs": [
    {
     "data": {
      "text/plain": [
       "{'$defs': {'MyClassType': {'type': 'monkey'}},\n",
       " 'properties': {'a_thing': {'$ref': '#/$defs/MyClassType'},\n",
       "  'b_thing': {'$ref': '#/$defs/MyClassType'}},\n",
       " 'required': ['a_thing', 'b_thing'],\n",
       " 'title': 'MyModel',\n",
       " 'type': 'object'}"
      ]
     },
     "execution_count": 20,
     "metadata": {},
     "output_type": "execute_result"
    }
   ],
   "source": [
    "moo.model_json_schema()"
   ]
  },
  {
   "cell_type": "code",
   "execution_count": 21,
   "id": "68e53421-5f74-4143-9aa9-4e6380ef9737",
   "metadata": {},
   "outputs": [],
   "source": [
    "class MyModelInt(BaseModel):\n",
    "    a_thing: int\n",
    "    b_thing: int"
   ]
  },
  {
   "cell_type": "code",
   "execution_count": 22,
   "id": "65e96df8-3b26-41c9-9bd6-af5a0f5da03f",
   "metadata": {},
   "outputs": [],
   "source": [
    "ioo = MyModelInt(a_thing=1, b_thing=2)"
   ]
  },
  {
   "cell_type": "code",
   "execution_count": 23,
   "id": "f7180d8a-8975-4748-b4ea-a15172ebd703",
   "metadata": {},
   "outputs": [
    {
     "data": {
      "text/plain": [
       "{'properties': {'a_thing': {'title': 'A Thing', 'type': 'integer'},\n",
       "  'b_thing': {'title': 'B Thing', 'type': 'integer'}},\n",
       " 'required': ['a_thing', 'b_thing'],\n",
       " 'title': 'MyModelInt',\n",
       " 'type': 'object'}"
      ]
     },
     "execution_count": 23,
     "metadata": {},
     "output_type": "execute_result"
    }
   ],
   "source": [
    "ioo.model_json_schema()"
   ]
  },
  {
   "cell_type": "code",
   "execution_count": null,
   "id": "22b6b0c5-821b-4c83-ad19-c2e3c676fc2a",
   "metadata": {},
   "outputs": [],
   "source": []
  }
 ],
 "metadata": {
  "kernelspec": {
   "display_name": "Python 3 (ipykernel)",
   "language": "python",
   "name": "python3"
  },
  "language_info": {
   "codemirror_mode": {
    "name": "ipython",
    "version": 3
   },
   "file_extension": ".py",
   "mimetype": "text/x-python",
   "name": "python",
   "nbconvert_exporter": "python",
   "pygments_lexer": "ipython3",
   "version": "3.11.7"
  }
 },
 "nbformat": 4,
 "nbformat_minor": 5
}
