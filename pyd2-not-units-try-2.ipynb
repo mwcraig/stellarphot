{
 "cells": [
  {
   "cell_type": "code",
   "execution_count": 38,
   "id": "64d321a4-c23e-489e-af94-e7b7358f9d4f",
   "metadata": {},
   "outputs": [],
   "source": [
    "from dataclasses import dataclass\n",
    "from typing import Annotated, Any\n",
    "from typing_extensions import TypeAliasType\n",
    "\n",
    "from pydantic import BeforeValidator, AfterValidator, WrapValidator, PlainValidator, BaseModel, PlainSerializer, WithJsonSchema, GetJsonSchemaHandler, Field\n",
    "\n",
    "from pydantic_core import core_schema"
   ]
  },
  {
   "cell_type": "code",
   "execution_count": 39,
   "id": "f8af857f-cc17-4fe3-b639-6239c2407107",
   "metadata": {},
   "outputs": [],
   "source": [
    "@dataclass\n",
    "class ThirdParty:\n",
    "    value: Any"
   ]
  },
  {
   "cell_type": "code",
   "execution_count": 40,
   "id": "7baada7f-9570-4519-94f1-c8e69a452590",
   "metadata": {},
   "outputs": [],
   "source": [
    "def my_validator(value, info):\n",
    "    print(f\"{info=}\")\n",
    "    return ThirdParty(value)"
   ]
  },
  {
   "cell_type": "code",
   "execution_count": 41,
   "id": "e5ee2516-90ec-4fef-98a1-4e54e89c2728",
   "metadata": {
    "jupyter": {
     "source_hidden": true
    }
   },
   "outputs": [],
   "source": [
    "class MyValidator:\n",
    "    @classmethod\n",
    "    def __get_pydantic_core_schema__(cls, source_type, handler):\n",
    "        def simple_validate(value, info):\n",
    "            print(f\"{value=}\")\n",
    "            print(f\"{info=}\")\n",
    "            print(f\"{', '.join(h for h in dir(handler) if not h.startswith('_'))}\")\n",
    "            print(f\"{handler.field_name=}\")\n",
    "            return ThirdParty(value)\n",
    "\n",
    "        return core_schema.with_info_plain_validator_function(simple_validate, field_name=handler.field_name)\n",
    "\n",
    "    # @classmethod\n",
    "    # def __get_pydantic_json_schema__(\n",
    "    #     cls, core_schema: core_schema.CoreSchema, handler: GetJsonSchemaHandler\n",
    "    # ):\n",
    "    #     print(f\"{dir(handler)=}\")\n",
    "    #     return core_schema\n",
    "        "
   ]
  },
  {
   "cell_type": "code",
   "execution_count": 42,
   "id": "5d9002b9-a5ae-41f5-82fa-46aa48023e87",
   "metadata": {},
   "outputs": [],
   "source": [
    "ThirdPartyType = TypeAliasType(\n",
    "    'ThirdPartyType',\n",
    "    Annotated[\n",
    "        ThirdParty,\n",
    "        PlainValidator(my_validator),\n",
    "        WithJsonSchema(core_schema.int_schema())\n",
    "    ]\n",
    ")"
   ]
  },
  {
   "cell_type": "code",
   "execution_count": 43,
   "id": "9da2481a-d90c-4d87-b85f-afe545a0c0fd",
   "metadata": {},
   "outputs": [],
   "source": [
    "class MyModel(BaseModel):\n",
    "    one: ThirdPartyType\n",
    "    two: ThirdPartyType\n",
    "    three: Annotated[ThirdPartyType, Field(title=\"three\")]"
   ]
  },
  {
   "cell_type": "code",
   "execution_count": 46,
   "id": "ff5fb5e7-5add-483f-84f0-6819d2c0a2d4",
   "metadata": {},
   "outputs": [
    {
     "name": "stdout",
     "output_type": "stream",
     "text": [
      "info=ValidationInfo(config={'title': 'MyModel'}, context=None, data={}, field_name='one')\n",
      "info=ValidationInfo(config={'title': 'MyModel'}, context=None, data={'one': ThirdParty(value=1)}, field_name='one')\n",
      "info=ValidationInfo(config={'title': 'MyModel'}, context=None, data={'one': ThirdParty(value=1), 'two': ThirdParty(value=2)}, field_name='one')\n"
     ]
    }
   ],
   "source": [
    "mod = MyModel(one=1, two=2, three=3)"
   ]
  },
  {
   "cell_type": "code",
   "execution_count": 47,
   "id": "3d7b1006-1197-42b5-82cb-3f7be67cf048",
   "metadata": {},
   "outputs": [
    {
     "data": {
      "text/plain": [
       "MyModel(one=ThirdParty(value=1), two=ThirdParty(value=2), three=ThirdParty(value=3))"
      ]
     },
     "execution_count": 47,
     "metadata": {},
     "output_type": "execute_result"
    }
   ],
   "source": [
    "mod"
   ]
  },
  {
   "cell_type": "code",
   "execution_count": 48,
   "id": "78a4552b-bd6f-46cf-b431-9cc2927b9d3f",
   "metadata": {},
   "outputs": [
    {
     "data": {
      "text/plain": [
       "{'one': {'value': 1}, 'two': {'value': 2}, 'three': {'value': 3}}"
      ]
     },
     "execution_count": 48,
     "metadata": {},
     "output_type": "execute_result"
    }
   ],
   "source": [
    "mod.model_dump()"
   ]
  },
  {
   "cell_type": "code",
   "execution_count": 49,
   "id": "2b7da5d7-a607-47b8-aa72-99c3079689f4",
   "metadata": {},
   "outputs": [
    {
     "data": {
      "text/plain": [
       "'{\"one\":{\"value\":1},\"two\":{\"value\":2},\"three\":{\"value\":3}}'"
      ]
     },
     "execution_count": 49,
     "metadata": {},
     "output_type": "execute_result"
    }
   ],
   "source": [
    "mod.model_dump_json()"
   ]
  },
  {
   "cell_type": "code",
   "execution_count": 50,
   "id": "526e20d9-af51-4bf0-af4e-4fcaa92fee13",
   "metadata": {},
   "outputs": [
    {
     "data": {
      "text/plain": [
       "{'$defs': {'ThirdPartyType': {'type': 'int'}},\n",
       " 'properties': {'one': {'$ref': '#/$defs/ThirdPartyType'},\n",
       "  'two': {'$ref': '#/$defs/ThirdPartyType'},\n",
       "  'three': {'allOf': [{'$ref': '#/$defs/ThirdPartyType'}], 'title': 'three'}},\n",
       " 'required': ['one', 'two', 'three'],\n",
       " 'title': 'MyModel',\n",
       " 'type': 'object'}"
      ]
     },
     "execution_count": 50,
     "metadata": {},
     "output_type": "execute_result"
    }
   ],
   "source": [
    "mod.model_json_schema()"
   ]
  },
  {
   "cell_type": "code",
   "execution_count": 54,
   "id": "b3d92a66-f153-4015-8667-5daf430b595d",
   "metadata": {},
   "outputs": [],
   "source": [
    "class IntModel(BaseModel):\n",
    "    one: int\n",
    "    two: int"
   ]
  },
  {
   "cell_type": "code",
   "execution_count": 55,
   "id": "567f00e3-28b5-4bca-9543-ac61b2ec3205",
   "metadata": {},
   "outputs": [],
   "source": [
    "my_int = IntModel(one=1, two=2)"
   ]
  },
  {
   "cell_type": "code",
   "execution_count": 56,
   "id": "b56902e3-8977-46f3-95d9-e8ea49a124c4",
   "metadata": {},
   "outputs": [
    {
     "data": {
      "text/plain": [
       "{'properties': {'one': {'title': 'One', 'type': 'integer'},\n",
       "  'two': {'title': 'Two', 'type': 'integer'}},\n",
       " 'required': ['one', 'two'],\n",
       " 'title': 'IntModel',\n",
       " 'type': 'object'}"
      ]
     },
     "execution_count": 56,
     "metadata": {},
     "output_type": "execute_result"
    }
   ],
   "source": [
    "my_int.model_json_schema()"
   ]
  },
  {
   "cell_type": "code",
   "execution_count": 6,
   "id": "66c8a48d-bfbb-4dfc-a10a-ecdadfd79133",
   "metadata": {},
   "outputs": [],
   "source": [
    "MyType = Annotated[\n",
    "        MyClass,\n",
    "        MyValidator(),\n",
    "    ]\n",
    "\n",
    "    "
   ]
  },
  {
   "cell_type": "code",
   "execution_count": 11,
   "id": "11fb489c-c65b-4ccf-907e-0ad638b4ff9c",
   "metadata": {},
   "outputs": [],
   "source": [
    "class MyModel(BaseModel):\n",
    "    # one: MyType\n",
    "    two: MyType"
   ]
  },
  {
   "cell_type": "code",
   "execution_count": 12,
   "id": "e99b2942-8bd3-42ec-a6db-ad9b8a94448e",
   "metadata": {},
   "outputs": [
    {
     "name": "stdout",
     "output_type": "stream",
     "text": [
      "value=5\n",
      "info=ValidationInfo(config={'title': 'MyModel'}, context=None, data={}, field_name='two')\n",
      "field_name, generate_schema, resolve_ref_schema\n",
      "handler.field_name=None\n"
     ]
    }
   ],
   "source": [
    "mod = MyModel(one=6, two=5)"
   ]
  },
  {
   "cell_type": "code",
   "execution_count": 13,
   "id": "0a9f72af-2bc5-49c5-ac76-2176d257e661",
   "metadata": {},
   "outputs": [
    {
     "data": {
      "text/plain": [
       "MyModel(two=MyClass(value=5))"
      ]
     },
     "execution_count": 13,
     "metadata": {},
     "output_type": "execute_result"
    }
   ],
   "source": [
    "mod"
   ]
  },
  {
   "cell_type": "code",
   "execution_count": 14,
   "id": "262e0535-804c-4a01-b217-38807fafc741",
   "metadata": {},
   "outputs": [
    {
     "ename": "PydanticInvalidForJsonSchema",
     "evalue": "Cannot generate a JsonSchema for core_schema.PlainValidatorFunctionSchema ({'type': 'with-info', 'function': <function MyValidator.__get_pydantic_core_schema__.<locals>.simple_validate at 0x10b780c20>, 'field_name': 'two'})\n\nFor further information visit https://errors.pydantic.dev/2.5/u/invalid-for-json-schema",
     "output_type": "error",
     "traceback": [
      "\u001b[0;31m---------------------------------------------------------------------------\u001b[0m",
      "\u001b[0;31mPydanticInvalidForJsonSchema\u001b[0m              Traceback (most recent call last)",
      "Cell \u001b[0;32mIn[14], line 1\u001b[0m\n\u001b[0;32m----> 1\u001b[0m \u001b[43mmod\u001b[49m\u001b[38;5;241;43m.\u001b[39;49m\u001b[43mmodel_json_schema\u001b[49m\u001b[43m(\u001b[49m\u001b[43m)\u001b[49m\n",
      "File \u001b[0;32m~/mambaforge/envs/stelldev-pyd2/lib/python3.11/site-packages/pydantic/main.py:385\u001b[0m, in \u001b[0;36mBaseModel.model_json_schema\u001b[0;34m(cls, by_alias, ref_template, schema_generator, mode)\u001b[0m\n\u001b[1;32m    365\u001b[0m \u001b[38;5;129m@classmethod\u001b[39m\n\u001b[1;32m    366\u001b[0m \u001b[38;5;28;01mdef\u001b[39;00m \u001b[38;5;21mmodel_json_schema\u001b[39m(\n\u001b[1;32m    367\u001b[0m     \u001b[38;5;28mcls\u001b[39m,\n\u001b[0;32m   (...)\u001b[0m\n\u001b[1;32m    371\u001b[0m     mode: JsonSchemaMode \u001b[38;5;241m=\u001b[39m \u001b[38;5;124m'\u001b[39m\u001b[38;5;124mvalidation\u001b[39m\u001b[38;5;124m'\u001b[39m,\n\u001b[1;32m    372\u001b[0m ) \u001b[38;5;241m-\u001b[39m\u001b[38;5;241m>\u001b[39m \u001b[38;5;28mdict\u001b[39m[\u001b[38;5;28mstr\u001b[39m, Any]:\n\u001b[1;32m    373\u001b[0m \u001b[38;5;250m    \u001b[39m\u001b[38;5;124;03m\"\"\"Generates a JSON schema for a model class.\u001b[39;00m\n\u001b[1;32m    374\u001b[0m \n\u001b[1;32m    375\u001b[0m \u001b[38;5;124;03m    Args:\u001b[39;00m\n\u001b[0;32m   (...)\u001b[0m\n\u001b[1;32m    383\u001b[0m \u001b[38;5;124;03m        The JSON schema for the given model class.\u001b[39;00m\n\u001b[1;32m    384\u001b[0m \u001b[38;5;124;03m    \"\"\"\u001b[39;00m\n\u001b[0;32m--> 385\u001b[0m     \u001b[38;5;28;01mreturn\u001b[39;00m \u001b[43mmodel_json_schema\u001b[49m\u001b[43m(\u001b[49m\n\u001b[1;32m    386\u001b[0m \u001b[43m        \u001b[49m\u001b[38;5;28;43mcls\u001b[39;49m\u001b[43m,\u001b[49m\u001b[43m \u001b[49m\u001b[43mby_alias\u001b[49m\u001b[38;5;241;43m=\u001b[39;49m\u001b[43mby_alias\u001b[49m\u001b[43m,\u001b[49m\u001b[43m \u001b[49m\u001b[43mref_template\u001b[49m\u001b[38;5;241;43m=\u001b[39;49m\u001b[43mref_template\u001b[49m\u001b[43m,\u001b[49m\u001b[43m \u001b[49m\u001b[43mschema_generator\u001b[49m\u001b[38;5;241;43m=\u001b[39;49m\u001b[43mschema_generator\u001b[49m\u001b[43m,\u001b[49m\u001b[43m \u001b[49m\u001b[43mmode\u001b[49m\u001b[38;5;241;43m=\u001b[39;49m\u001b[43mmode\u001b[49m\n\u001b[1;32m    387\u001b[0m \u001b[43m    \u001b[49m\u001b[43m)\u001b[49m\n",
      "File \u001b[0;32m~/mambaforge/envs/stelldev-pyd2/lib/python3.11/site-packages/pydantic/json_schema.py:2158\u001b[0m, in \u001b[0;36mmodel_json_schema\u001b[0;34m(cls, by_alias, ref_template, schema_generator, mode)\u001b[0m\n\u001b[1;32m   2156\u001b[0m     \u001b[38;5;28mcls\u001b[39m\u001b[38;5;241m.\u001b[39m__pydantic_validator__\u001b[38;5;241m.\u001b[39mrebuild()\n\u001b[1;32m   2157\u001b[0m \u001b[38;5;28;01massert\u001b[39;00m \u001b[38;5;124m'\u001b[39m\u001b[38;5;124m__pydantic_core_schema__\u001b[39m\u001b[38;5;124m'\u001b[39m \u001b[38;5;129;01min\u001b[39;00m \u001b[38;5;28mcls\u001b[39m\u001b[38;5;241m.\u001b[39m\u001b[38;5;18m__dict__\u001b[39m, \u001b[38;5;124m'\u001b[39m\u001b[38;5;124mthis is a bug! please report it\u001b[39m\u001b[38;5;124m'\u001b[39m\n\u001b[0;32m-> 2158\u001b[0m \u001b[38;5;28;01mreturn\u001b[39;00m \u001b[43mschema_generator_instance\u001b[49m\u001b[38;5;241;43m.\u001b[39;49m\u001b[43mgenerate\u001b[49m\u001b[43m(\u001b[49m\u001b[38;5;28;43mcls\u001b[39;49m\u001b[38;5;241;43m.\u001b[39;49m\u001b[43m__pydantic_core_schema__\u001b[49m\u001b[43m,\u001b[49m\u001b[43m \u001b[49m\u001b[43mmode\u001b[49m\u001b[38;5;241;43m=\u001b[39;49m\u001b[43mmode\u001b[49m\u001b[43m)\u001b[49m\n",
      "File \u001b[0;32m~/mambaforge/envs/stelldev-pyd2/lib/python3.11/site-packages/pydantic/json_schema.py:413\u001b[0m, in \u001b[0;36mGenerateJsonSchema.generate\u001b[0;34m(self, schema, mode)\u001b[0m\n\u001b[1;32m    406\u001b[0m \u001b[38;5;28;01mif\u001b[39;00m \u001b[38;5;28mself\u001b[39m\u001b[38;5;241m.\u001b[39m_used:\n\u001b[1;32m    407\u001b[0m     \u001b[38;5;28;01mraise\u001b[39;00m PydanticUserError(\n\u001b[1;32m    408\u001b[0m         \u001b[38;5;124m'\u001b[39m\u001b[38;5;124mThis JSON schema generator has already been used to generate a JSON schema. \u001b[39m\u001b[38;5;124m'\u001b[39m\n\u001b[1;32m    409\u001b[0m         \u001b[38;5;124mf\u001b[39m\u001b[38;5;124m'\u001b[39m\u001b[38;5;124mYou must create a new instance of \u001b[39m\u001b[38;5;132;01m{\u001b[39;00m\u001b[38;5;28mtype\u001b[39m(\u001b[38;5;28mself\u001b[39m)\u001b[38;5;241m.\u001b[39m\u001b[38;5;18m__name__\u001b[39m\u001b[38;5;132;01m}\u001b[39;00m\u001b[38;5;124m to generate a new JSON schema.\u001b[39m\u001b[38;5;124m'\u001b[39m,\n\u001b[1;32m    410\u001b[0m         code\u001b[38;5;241m=\u001b[39m\u001b[38;5;124m'\u001b[39m\u001b[38;5;124mjson-schema-already-used\u001b[39m\u001b[38;5;124m'\u001b[39m,\n\u001b[1;32m    411\u001b[0m     )\n\u001b[0;32m--> 413\u001b[0m json_schema: JsonSchemaValue \u001b[38;5;241m=\u001b[39m \u001b[38;5;28;43mself\u001b[39;49m\u001b[38;5;241;43m.\u001b[39;49m\u001b[43mgenerate_inner\u001b[49m\u001b[43m(\u001b[49m\u001b[43mschema\u001b[49m\u001b[43m)\u001b[49m\n\u001b[1;32m    414\u001b[0m json_ref_counts \u001b[38;5;241m=\u001b[39m \u001b[38;5;28mself\u001b[39m\u001b[38;5;241m.\u001b[39mget_json_ref_counts(json_schema)\n\u001b[1;32m    416\u001b[0m \u001b[38;5;66;03m# Remove the top-level $ref if present; note that the _generate method already ensures there are no sibling keys\u001b[39;00m\n",
      "File \u001b[0;32m~/mambaforge/envs/stelldev-pyd2/lib/python3.11/site-packages/pydantic/json_schema.py:552\u001b[0m, in \u001b[0;36mGenerateJsonSchema.generate_inner\u001b[0;34m(self, schema)\u001b[0m\n\u001b[1;32m    548\u001b[0m         \u001b[38;5;28;01mreturn\u001b[39;00m json_schema\n\u001b[1;32m    550\u001b[0m     current_handler \u001b[38;5;241m=\u001b[39m _schema_generation_shared\u001b[38;5;241m.\u001b[39mGenerateJsonSchemaHandler(\u001b[38;5;28mself\u001b[39m, new_handler_func)\n\u001b[0;32m--> 552\u001b[0m json_schema \u001b[38;5;241m=\u001b[39m \u001b[43mcurrent_handler\u001b[49m\u001b[43m(\u001b[49m\u001b[43mschema\u001b[49m\u001b[43m)\u001b[49m\n\u001b[1;32m    553\u001b[0m \u001b[38;5;28;01mif\u001b[39;00m _core_utils\u001b[38;5;241m.\u001b[39mis_core_schema(schema):\n\u001b[1;32m    554\u001b[0m     json_schema \u001b[38;5;241m=\u001b[39m populate_defs(schema, json_schema)\n",
      "File \u001b[0;32m~/mambaforge/envs/stelldev-pyd2/lib/python3.11/site-packages/pydantic/_internal/_schema_generation_shared.py:36\u001b[0m, in \u001b[0;36mGenerateJsonSchemaHandler.__call__\u001b[0;34m(self, _GenerateJsonSchemaHandler__core_schema)\u001b[0m\n\u001b[1;32m     35\u001b[0m \u001b[38;5;28;01mdef\u001b[39;00m \u001b[38;5;21m__call__\u001b[39m(\u001b[38;5;28mself\u001b[39m, __core_schema: CoreSchemaOrField) \u001b[38;5;241m-\u001b[39m\u001b[38;5;241m>\u001b[39m JsonSchemaValue:\n\u001b[0;32m---> 36\u001b[0m     \u001b[38;5;28;01mreturn\u001b[39;00m \u001b[38;5;28;43mself\u001b[39;49m\u001b[38;5;241;43m.\u001b[39;49m\u001b[43mhandler\u001b[49m\u001b[43m(\u001b[49m\u001b[43m__core_schema\u001b[49m\u001b[43m)\u001b[49m\n",
      "File \u001b[0;32m~/mambaforge/envs/stelldev-pyd2/lib/python3.11/site-packages/pydantic/json_schema.py:526\u001b[0m, in \u001b[0;36mGenerateJsonSchema.generate_inner.<locals>.new_handler_func\u001b[0;34m(schema_or_field, current_handler, js_modify_function)\u001b[0m\n\u001b[1;32m    521\u001b[0m \u001b[38;5;28;01mdef\u001b[39;00m \u001b[38;5;21mnew_handler_func\u001b[39m(\n\u001b[1;32m    522\u001b[0m     schema_or_field: CoreSchemaOrField,\n\u001b[1;32m    523\u001b[0m     current_handler: GetJsonSchemaHandler \u001b[38;5;241m=\u001b[39m current_handler,\n\u001b[1;32m    524\u001b[0m     js_modify_function: GetJsonSchemaFunction \u001b[38;5;241m=\u001b[39m js_modify_function,\n\u001b[1;32m    525\u001b[0m ) \u001b[38;5;241m-\u001b[39m\u001b[38;5;241m>\u001b[39m JsonSchemaValue:\n\u001b[0;32m--> 526\u001b[0m     json_schema \u001b[38;5;241m=\u001b[39m \u001b[43mjs_modify_function\u001b[49m\u001b[43m(\u001b[49m\u001b[43mschema_or_field\u001b[49m\u001b[43m,\u001b[49m\u001b[43m \u001b[49m\u001b[43mcurrent_handler\u001b[49m\u001b[43m)\u001b[49m\n\u001b[1;32m    527\u001b[0m     \u001b[38;5;28;01mif\u001b[39;00m _core_utils\u001b[38;5;241m.\u001b[39mis_core_schema(schema_or_field):\n\u001b[1;32m    528\u001b[0m         json_schema \u001b[38;5;241m=\u001b[39m populate_defs(schema_or_field, json_schema)\n",
      "File \u001b[0;32m~/mambaforge/envs/stelldev-pyd2/lib/python3.11/site-packages/pydantic/main.py:603\u001b[0m, in \u001b[0;36mBaseModel.__get_pydantic_json_schema__\u001b[0;34m(cls, _BaseModel__core_schema, _BaseModel__handler)\u001b[0m\n\u001b[1;32m    580\u001b[0m \u001b[38;5;129m@classmethod\u001b[39m\n\u001b[1;32m    581\u001b[0m \u001b[38;5;28;01mdef\u001b[39;00m \u001b[38;5;21m__get_pydantic_json_schema__\u001b[39m(\n\u001b[1;32m    582\u001b[0m     \u001b[38;5;28mcls\u001b[39m,\n\u001b[1;32m    583\u001b[0m     __core_schema: CoreSchema,\n\u001b[1;32m    584\u001b[0m     __handler: GetJsonSchemaHandler,\n\u001b[1;32m    585\u001b[0m ) \u001b[38;5;241m-\u001b[39m\u001b[38;5;241m>\u001b[39m JsonSchemaValue:\n\u001b[1;32m    586\u001b[0m \u001b[38;5;250m    \u001b[39m\u001b[38;5;124;03m\"\"\"Hook into generating the model's JSON schema.\u001b[39;00m\n\u001b[1;32m    587\u001b[0m \n\u001b[1;32m    588\u001b[0m \u001b[38;5;124;03m    Args:\u001b[39;00m\n\u001b[0;32m   (...)\u001b[0m\n\u001b[1;32m    601\u001b[0m \u001b[38;5;124;03m        A JSON schema, as a Python object.\u001b[39;00m\n\u001b[1;32m    602\u001b[0m \u001b[38;5;124;03m    \"\"\"\u001b[39;00m\n\u001b[0;32m--> 603\u001b[0m     \u001b[38;5;28;01mreturn\u001b[39;00m \u001b[43m__handler\u001b[49m\u001b[43m(\u001b[49m\u001b[43m__core_schema\u001b[49m\u001b[43m)\u001b[49m\n",
      "File \u001b[0;32m~/mambaforge/envs/stelldev-pyd2/lib/python3.11/site-packages/pydantic/_internal/_schema_generation_shared.py:36\u001b[0m, in \u001b[0;36mGenerateJsonSchemaHandler.__call__\u001b[0;34m(self, _GenerateJsonSchemaHandler__core_schema)\u001b[0m\n\u001b[1;32m     35\u001b[0m \u001b[38;5;28;01mdef\u001b[39;00m \u001b[38;5;21m__call__\u001b[39m(\u001b[38;5;28mself\u001b[39m, __core_schema: CoreSchemaOrField) \u001b[38;5;241m-\u001b[39m\u001b[38;5;241m>\u001b[39m JsonSchemaValue:\n\u001b[0;32m---> 36\u001b[0m     \u001b[38;5;28;01mreturn\u001b[39;00m \u001b[38;5;28;43mself\u001b[39;49m\u001b[38;5;241;43m.\u001b[39;49m\u001b[43mhandler\u001b[49m\u001b[43m(\u001b[49m\u001b[43m__core_schema\u001b[49m\u001b[43m)\u001b[49m\n",
      "File \u001b[0;32m~/mambaforge/envs/stelldev-pyd2/lib/python3.11/site-packages/pydantic/json_schema.py:526\u001b[0m, in \u001b[0;36mGenerateJsonSchema.generate_inner.<locals>.new_handler_func\u001b[0;34m(schema_or_field, current_handler, js_modify_function)\u001b[0m\n\u001b[1;32m    521\u001b[0m \u001b[38;5;28;01mdef\u001b[39;00m \u001b[38;5;21mnew_handler_func\u001b[39m(\n\u001b[1;32m    522\u001b[0m     schema_or_field: CoreSchemaOrField,\n\u001b[1;32m    523\u001b[0m     current_handler: GetJsonSchemaHandler \u001b[38;5;241m=\u001b[39m current_handler,\n\u001b[1;32m    524\u001b[0m     js_modify_function: GetJsonSchemaFunction \u001b[38;5;241m=\u001b[39m js_modify_function,\n\u001b[1;32m    525\u001b[0m ) \u001b[38;5;241m-\u001b[39m\u001b[38;5;241m>\u001b[39m JsonSchemaValue:\n\u001b[0;32m--> 526\u001b[0m     json_schema \u001b[38;5;241m=\u001b[39m \u001b[43mjs_modify_function\u001b[49m\u001b[43m(\u001b[49m\u001b[43mschema_or_field\u001b[49m\u001b[43m,\u001b[49m\u001b[43m \u001b[49m\u001b[43mcurrent_handler\u001b[49m\u001b[43m)\u001b[49m\n\u001b[1;32m    527\u001b[0m     \u001b[38;5;28;01mif\u001b[39;00m _core_utils\u001b[38;5;241m.\u001b[39mis_core_schema(schema_or_field):\n\u001b[1;32m    528\u001b[0m         json_schema \u001b[38;5;241m=\u001b[39m populate_defs(schema_or_field, json_schema)\n",
      "File \u001b[0;32m~/mambaforge/envs/stelldev-pyd2/lib/python3.11/site-packages/pydantic/_internal/_generate_schema.py:212\u001b[0m, in \u001b[0;36mmodify_model_json_schema\u001b[0;34m(schema_or_field, handler, cls)\u001b[0m\n\u001b[1;32m    199\u001b[0m \u001b[38;5;28;01mdef\u001b[39;00m \u001b[38;5;21mmodify_model_json_schema\u001b[39m(\n\u001b[1;32m    200\u001b[0m     schema_or_field: CoreSchemaOrField, handler: GetJsonSchemaHandler, \u001b[38;5;241m*\u001b[39m, \u001b[38;5;28mcls\u001b[39m: Any\n\u001b[1;32m    201\u001b[0m ) \u001b[38;5;241m-\u001b[39m\u001b[38;5;241m>\u001b[39m JsonSchemaValue:\n\u001b[1;32m    202\u001b[0m \u001b[38;5;250m    \u001b[39m\u001b[38;5;124;03m\"\"\"Add title and description for model-like classes' JSON schema.\u001b[39;00m\n\u001b[1;32m    203\u001b[0m \n\u001b[1;32m    204\u001b[0m \u001b[38;5;124;03m    Args:\u001b[39;00m\n\u001b[0;32m   (...)\u001b[0m\n\u001b[1;32m    210\u001b[0m \u001b[38;5;124;03m        JsonSchemaValue: The updated JSON schema.\u001b[39;00m\n\u001b[1;32m    211\u001b[0m \u001b[38;5;124;03m    \"\"\"\u001b[39;00m\n\u001b[0;32m--> 212\u001b[0m     json_schema \u001b[38;5;241m=\u001b[39m \u001b[43mhandler\u001b[49m\u001b[43m(\u001b[49m\u001b[43mschema_or_field\u001b[49m\u001b[43m)\u001b[49m\n\u001b[1;32m    213\u001b[0m     original_schema \u001b[38;5;241m=\u001b[39m handler\u001b[38;5;241m.\u001b[39mresolve_ref_schema(json_schema)\n\u001b[1;32m    214\u001b[0m     \u001b[38;5;66;03m# Preserve the fact that definitions schemas should never have sibling keys:\u001b[39;00m\n",
      "File \u001b[0;32m~/mambaforge/envs/stelldev-pyd2/lib/python3.11/site-packages/pydantic/_internal/_schema_generation_shared.py:36\u001b[0m, in \u001b[0;36mGenerateJsonSchemaHandler.__call__\u001b[0;34m(self, _GenerateJsonSchemaHandler__core_schema)\u001b[0m\n\u001b[1;32m     35\u001b[0m \u001b[38;5;28;01mdef\u001b[39;00m \u001b[38;5;21m__call__\u001b[39m(\u001b[38;5;28mself\u001b[39m, __core_schema: CoreSchemaOrField) \u001b[38;5;241m-\u001b[39m\u001b[38;5;241m>\u001b[39m JsonSchemaValue:\n\u001b[0;32m---> 36\u001b[0m     \u001b[38;5;28;01mreturn\u001b[39;00m \u001b[38;5;28;43mself\u001b[39;49m\u001b[38;5;241;43m.\u001b[39;49m\u001b[43mhandler\u001b[49m\u001b[43m(\u001b[49m\u001b[43m__core_schema\u001b[49m\u001b[43m)\u001b[49m\n",
      "File \u001b[0;32m~/mambaforge/envs/stelldev-pyd2/lib/python3.11/site-packages/pydantic/json_schema.py:509\u001b[0m, in \u001b[0;36mGenerateJsonSchema.generate_inner.<locals>.handler_func\u001b[0;34m(schema_or_field)\u001b[0m\n\u001b[1;32m    507\u001b[0m \u001b[38;5;28;01mif\u001b[39;00m _core_utils\u001b[38;5;241m.\u001b[39mis_core_schema(schema_or_field) \u001b[38;5;129;01mor\u001b[39;00m _core_utils\u001b[38;5;241m.\u001b[39mis_core_schema_field(schema_or_field):\n\u001b[1;32m    508\u001b[0m     generate_for_schema_type \u001b[38;5;241m=\u001b[39m \u001b[38;5;28mself\u001b[39m\u001b[38;5;241m.\u001b[39m_schema_type_to_method[schema_or_field[\u001b[38;5;124m'\u001b[39m\u001b[38;5;124mtype\u001b[39m\u001b[38;5;124m'\u001b[39m]]\n\u001b[0;32m--> 509\u001b[0m     json_schema \u001b[38;5;241m=\u001b[39m \u001b[43mgenerate_for_schema_type\u001b[49m\u001b[43m(\u001b[49m\u001b[43mschema_or_field\u001b[49m\u001b[43m)\u001b[49m\n\u001b[1;32m    510\u001b[0m \u001b[38;5;28;01melse\u001b[39;00m:\n\u001b[1;32m    511\u001b[0m     \u001b[38;5;28;01mraise\u001b[39;00m \u001b[38;5;167;01mTypeError\u001b[39;00m(\u001b[38;5;124mf\u001b[39m\u001b[38;5;124m'\u001b[39m\u001b[38;5;124mUnexpected schema type: schema=\u001b[39m\u001b[38;5;132;01m{\u001b[39;00mschema_or_field\u001b[38;5;132;01m}\u001b[39;00m\u001b[38;5;124m'\u001b[39m)\n",
      "File \u001b[0;32m~/mambaforge/envs/stelldev-pyd2/lib/python3.11/site-packages/pydantic/json_schema.py:1323\u001b[0m, in \u001b[0;36mGenerateJsonSchema.model_schema\u001b[0;34m(self, schema)\u001b[0m\n\u001b[1;32m   1320\u001b[0m title \u001b[38;5;241m=\u001b[39m config\u001b[38;5;241m.\u001b[39mget(\u001b[38;5;124m'\u001b[39m\u001b[38;5;124mtitle\u001b[39m\u001b[38;5;124m'\u001b[39m)\n\u001b[1;32m   1322\u001b[0m \u001b[38;5;28;01mwith\u001b[39;00m \u001b[38;5;28mself\u001b[39m\u001b[38;5;241m.\u001b[39m_config_wrapper_stack\u001b[38;5;241m.\u001b[39mpush(config):\n\u001b[0;32m-> 1323\u001b[0m     json_schema \u001b[38;5;241m=\u001b[39m \u001b[38;5;28;43mself\u001b[39;49m\u001b[38;5;241;43m.\u001b[39;49m\u001b[43mgenerate_inner\u001b[49m\u001b[43m(\u001b[49m\u001b[43mschema\u001b[49m\u001b[43m[\u001b[49m\u001b[38;5;124;43m'\u001b[39;49m\u001b[38;5;124;43mschema\u001b[39;49m\u001b[38;5;124;43m'\u001b[39;49m\u001b[43m]\u001b[49m\u001b[43m)\u001b[49m\n\u001b[1;32m   1325\u001b[0m json_schema_extra \u001b[38;5;241m=\u001b[39m config\u001b[38;5;241m.\u001b[39mget(\u001b[38;5;124m'\u001b[39m\u001b[38;5;124mjson_schema_extra\u001b[39m\u001b[38;5;124m'\u001b[39m)\n\u001b[1;32m   1326\u001b[0m \u001b[38;5;28;01mif\u001b[39;00m \u001b[38;5;28mcls\u001b[39m\u001b[38;5;241m.\u001b[39m__pydantic_root_model__:\n",
      "File \u001b[0;32m~/mambaforge/envs/stelldev-pyd2/lib/python3.11/site-packages/pydantic/json_schema.py:552\u001b[0m, in \u001b[0;36mGenerateJsonSchema.generate_inner\u001b[0;34m(self, schema)\u001b[0m\n\u001b[1;32m    548\u001b[0m         \u001b[38;5;28;01mreturn\u001b[39;00m json_schema\n\u001b[1;32m    550\u001b[0m     current_handler \u001b[38;5;241m=\u001b[39m _schema_generation_shared\u001b[38;5;241m.\u001b[39mGenerateJsonSchemaHandler(\u001b[38;5;28mself\u001b[39m, new_handler_func)\n\u001b[0;32m--> 552\u001b[0m json_schema \u001b[38;5;241m=\u001b[39m \u001b[43mcurrent_handler\u001b[49m\u001b[43m(\u001b[49m\u001b[43mschema\u001b[49m\u001b[43m)\u001b[49m\n\u001b[1;32m    553\u001b[0m \u001b[38;5;28;01mif\u001b[39;00m _core_utils\u001b[38;5;241m.\u001b[39mis_core_schema(schema):\n\u001b[1;32m    554\u001b[0m     json_schema \u001b[38;5;241m=\u001b[39m populate_defs(schema, json_schema)\n",
      "File \u001b[0;32m~/mambaforge/envs/stelldev-pyd2/lib/python3.11/site-packages/pydantic/_internal/_schema_generation_shared.py:36\u001b[0m, in \u001b[0;36mGenerateJsonSchemaHandler.__call__\u001b[0;34m(self, _GenerateJsonSchemaHandler__core_schema)\u001b[0m\n\u001b[1;32m     35\u001b[0m \u001b[38;5;28;01mdef\u001b[39;00m \u001b[38;5;21m__call__\u001b[39m(\u001b[38;5;28mself\u001b[39m, __core_schema: CoreSchemaOrField) \u001b[38;5;241m-\u001b[39m\u001b[38;5;241m>\u001b[39m JsonSchemaValue:\n\u001b[0;32m---> 36\u001b[0m     \u001b[38;5;28;01mreturn\u001b[39;00m \u001b[38;5;28;43mself\u001b[39;49m\u001b[38;5;241;43m.\u001b[39;49m\u001b[43mhandler\u001b[49m\u001b[43m(\u001b[49m\u001b[43m__core_schema\u001b[49m\u001b[43m)\u001b[49m\n",
      "File \u001b[0;32m~/mambaforge/envs/stelldev-pyd2/lib/python3.11/site-packages/pydantic/json_schema.py:509\u001b[0m, in \u001b[0;36mGenerateJsonSchema.generate_inner.<locals>.handler_func\u001b[0;34m(schema_or_field)\u001b[0m\n\u001b[1;32m    507\u001b[0m \u001b[38;5;28;01mif\u001b[39;00m _core_utils\u001b[38;5;241m.\u001b[39mis_core_schema(schema_or_field) \u001b[38;5;129;01mor\u001b[39;00m _core_utils\u001b[38;5;241m.\u001b[39mis_core_schema_field(schema_or_field):\n\u001b[1;32m    508\u001b[0m     generate_for_schema_type \u001b[38;5;241m=\u001b[39m \u001b[38;5;28mself\u001b[39m\u001b[38;5;241m.\u001b[39m_schema_type_to_method[schema_or_field[\u001b[38;5;124m'\u001b[39m\u001b[38;5;124mtype\u001b[39m\u001b[38;5;124m'\u001b[39m]]\n\u001b[0;32m--> 509\u001b[0m     json_schema \u001b[38;5;241m=\u001b[39m \u001b[43mgenerate_for_schema_type\u001b[49m\u001b[43m(\u001b[49m\u001b[43mschema_or_field\u001b[49m\u001b[43m)\u001b[49m\n\u001b[1;32m    510\u001b[0m \u001b[38;5;28;01melse\u001b[39;00m:\n\u001b[1;32m    511\u001b[0m     \u001b[38;5;28;01mraise\u001b[39;00m \u001b[38;5;167;01mTypeError\u001b[39;00m(\u001b[38;5;124mf\u001b[39m\u001b[38;5;124m'\u001b[39m\u001b[38;5;124mUnexpected schema type: schema=\u001b[39m\u001b[38;5;132;01m{\u001b[39;00mschema_or_field\u001b[38;5;132;01m}\u001b[39;00m\u001b[38;5;124m'\u001b[39m)\n",
      "File \u001b[0;32m~/mambaforge/envs/stelldev-pyd2/lib/python3.11/site-packages/pydantic/json_schema.py:1415\u001b[0m, in \u001b[0;36mGenerateJsonSchema.model_fields_schema\u001b[0;34m(self, schema)\u001b[0m\n\u001b[1;32m   1413\u001b[0m \u001b[38;5;28;01mif\u001b[39;00m \u001b[38;5;28mself\u001b[39m\u001b[38;5;241m.\u001b[39mmode \u001b[38;5;241m==\u001b[39m \u001b[38;5;124m'\u001b[39m\u001b[38;5;124mserialization\u001b[39m\u001b[38;5;124m'\u001b[39m:\n\u001b[1;32m   1414\u001b[0m     named_required_fields\u001b[38;5;241m.\u001b[39mextend(\u001b[38;5;28mself\u001b[39m\u001b[38;5;241m.\u001b[39m_name_required_computed_fields(schema\u001b[38;5;241m.\u001b[39mget(\u001b[38;5;124m'\u001b[39m\u001b[38;5;124mcomputed_fields\u001b[39m\u001b[38;5;124m'\u001b[39m, [])))\n\u001b[0;32m-> 1415\u001b[0m json_schema \u001b[38;5;241m=\u001b[39m \u001b[38;5;28;43mself\u001b[39;49m\u001b[38;5;241;43m.\u001b[39;49m\u001b[43m_named_required_fields_schema\u001b[49m\u001b[43m(\u001b[49m\u001b[43mnamed_required_fields\u001b[49m\u001b[43m)\u001b[49m\n\u001b[1;32m   1416\u001b[0m extras_schema \u001b[38;5;241m=\u001b[39m schema\u001b[38;5;241m.\u001b[39mget(\u001b[38;5;124m'\u001b[39m\u001b[38;5;124mextras_schema\u001b[39m\u001b[38;5;124m'\u001b[39m, \u001b[38;5;28;01mNone\u001b[39;00m)\n\u001b[1;32m   1417\u001b[0m \u001b[38;5;28;01mif\u001b[39;00m extras_schema \u001b[38;5;129;01mis\u001b[39;00m \u001b[38;5;129;01mnot\u001b[39;00m \u001b[38;5;28;01mNone\u001b[39;00m:\n",
      "File \u001b[0;32m~/mambaforge/envs/stelldev-pyd2/lib/python3.11/site-packages/pydantic/json_schema.py:1226\u001b[0m, in \u001b[0;36mGenerateJsonSchema._named_required_fields_schema\u001b[0;34m(self, named_required_fields)\u001b[0m\n\u001b[1;32m   1224\u001b[0m     name \u001b[38;5;241m=\u001b[39m \u001b[38;5;28mself\u001b[39m\u001b[38;5;241m.\u001b[39m_get_alias_name(field, name)\n\u001b[1;32m   1225\u001b[0m \u001b[38;5;28;01mtry\u001b[39;00m:\n\u001b[0;32m-> 1226\u001b[0m     field_json_schema \u001b[38;5;241m=\u001b[39m \u001b[38;5;28;43mself\u001b[39;49m\u001b[38;5;241;43m.\u001b[39;49m\u001b[43mgenerate_inner\u001b[49m\u001b[43m(\u001b[49m\u001b[43mfield\u001b[49m\u001b[43m)\u001b[49m\u001b[38;5;241m.\u001b[39mcopy()\n\u001b[1;32m   1227\u001b[0m \u001b[38;5;28;01mexcept\u001b[39;00m PydanticOmit:\n\u001b[1;32m   1228\u001b[0m     \u001b[38;5;28;01mcontinue\u001b[39;00m\n",
      "File \u001b[0;32m~/mambaforge/envs/stelldev-pyd2/lib/python3.11/site-packages/pydantic/json_schema.py:552\u001b[0m, in \u001b[0;36mGenerateJsonSchema.generate_inner\u001b[0;34m(self, schema)\u001b[0m\n\u001b[1;32m    548\u001b[0m         \u001b[38;5;28;01mreturn\u001b[39;00m json_schema\n\u001b[1;32m    550\u001b[0m     current_handler \u001b[38;5;241m=\u001b[39m _schema_generation_shared\u001b[38;5;241m.\u001b[39mGenerateJsonSchemaHandler(\u001b[38;5;28mself\u001b[39m, new_handler_func)\n\u001b[0;32m--> 552\u001b[0m json_schema \u001b[38;5;241m=\u001b[39m \u001b[43mcurrent_handler\u001b[49m\u001b[43m(\u001b[49m\u001b[43mschema\u001b[49m\u001b[43m)\u001b[49m\n\u001b[1;32m    553\u001b[0m \u001b[38;5;28;01mif\u001b[39;00m _core_utils\u001b[38;5;241m.\u001b[39mis_core_schema(schema):\n\u001b[1;32m    554\u001b[0m     json_schema \u001b[38;5;241m=\u001b[39m populate_defs(schema, json_schema)\n",
      "File \u001b[0;32m~/mambaforge/envs/stelldev-pyd2/lib/python3.11/site-packages/pydantic/_internal/_schema_generation_shared.py:36\u001b[0m, in \u001b[0;36mGenerateJsonSchemaHandler.__call__\u001b[0;34m(self, _GenerateJsonSchemaHandler__core_schema)\u001b[0m\n\u001b[1;32m     35\u001b[0m \u001b[38;5;28;01mdef\u001b[39;00m \u001b[38;5;21m__call__\u001b[39m(\u001b[38;5;28mself\u001b[39m, __core_schema: CoreSchemaOrField) \u001b[38;5;241m-\u001b[39m\u001b[38;5;241m>\u001b[39m JsonSchemaValue:\n\u001b[0;32m---> 36\u001b[0m     \u001b[38;5;28;01mreturn\u001b[39;00m \u001b[38;5;28;43mself\u001b[39;49m\u001b[38;5;241;43m.\u001b[39;49m\u001b[43mhandler\u001b[49m\u001b[43m(\u001b[49m\u001b[43m__core_schema\u001b[49m\u001b[43m)\u001b[49m\n",
      "File \u001b[0;32m~/mambaforge/envs/stelldev-pyd2/lib/python3.11/site-packages/pydantic/json_schema.py:544\u001b[0m, in \u001b[0;36mGenerateJsonSchema.generate_inner.<locals>.new_handler_func\u001b[0;34m(schema_or_field, current_handler, js_modify_function)\u001b[0m\n\u001b[1;32m    539\u001b[0m \u001b[38;5;28;01mdef\u001b[39;00m \u001b[38;5;21mnew_handler_func\u001b[39m(\n\u001b[1;32m    540\u001b[0m     schema_or_field: CoreSchemaOrField,\n\u001b[1;32m    541\u001b[0m     current_handler: GetJsonSchemaHandler \u001b[38;5;241m=\u001b[39m current_handler,\n\u001b[1;32m    542\u001b[0m     js_modify_function: GetJsonSchemaFunction \u001b[38;5;241m=\u001b[39m js_modify_function,\n\u001b[1;32m    543\u001b[0m ) \u001b[38;5;241m-\u001b[39m\u001b[38;5;241m>\u001b[39m JsonSchemaValue:\n\u001b[0;32m--> 544\u001b[0m     json_schema \u001b[38;5;241m=\u001b[39m \u001b[43mjs_modify_function\u001b[49m\u001b[43m(\u001b[49m\u001b[43mschema_or_field\u001b[49m\u001b[43m,\u001b[49m\u001b[43m \u001b[49m\u001b[43mcurrent_handler\u001b[49m\u001b[43m)\u001b[49m\n\u001b[1;32m    545\u001b[0m     \u001b[38;5;28;01mif\u001b[39;00m _core_utils\u001b[38;5;241m.\u001b[39mis_core_schema(schema_or_field):\n\u001b[1;32m    546\u001b[0m         json_schema \u001b[38;5;241m=\u001b[39m populate_defs(schema_or_field, json_schema)\n",
      "File \u001b[0;32m~/mambaforge/envs/stelldev-pyd2/lib/python3.11/site-packages/pydantic/_internal/_generate_schema.py:2012\u001b[0m, in \u001b[0;36mget_json_schema_update_func.<locals>.json_schema_update_func\u001b[0;34m(core_schema_or_field, handler)\u001b[0m\n\u001b[1;32m   2009\u001b[0m \u001b[38;5;28;01mdef\u001b[39;00m \u001b[38;5;21mjson_schema_update_func\u001b[39m(\n\u001b[1;32m   2010\u001b[0m     core_schema_or_field: CoreSchemaOrField, handler: GetJsonSchemaHandler\n\u001b[1;32m   2011\u001b[0m ) \u001b[38;5;241m-\u001b[39m\u001b[38;5;241m>\u001b[39m JsonSchemaValue:\n\u001b[0;32m-> 2012\u001b[0m     json_schema \u001b[38;5;241m=\u001b[39m {\u001b[38;5;241m*\u001b[39m\u001b[38;5;241m*\u001b[39m\u001b[43mhandler\u001b[49m\u001b[43m(\u001b[49m\u001b[43mcore_schema_or_field\u001b[49m\u001b[43m)\u001b[49m, \u001b[38;5;241m*\u001b[39m\u001b[38;5;241m*\u001b[39mjson_schema_update}\n\u001b[1;32m   2013\u001b[0m     add_json_schema_extra(json_schema, json_schema_extra)\n\u001b[1;32m   2014\u001b[0m     \u001b[38;5;28;01mreturn\u001b[39;00m json_schema\n",
      "File \u001b[0;32m~/mambaforge/envs/stelldev-pyd2/lib/python3.11/site-packages/pydantic/_internal/_schema_generation_shared.py:36\u001b[0m, in \u001b[0;36mGenerateJsonSchemaHandler.__call__\u001b[0;34m(self, _GenerateJsonSchemaHandler__core_schema)\u001b[0m\n\u001b[1;32m     35\u001b[0m \u001b[38;5;28;01mdef\u001b[39;00m \u001b[38;5;21m__call__\u001b[39m(\u001b[38;5;28mself\u001b[39m, __core_schema: CoreSchemaOrField) \u001b[38;5;241m-\u001b[39m\u001b[38;5;241m>\u001b[39m JsonSchemaValue:\n\u001b[0;32m---> 36\u001b[0m     \u001b[38;5;28;01mreturn\u001b[39;00m \u001b[38;5;28;43mself\u001b[39;49m\u001b[38;5;241;43m.\u001b[39;49m\u001b[43mhandler\u001b[49m\u001b[43m(\u001b[49m\u001b[43m__core_schema\u001b[49m\u001b[43m)\u001b[49m\n",
      "File \u001b[0;32m~/mambaforge/envs/stelldev-pyd2/lib/python3.11/site-packages/pydantic/json_schema.py:509\u001b[0m, in \u001b[0;36mGenerateJsonSchema.generate_inner.<locals>.handler_func\u001b[0;34m(schema_or_field)\u001b[0m\n\u001b[1;32m    507\u001b[0m \u001b[38;5;28;01mif\u001b[39;00m _core_utils\u001b[38;5;241m.\u001b[39mis_core_schema(schema_or_field) \u001b[38;5;129;01mor\u001b[39;00m _core_utils\u001b[38;5;241m.\u001b[39mis_core_schema_field(schema_or_field):\n\u001b[1;32m    508\u001b[0m     generate_for_schema_type \u001b[38;5;241m=\u001b[39m \u001b[38;5;28mself\u001b[39m\u001b[38;5;241m.\u001b[39m_schema_type_to_method[schema_or_field[\u001b[38;5;124m'\u001b[39m\u001b[38;5;124mtype\u001b[39m\u001b[38;5;124m'\u001b[39m]]\n\u001b[0;32m--> 509\u001b[0m     json_schema \u001b[38;5;241m=\u001b[39m \u001b[43mgenerate_for_schema_type\u001b[49m\u001b[43m(\u001b[49m\u001b[43mschema_or_field\u001b[49m\u001b[43m)\u001b[49m\n\u001b[1;32m    510\u001b[0m \u001b[38;5;28;01melse\u001b[39;00m:\n\u001b[1;32m    511\u001b[0m     \u001b[38;5;28;01mraise\u001b[39;00m \u001b[38;5;167;01mTypeError\u001b[39;00m(\u001b[38;5;124mf\u001b[39m\u001b[38;5;124m'\u001b[39m\u001b[38;5;124mUnexpected schema type: schema=\u001b[39m\u001b[38;5;132;01m{\u001b[39;00mschema_or_field\u001b[38;5;132;01m}\u001b[39;00m\u001b[38;5;124m'\u001b[39m)\n",
      "File \u001b[0;32m~/mambaforge/envs/stelldev-pyd2/lib/python3.11/site-packages/pydantic/json_schema.py:1294\u001b[0m, in \u001b[0;36mGenerateJsonSchema.model_field_schema\u001b[0;34m(self, schema)\u001b[0m\n\u001b[1;32m   1285\u001b[0m \u001b[38;5;28;01mdef\u001b[39;00m \u001b[38;5;21mmodel_field_schema\u001b[39m(\u001b[38;5;28mself\u001b[39m, schema: core_schema\u001b[38;5;241m.\u001b[39mModelField) \u001b[38;5;241m-\u001b[39m\u001b[38;5;241m>\u001b[39m JsonSchemaValue:\n\u001b[1;32m   1286\u001b[0m \u001b[38;5;250m    \u001b[39m\u001b[38;5;124;03m\"\"\"Generates a JSON schema that matches a schema that defines a model field.\u001b[39;00m\n\u001b[1;32m   1287\u001b[0m \n\u001b[1;32m   1288\u001b[0m \u001b[38;5;124;03m    Args:\u001b[39;00m\n\u001b[0;32m   (...)\u001b[0m\n\u001b[1;32m   1292\u001b[0m \u001b[38;5;124;03m        The generated JSON schema.\u001b[39;00m\n\u001b[1;32m   1293\u001b[0m \u001b[38;5;124;03m    \"\"\"\u001b[39;00m\n\u001b[0;32m-> 1294\u001b[0m     \u001b[38;5;28;01mreturn\u001b[39;00m \u001b[38;5;28;43mself\u001b[39;49m\u001b[38;5;241;43m.\u001b[39;49m\u001b[43mgenerate_inner\u001b[49m\u001b[43m(\u001b[49m\u001b[43mschema\u001b[49m\u001b[43m[\u001b[49m\u001b[38;5;124;43m'\u001b[39;49m\u001b[38;5;124;43mschema\u001b[39;49m\u001b[38;5;124;43m'\u001b[39;49m\u001b[43m]\u001b[49m\u001b[43m)\u001b[49m\n",
      "File \u001b[0;32m~/mambaforge/envs/stelldev-pyd2/lib/python3.11/site-packages/pydantic/json_schema.py:552\u001b[0m, in \u001b[0;36mGenerateJsonSchema.generate_inner\u001b[0;34m(self, schema)\u001b[0m\n\u001b[1;32m    548\u001b[0m         \u001b[38;5;28;01mreturn\u001b[39;00m json_schema\n\u001b[1;32m    550\u001b[0m     current_handler \u001b[38;5;241m=\u001b[39m _schema_generation_shared\u001b[38;5;241m.\u001b[39mGenerateJsonSchemaHandler(\u001b[38;5;28mself\u001b[39m, new_handler_func)\n\u001b[0;32m--> 552\u001b[0m json_schema \u001b[38;5;241m=\u001b[39m \u001b[43mcurrent_handler\u001b[49m\u001b[43m(\u001b[49m\u001b[43mschema\u001b[49m\u001b[43m)\u001b[49m\n\u001b[1;32m    553\u001b[0m \u001b[38;5;28;01mif\u001b[39;00m _core_utils\u001b[38;5;241m.\u001b[39mis_core_schema(schema):\n\u001b[1;32m    554\u001b[0m     json_schema \u001b[38;5;241m=\u001b[39m populate_defs(schema, json_schema)\n",
      "File \u001b[0;32m~/mambaforge/envs/stelldev-pyd2/lib/python3.11/site-packages/pydantic/_internal/_schema_generation_shared.py:36\u001b[0m, in \u001b[0;36mGenerateJsonSchemaHandler.__call__\u001b[0;34m(self, _GenerateJsonSchemaHandler__core_schema)\u001b[0m\n\u001b[1;32m     35\u001b[0m \u001b[38;5;28;01mdef\u001b[39;00m \u001b[38;5;21m__call__\u001b[39m(\u001b[38;5;28mself\u001b[39m, __core_schema: CoreSchemaOrField) \u001b[38;5;241m-\u001b[39m\u001b[38;5;241m>\u001b[39m JsonSchemaValue:\n\u001b[0;32m---> 36\u001b[0m     \u001b[38;5;28;01mreturn\u001b[39;00m \u001b[38;5;28;43mself\u001b[39;49m\u001b[38;5;241;43m.\u001b[39;49m\u001b[43mhandler\u001b[49m\u001b[43m(\u001b[49m\u001b[43m__core_schema\u001b[49m\u001b[43m)\u001b[49m\n",
      "File \u001b[0;32m~/mambaforge/envs/stelldev-pyd2/lib/python3.11/site-packages/pydantic/json_schema.py:509\u001b[0m, in \u001b[0;36mGenerateJsonSchema.generate_inner.<locals>.handler_func\u001b[0;34m(schema_or_field)\u001b[0m\n\u001b[1;32m    507\u001b[0m \u001b[38;5;28;01mif\u001b[39;00m _core_utils\u001b[38;5;241m.\u001b[39mis_core_schema(schema_or_field) \u001b[38;5;129;01mor\u001b[39;00m _core_utils\u001b[38;5;241m.\u001b[39mis_core_schema_field(schema_or_field):\n\u001b[1;32m    508\u001b[0m     generate_for_schema_type \u001b[38;5;241m=\u001b[39m \u001b[38;5;28mself\u001b[39m\u001b[38;5;241m.\u001b[39m_schema_type_to_method[schema_or_field[\u001b[38;5;124m'\u001b[39m\u001b[38;5;124mtype\u001b[39m\u001b[38;5;124m'\u001b[39m]]\n\u001b[0;32m--> 509\u001b[0m     json_schema \u001b[38;5;241m=\u001b[39m \u001b[43mgenerate_for_schema_type\u001b[49m\u001b[43m(\u001b[49m\u001b[43mschema_or_field\u001b[49m\u001b[43m)\u001b[49m\n\u001b[1;32m    510\u001b[0m \u001b[38;5;28;01melse\u001b[39;00m:\n\u001b[1;32m    511\u001b[0m     \u001b[38;5;28;01mraise\u001b[39;00m \u001b[38;5;167;01mTypeError\u001b[39;00m(\u001b[38;5;124mf\u001b[39m\u001b[38;5;124m'\u001b[39m\u001b[38;5;124mUnexpected schema type: schema=\u001b[39m\u001b[38;5;132;01m{\u001b[39;00mschema_or_field\u001b[38;5;132;01m}\u001b[39;00m\u001b[38;5;124m'\u001b[39m)\n",
      "File \u001b[0;32m~/mambaforge/envs/stelldev-pyd2/lib/python3.11/site-packages/pydantic/json_schema.py:956\u001b[0m, in \u001b[0;36mGenerateJsonSchema.function_plain_schema\u001b[0;34m(self, schema)\u001b[0m\n\u001b[1;32m    947\u001b[0m \u001b[38;5;28;01mdef\u001b[39;00m \u001b[38;5;21mfunction_plain_schema\u001b[39m(\u001b[38;5;28mself\u001b[39m, schema: core_schema\u001b[38;5;241m.\u001b[39mPlainValidatorFunctionSchema) \u001b[38;5;241m-\u001b[39m\u001b[38;5;241m>\u001b[39m JsonSchemaValue:\n\u001b[1;32m    948\u001b[0m \u001b[38;5;250m    \u001b[39m\u001b[38;5;124;03m\"\"\"Generates a JSON schema that matches a function-plain schema.\u001b[39;00m\n\u001b[1;32m    949\u001b[0m \n\u001b[1;32m    950\u001b[0m \u001b[38;5;124;03m    Args:\u001b[39;00m\n\u001b[0;32m   (...)\u001b[0m\n\u001b[1;32m    954\u001b[0m \u001b[38;5;124;03m        The generated JSON schema.\u001b[39;00m\n\u001b[1;32m    955\u001b[0m \u001b[38;5;124;03m    \"\"\"\u001b[39;00m\n\u001b[0;32m--> 956\u001b[0m     \u001b[38;5;28;01mreturn\u001b[39;00m \u001b[38;5;28;43mself\u001b[39;49m\u001b[38;5;241;43m.\u001b[39;49m\u001b[43m_function_schema\u001b[49m\u001b[43m(\u001b[49m\u001b[43mschema\u001b[49m\u001b[43m)\u001b[49m\n",
      "File \u001b[0;32m~/mambaforge/envs/stelldev-pyd2/lib/python3.11/site-packages/pydantic/json_schema.py:921\u001b[0m, in \u001b[0;36mGenerateJsonSchema._function_schema\u001b[0;34m(self, schema)\u001b[0m\n\u001b[1;32m    918\u001b[0m     \u001b[38;5;28;01mreturn\u001b[39;00m \u001b[38;5;28mself\u001b[39m\u001b[38;5;241m.\u001b[39mgenerate_inner(schema[\u001b[38;5;124m'\u001b[39m\u001b[38;5;124mschema\u001b[39m\u001b[38;5;124m'\u001b[39m])\n\u001b[1;32m    920\u001b[0m \u001b[38;5;66;03m# function-plain\u001b[39;00m\n\u001b[0;32m--> 921\u001b[0m \u001b[38;5;28;01mreturn\u001b[39;00m \u001b[38;5;28;43mself\u001b[39;49m\u001b[38;5;241;43m.\u001b[39;49m\u001b[43mhandle_invalid_for_json_schema\u001b[49m\u001b[43m(\u001b[49m\n\u001b[1;32m    922\u001b[0m \u001b[43m    \u001b[49m\u001b[43mschema\u001b[49m\u001b[43m,\u001b[49m\u001b[43m \u001b[49m\u001b[38;5;124;43mf\u001b[39;49m\u001b[38;5;124;43m'\u001b[39;49m\u001b[38;5;124;43mcore_schema.PlainValidatorFunctionSchema (\u001b[39;49m\u001b[38;5;132;43;01m{\u001b[39;49;00m\u001b[43mschema\u001b[49m\u001b[43m[\u001b[49m\u001b[38;5;124;43m\"\u001b[39;49m\u001b[38;5;124;43mfunction\u001b[39;49m\u001b[38;5;124;43m\"\u001b[39;49m\u001b[43m]\u001b[49m\u001b[38;5;132;43;01m}\u001b[39;49;00m\u001b[38;5;124;43m)\u001b[39;49m\u001b[38;5;124;43m'\u001b[39;49m\n\u001b[1;32m    923\u001b[0m \u001b[43m\u001b[49m\u001b[43m)\u001b[49m\n",
      "File \u001b[0;32m~/mambaforge/envs/stelldev-pyd2/lib/python3.11/site-packages/pydantic/json_schema.py:2074\u001b[0m, in \u001b[0;36mGenerateJsonSchema.handle_invalid_for_json_schema\u001b[0;34m(self, schema, error_info)\u001b[0m\n\u001b[1;32m   2073\u001b[0m \u001b[38;5;28;01mdef\u001b[39;00m \u001b[38;5;21mhandle_invalid_for_json_schema\u001b[39m(\u001b[38;5;28mself\u001b[39m, schema: CoreSchemaOrField, error_info: \u001b[38;5;28mstr\u001b[39m) \u001b[38;5;241m-\u001b[39m\u001b[38;5;241m>\u001b[39m JsonSchemaValue:\n\u001b[0;32m-> 2074\u001b[0m     \u001b[38;5;28;01mraise\u001b[39;00m PydanticInvalidForJsonSchema(\u001b[38;5;124mf\u001b[39m\u001b[38;5;124m'\u001b[39m\u001b[38;5;124mCannot generate a JsonSchema for \u001b[39m\u001b[38;5;132;01m{\u001b[39;00merror_info\u001b[38;5;132;01m}\u001b[39;00m\u001b[38;5;124m'\u001b[39m)\n",
      "\u001b[0;31mPydanticInvalidForJsonSchema\u001b[0m: Cannot generate a JsonSchema for core_schema.PlainValidatorFunctionSchema ({'type': 'with-info', 'function': <function MyValidator.__get_pydantic_core_schema__.<locals>.simple_validate at 0x10b780c20>, 'field_name': 'two'})\n\nFor further information visit https://errors.pydantic.dev/2.5/u/invalid-for-json-schema"
     ]
    }
   ],
   "source": [
    "mod.model_json_schema()"
   ]
  },
  {
   "cell_type": "code",
   "execution_count": null,
   "id": "a24a2c1b-0612-4fa0-82bc-6d26abd5c6b2",
   "metadata": {},
   "outputs": [],
   "source": []
  }
 ],
 "metadata": {
  "kernelspec": {
   "display_name": "Python 3 (ipykernel)",
   "language": "python",
   "name": "python3"
  },
  "language_info": {
   "codemirror_mode": {
    "name": "ipython",
    "version": 3
   },
   "file_extension": ".py",
   "mimetype": "text/x-python",
   "name": "python",
   "nbconvert_exporter": "python",
   "pygments_lexer": "ipython3",
   "version": "3.11.4"
  }
 },
 "nbformat": 4,
 "nbformat_minor": 5
}
