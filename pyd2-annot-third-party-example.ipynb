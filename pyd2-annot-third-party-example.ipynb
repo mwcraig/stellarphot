{
 "cells": [
  {
   "cell_type": "code",
   "execution_count": 3,
   "id": "62962901-3813-4c96-afba-8c746bbd8ccd",
   "metadata": {
    "scrolled": true
   },
   "outputs": [
    {
     "name": "stdout",
     "output_type": "stream",
     "text": [
      "2 validation errors for Model\n",
      "third_party_type.is-instance[ThirdPartyType]\n",
      "  Input should be an instance of ThirdPartyType [type=is_instance_of, input_value='a', input_type=str]\n",
      "    For further information visit https://errors.pydantic.dev/2.5/v/is_instance_of\n",
      "third_party_type.chain[int,function-plain[validate_from_int()]]\n",
      "  Input should be a valid integer, unable to parse string as an integer [type=int_parsing, input_value='a', input_type=str]\n",
      "    For further information visit https://errors.pydantic.dev/2.5/v/int_parsing\n"
     ]
    }
   ],
   "source": [
    "from typing import Any\n",
    "\n",
    "from pydantic_core import core_schema\n",
    "from typing_extensions import Annotated\n",
    "\n",
    "from pydantic import (\n",
    "    BaseModel,\n",
    "    GetCoreSchemaHandler,\n",
    "    GetJsonSchemaHandler,\n",
    "    ValidationError,\n",
    ")\n",
    "from pydantic.json_schema import JsonSchemaValue\n",
    "\n",
    "\n",
    "class ThirdPartyType:\n",
    "    \"\"\"\n",
    "    This is meant to represent a type from a third-party library that wasn't designed with Pydantic\n",
    "    integration in mind, and so doesn't have a `pydantic_core.CoreSchema` or anything.\n",
    "    \"\"\"\n",
    "\n",
    "    x: int\n",
    "\n",
    "    def __init__(self):\n",
    "        self.x = 0\n",
    "\n",
    "\n",
    "class _ThirdPartyTypePydanticAnnotation:\n",
    "    @classmethod\n",
    "    def __get_pydantic_core_schema__(\n",
    "        cls,\n",
    "        _source_type: Any,\n",
    "        _handler: GetCoreSchemaHandler,\n",
    "    ) -> core_schema.CoreSchema:\n",
    "        \"\"\"\n",
    "        We return a pydantic_core.CoreSchema that behaves in the following ways:\n",
    "\n",
    "        * ints will be parsed as `ThirdPartyType` instances with the int as the x attribute\n",
    "        * `ThirdPartyType` instances will be parsed as `ThirdPartyType` instances without any changes\n",
    "        * Nothing else will pass validation\n",
    "        * Serialization will always return just an int\n",
    "        \"\"\"\n",
    "\n",
    "        def validate_from_int(value: int) -> ThirdPartyType:\n",
    "            result = ThirdPartyType()\n",
    "            result.x = value\n",
    "            return result\n",
    "\n",
    "        from_int_schema = core_schema.chain_schema(\n",
    "            [\n",
    "                core_schema.int_schema(),\n",
    "                core_schema.no_info_plain_validator_function(validate_from_int),\n",
    "            ]\n",
    "        )\n",
    "\n",
    "        return core_schema.json_or_python_schema(\n",
    "            json_schema=from_int_schema,\n",
    "            python_schema=core_schema.union_schema(\n",
    "                [\n",
    "                    # check if it's an instance first before doing any further work\n",
    "                    core_schema.is_instance_schema(ThirdPartyType),\n",
    "                    from_int_schema,\n",
    "                ]\n",
    "            ),\n",
    "            serialization=core_schema.plain_serializer_function_ser_schema(\n",
    "                lambda instance: instance.x\n",
    "            ),\n",
    "        )\n",
    "\n",
    "    # @classmethod\n",
    "    # def __get_pydantic_json_schema__(\n",
    "    #     cls, _core_schema: core_schema.CoreSchema, handler: GetJsonSchemaHandler\n",
    "    # ) -> JsonSchemaValue:\n",
    "    #     # Use the same schema that would be used for `int`\n",
    "    #     return handler(core_schema.int_schema())\n",
    "\n",
    "\n",
    "# We now create an `Annotated` wrapper that we'll use as the annotation for fields on `BaseModel`s, etc.\n",
    "PydanticThirdPartyType = Annotated[\n",
    "    ThirdPartyType, _ThirdPartyTypePydanticAnnotation\n",
    "]\n",
    "\n",
    "\n",
    "# Create a model class that uses this annotation as a field\n",
    "class Model(BaseModel):\n",
    "    third_party_type: PydanticThirdPartyType\n",
    "\n",
    "\n",
    "# Demonstrate that this field is handled correctly, that ints are parsed into `ThirdPartyType`, and that\n",
    "# these instances are also \"dumped\" directly into ints as expected.\n",
    "m_int = Model(third_party_type=1)\n",
    "assert isinstance(m_int.third_party_type, ThirdPartyType)\n",
    "assert m_int.third_party_type.x == 1\n",
    "assert m_int.model_dump() == {'third_party_type': 1}\n",
    "\n",
    "# Do the same thing where an instance of ThirdPartyType is passed in\n",
    "instance = ThirdPartyType()\n",
    "assert instance.x == 0\n",
    "instance.x = 10\n",
    "\n",
    "m_instance = Model(third_party_type=instance)\n",
    "assert isinstance(m_instance.third_party_type, ThirdPartyType)\n",
    "assert m_instance.third_party_type.x == 10\n",
    "assert m_instance.model_dump() == {'third_party_type': 10}\n",
    "\n",
    "# Demonstrate that validation errors are raised as expected for invalid inputs\n",
    "try:\n",
    "    Model(third_party_type='a')\n",
    "except ValidationError as e:\n",
    "    print(e)\n",
    "    \"\"\"\n",
    "    2 validation errors for Model\n",
    "    third_party_type.is-instance[ThirdPartyType]\n",
    "      Input should be an instance of ThirdPartyType [type=is_instance_of, input_value='a', input_type=str]\n",
    "    third_party_type.chain[int,function-plain[validate_from_int()]]\n",
    "      Input should be a valid integer, unable to parse string as an integer [type=int_parsing, input_value='a', input_type=str]\n",
    "    \"\"\"\n",
    "\n",
    "\n",
    "assert Model.model_json_schema() == {\n",
    "    'properties': {\n",
    "        'third_party_type': {'title': 'Third Party Type', 'type': 'integer'}\n",
    "    },\n",
    "    'required': ['third_party_type'],\n",
    "    'title': 'Model',\n",
    "    'type': 'object',\n",
    "}\n"
   ]
  },
  {
   "cell_type": "code",
   "execution_count": 5,
   "id": "df953905-cad2-4a46-9b1e-0583be2b8b6c",
   "metadata": {},
   "outputs": [],
   "source": [
    "class TheurModel(BaseModel):\n",
    "    one: PydanticThirdPartyType\n",
    "    two: PydanticThirdPartyType"
   ]
  },
  {
   "cell_type": "code",
   "execution_count": 6,
   "id": "3bc76d4f-762c-4512-a885-3262e33cfb2a",
   "metadata": {},
   "outputs": [],
   "source": [
    "# Create a model class that uses this annotation as a field\n",
    "class MyModel(BaseModel):\n",
    "    third_party_type: PydanticThirdPartyType\n",
    "    tpt: PydanticThirdPartyType"
   ]
  },
  {
   "cell_type": "code",
   "execution_count": 7,
   "id": "1c1acf88-1bf0-40a7-b211-756921528028",
   "metadata": {},
   "outputs": [],
   "source": [
    "mm = MyModel(third_party_type=3, tpt=8)"
   ]
  },
  {
   "cell_type": "code",
   "execution_count": 8,
   "id": "087a5068-ce2b-48ac-80dc-14a0c2de053b",
   "metadata": {},
   "outputs": [
    {
     "data": {
      "text/plain": [
       "{'properties': {'third_party_type': {'title': 'Third Party Type',\n",
       "   'type': 'integer'},\n",
       "  'tpt': {'title': 'Tpt', 'type': 'integer'}},\n",
       " 'required': ['third_party_type', 'tpt'],\n",
       " 'title': 'MyModel',\n",
       " 'type': 'object'}"
      ]
     },
     "execution_count": 8,
     "metadata": {},
     "output_type": "execute_result"
    }
   ],
   "source": [
    "mm.model_json_schema()"
   ]
  },
  {
   "cell_type": "code",
   "execution_count": 9,
   "id": "15d9a917-1b59-41e5-9586-40b137cec8b0",
   "metadata": {},
   "outputs": [
    {
     "data": {
      "text/plain": [
       "'{\"third_party_type\":3,\"tpt\":8}'"
      ]
     },
     "execution_count": 9,
     "metadata": {},
     "output_type": "execute_result"
    }
   ],
   "source": [
    "mm.model_dump_json()"
   ]
  },
  {
   "cell_type": "code",
   "execution_count": 10,
   "id": "8ea301ae-a853-4422-9340-292aa2ce95c7",
   "metadata": {},
   "outputs": [],
   "source": [
    "tm = TheurModel(one=8, two=1)"
   ]
  },
  {
   "cell_type": "code",
   "execution_count": 11,
   "id": "fa7abf0f-6602-4d6e-a553-e7c97afb1b29",
   "metadata": {},
   "outputs": [
    {
     "data": {
      "text/plain": [
       "{'properties': {'one': {'title': 'One', 'type': 'integer'},\n",
       "  'two': {'title': 'Two', 'type': 'integer'}},\n",
       " 'required': ['one', 'two'],\n",
       " 'title': 'TheurModel',\n",
       " 'type': 'object'}"
      ]
     },
     "execution_count": 11,
     "metadata": {},
     "output_type": "execute_result"
    }
   ],
   "source": [
    "tm.model_json_schema()"
   ]
  },
  {
   "cell_type": "code",
   "execution_count": null,
   "id": "4910bc4b-dc5e-45f1-8fc3-60362d8c6b66",
   "metadata": {},
   "outputs": [],
   "source": []
  }
 ],
 "metadata": {
  "kernelspec": {
   "display_name": "Python 3 (ipykernel)",
   "language": "python",
   "name": "python3"
  },
  "language_info": {
   "codemirror_mode": {
    "name": "ipython",
    "version": 3
   },
   "file_extension": ".py",
   "mimetype": "text/x-python",
   "name": "python",
   "nbconvert_exporter": "python",
   "pygments_lexer": "ipython3",
   "version": "3.11.7"
  }
 },
 "nbformat": 4,
 "nbformat_minor": 5
}
