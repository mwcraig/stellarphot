{
 "cells": [
  {
   "cell_type": "code",
   "execution_count": 1,
   "id": "62962901-3813-4c96-afba-8c746bbd8ccd",
   "metadata": {},
   "outputs": [
    {
     "name": "stdout",
     "output_type": "stream",
     "text": [
      "HOWDY!\n",
      "\t_handler.field_name='third_party_type'\n",
      "2 validation errors for Model\n",
      "third_party_type.is-instance[ThirdPartyType]\n",
      "  Input should be an instance of ThirdPartyType [type=is_instance_of, input_value='a', input_type=str]\n",
      "    For further information visit https://errors.pydantic.dev/2.6/v/is_instance_of\n",
      "third_party_type.chain[int,function-plain[validate_from_int()]]\n",
      "  Input should be a valid integer, unable to parse string as an integer [type=int_parsing, input_value='a', input_type=str]\n",
      "    For further information visit https://errors.pydantic.dev/2.6/v/int_parsing\n"
     ]
    }
   ],
   "source": [
    "from typing import Any\n",
    "\n",
    "from pydantic_core import core_schema\n",
    "from typing_extensions import Annotated\n",
    "\n",
    "from pydantic import (\n",
    "    BaseModel,\n",
    "    GetCoreSchemaHandler,\n",
    "    GetJsonSchemaHandler,\n",
    "    ValidationError,\n",
    ")\n",
    "from pydantic.json_schema import JsonSchemaValue\n",
    "\n",
    "\n",
    "class ThirdPartyType:\n",
    "    \"\"\"\n",
    "    This is meant to represent a type from a third-party library that wasn't designed with Pydantic\n",
    "    integration in mind, and so doesn't have a `pydantic_core.CoreSchema` or anything.\n",
    "    \"\"\"\n",
    "\n",
    "    x: int\n",
    "\n",
    "    def __init__(self):\n",
    "        self.x = 0\n",
    "\n",
    "\n",
    "class _ThirdPartyTypePydanticAnnotation:\n",
    "    @classmethod\n",
    "    def __get_pydantic_core_schema__(\n",
    "        cls,\n",
    "        _source_type: Any,\n",
    "        _handler: GetCoreSchemaHandler,\n",
    "    ) -> core_schema.CoreSchema:\n",
    "        \"\"\"\n",
    "        We return a pydantic_core.CoreSchema that behaves in the following ways:\n",
    "\n",
    "        * ints will be parsed as `ThirdPartyType` instances with the int as the x attribute\n",
    "        * `ThirdPartyType` instances will be parsed as `ThirdPartyType` instances without any changes\n",
    "        * Nothing else will pass validation\n",
    "        * Serialization will always return just an int\n",
    "        \"\"\"\n",
    "\n",
    "        def validate_from_int(value: int) -> ThirdPartyType:\n",
    "            result = ThirdPartyType()\n",
    "            result.x = value\n",
    "            return result\n",
    "        print(\"HOWDY!\")\n",
    "        print(f\"\\t{_handler.field_name=}\")\n",
    "        from_int_schema = core_schema.chain_schema(\n",
    "            [\n",
    "                core_schema.int_schema(),\n",
    "                core_schema.no_info_plain_validator_function(validate_from_int),\n",
    "                #core_schema.int_schema()\n",
    "            ]\n",
    "        )\n",
    "\n",
    "        return core_schema.json_or_python_schema(\n",
    "            json_schema=from_int_schema,\n",
    "            python_schema=core_schema.union_schema(\n",
    "                [\n",
    "                    # check if it's an instance first before doing any further work\n",
    "                    core_schema.is_instance_schema(ThirdPartyType),\n",
    "                    from_int_schema,\n",
    "                ]\n",
    "            ),\n",
    "            # serialization=core_schema.plain_serializer_function_ser_schema(\n",
    "            #     lambda instance: instance.x\n",
    "            # ),\n",
    "        )\n",
    "\n",
    "    # @classmethod\n",
    "    # def __get_pydantic_json_schema__(\n",
    "    #     cls, _core_schema: core_schema.CoreSchema, handler: GetJsonSchemaHandler\n",
    "    # ) -> JsonSchemaValue:\n",
    "    #     # Use the same schema that would be used for `int`\n",
    "    #     return handler(core_schema.int_schema())\n",
    "\n",
    "\n",
    "# We now create an `Annotated` wrapper that we'll use as the annotation for fields on `BaseModel`s, etc.\n",
    "PydanticThirdPartyType = Annotated[\n",
    "    ThirdPartyType, _ThirdPartyTypePydanticAnnotation\n",
    "]\n",
    "\n",
    "\n",
    "# Create a model class that uses this annotation as a field\n",
    "class Model(BaseModel):\n",
    "    third_party_type: PydanticThirdPartyType\n",
    "\n",
    "\n",
    "# Demonstrate that this field is handled correctly, that ints are parsed into `ThirdPartyType`, and that\n",
    "# these instances are also \"dumped\" directly into ints as expected.\n",
    "m_int = Model(third_party_type=1)\n",
    "assert isinstance(m_int.third_party_type, ThirdPartyType)\n",
    "assert m_int.third_party_type.x == 1\n",
    "#assert m_int.model_dump() == {'third_party_type': 1}\n",
    "\n",
    "# Do the same thing where an instance of ThirdPartyType is passed in\n",
    "instance = ThirdPartyType()\n",
    "assert instance.x == 0\n",
    "instance.x = 10\n",
    "\n",
    "m_instance = Model(third_party_type=instance)\n",
    "assert isinstance(m_instance.third_party_type, ThirdPartyType)\n",
    "assert m_instance.third_party_type.x == 10\n",
    "#assert m_instance.model_dump() == {'third_party_type': 10}\n",
    "\n",
    "# Demonstrate that validation errors are raised as expected for invalid inputs\n",
    "try:\n",
    "    Model(third_party_type='a')\n",
    "except ValidationError as e:\n",
    "    print(e)\n",
    "    \"\"\"\n",
    "    2 validation errors for Model\n",
    "    third_party_type.is-instance[ThirdPartyType]\n",
    "      Input should be an instance of ThirdPartyType [type=is_instance_of, input_value='a', input_type=str]\n",
    "    third_party_type.chain[int,function-plain[validate_from_int()]]\n",
    "      Input should be a valid integer, unable to parse string as an integer [type=int_parsing, input_value='a', input_type=str]\n",
    "    \"\"\"\n",
    "\n",
    "\n",
    "assert Model.model_json_schema() == {\n",
    "    'properties': {\n",
    "        'third_party_type': {'title': 'Third Party Type', 'type': 'integer'}\n",
    "    },\n",
    "    'required': ['third_party_type'],\n",
    "    'title': 'Model',\n",
    "    'type': 'object',\n",
    "}\n"
   ]
  },
  {
   "cell_type": "code",
   "execution_count": 2,
   "id": "3bc76d4f-762c-4512-a885-3262e33cfb2a",
   "metadata": {},
   "outputs": [
    {
     "name": "stdout",
     "output_type": "stream",
     "text": [
      "HOWDY!\n",
      "\t_handler.field_name='third_party_type'\n",
      "HOWDY!\n",
      "\t_handler.field_name='tpt'\n"
     ]
    }
   ],
   "source": [
    "# Create a model class that uses this annotation as a field\n",
    "class MyModel(BaseModel):\n",
    "    third_party_type: PydanticThirdPartyType\n",
    "    tpt: PydanticThirdPartyType"
   ]
  },
  {
   "cell_type": "code",
   "execution_count": 3,
   "id": "1c1acf88-1bf0-40a7-b211-756921528028",
   "metadata": {},
   "outputs": [],
   "source": [
    "mm = MyModel(third_party_type=1, tpt=8)"
   ]
  },
  {
   "cell_type": "code",
   "execution_count": 4,
   "id": "087a5068-ce2b-48ac-80dc-14a0c2de053b",
   "metadata": {},
   "outputs": [
    {
     "data": {
      "text/plain": [
       "{'properties': {'third_party_type': {'title': 'Third Party Type',\n",
       "   'type': 'integer'},\n",
       "  'tpt': {'title': 'Tpt', 'type': 'integer'}},\n",
       " 'required': ['third_party_type', 'tpt'],\n",
       " 'title': 'MyModel',\n",
       " 'type': 'object'}"
      ]
     },
     "execution_count": 4,
     "metadata": {},
     "output_type": "execute_result"
    }
   ],
   "source": [
    "mm.model_json_schema()"
   ]
  },
  {
   "cell_type": "code",
   "execution_count": 83,
   "id": "0bf4caf6-7ec6-4a7e-8f3e-27757e38bfdc",
   "metadata": {},
   "outputs": [],
   "source": [
    "from astropy.units import Unit, IrreducibleUnit, UnitBase\n",
    "class _UnitTypePydanticAnnotation:\n",
    "    @classmethod\n",
    "    def __get_pydantic_core_schema__(\n",
    "        cls,\n",
    "        source_type: Any,\n",
    "        _handler: GetCoreSchemaHandler,\n",
    "    ) -> core_schema.CoreSchema:\n",
    "        \"\"\"\n",
    "        We return a pydantic_core.CoreSchema that behaves in the following ways:\n",
    "\n",
    "        * ints will be parsed as `ThirdPartyType` instances with the int as the x attribute\n",
    "        * `ThirdPartyType` instances will be parsed as `ThirdPartyType` instances without any changes\n",
    "        * Nothing else will pass validation\n",
    "        * Serialization will always return just an int\n",
    "        \"\"\"\n",
    "\n",
    "        def validate_from_str(value):\n",
    "            result = source_type(value)  # Unit(value)\n",
    "            return result\n",
    "            \n",
    "        print(\"HOWDY!\")\n",
    "        print(f\"\\t{_handler.field_name=}\")\n",
    "        from_str_schema = core_schema.chain_schema(\n",
    "            [\n",
    "                core_schema.str_schema(),\n",
    "                core_schema.no_info_plain_validator_function(validate_from_str),\n",
    "                #core_schema.int_schema()\n",
    "            ]\n",
    "        )\n",
    "        from_float_schema = core_schema.chain_schema(\n",
    "            [\n",
    "                core_schema.float_schema(),\n",
    "                core_schema.no_info_plain_validator_function(validate_from_str),\n",
    "            ]\n",
    "        )\n",
    "        return core_schema.json_or_python_schema(\n",
    "            json_schema=from_str_schema,\n",
    "            python_schema=core_schema.union_schema(\n",
    "                [\n",
    "                    # check if it's an instance first before doing any further work\n",
    "                    core_schema.is_instance_schema(UnitBase),\n",
    "                    core_schema.is_instance_schema(Quantity),\n",
    "                    from_str_schema,\n",
    "                    from_float_schema,\n",
    "                ]\n",
    "            ),\n",
    "            serialization=core_schema.plain_serializer_function_ser_schema(\n",
    "                lambda instance: str(instance)\n",
    "            ),\n",
    "        )\n",
    "\n",
    "    # @classmethod\n",
    "    # def __get_pydantic_json_schema__(\n",
    "    #     cls, _core_schema: core_schema.CoreSchema, handler: GetJsonSchemaHandler\n",
    "    # ) -> JsonSchemaValue:\n",
    "    #     # Use the same schema that would be used for `int`\n",
    "    #     return handler(core_schema.int_schema())\n",
    "\n",
    "# We now create an `Annotated` wrapper that we'll use as the annotation for fields on `BaseModel`s, etc.\n",
    "PydanticUnitType = Annotated[\n",
    "    Unit, _UnitTypePydanticAnnotation\n",
    "]"
   ]
  },
  {
   "cell_type": "code",
   "execution_count": 84,
   "id": "15d9a917-1b59-41e5-9586-40b137cec8b0",
   "metadata": {},
   "outputs": [
    {
     "name": "stdout",
     "output_type": "stream",
     "text": [
      "HOWDY!\n",
      "\t_handler.field_name='length'\n",
      "HOWDY!\n",
      "\t_handler.field_name='time'\n"
     ]
    }
   ],
   "source": [
    "class UnitModel(BaseModel):\n",
    "    length: PydanticUnitType\n",
    "    time: PydanticUnitType"
   ]
  },
  {
   "cell_type": "code",
   "execution_count": 85,
   "id": "8ea301ae-a853-4422-9340-292aa2ce95c7",
   "metadata": {},
   "outputs": [],
   "source": [
    "um = UnitModel(length=\"meter\", time=\"second\")"
   ]
  },
  {
   "cell_type": "code",
   "execution_count": 86,
   "id": "fa7abf0f-6602-4d6e-a553-e7c97afb1b29",
   "metadata": {},
   "outputs": [
    {
     "data": {
      "text/plain": [
       "{'properties': {'length': {'title': 'Length', 'type': 'string'},\n",
       "  'time': {'title': 'Time', 'type': 'string'}},\n",
       " 'required': ['length', 'time'],\n",
       " 'title': 'UnitModel',\n",
       " 'type': 'object'}"
      ]
     },
     "execution_count": 86,
     "metadata": {},
     "output_type": "execute_result"
    }
   ],
   "source": [
    "um.model_json_schema()"
   ]
  },
  {
   "cell_type": "code",
   "execution_count": 87,
   "id": "59fb6806-1d8d-4f96-b5f6-66010b343217",
   "metadata": {},
   "outputs": [
    {
     "data": {
      "text/plain": [
       "UnitModel(length=Unit(\"m\"), time=Unit(\"s\"))"
      ]
     },
     "execution_count": 87,
     "metadata": {},
     "output_type": "execute_result"
    }
   ],
   "source": [
    "um"
   ]
  },
  {
   "cell_type": "code",
   "execution_count": 88,
   "id": "86a86951-dcc0-4bd9-8ab5-dbcd9a7ea155",
   "metadata": {},
   "outputs": [
    {
     "data": {
      "text/plain": [
       "{'length': 'm', 'time': 's'}"
      ]
     },
     "execution_count": 88,
     "metadata": {},
     "output_type": "execute_result"
    }
   ],
   "source": [
    "um.model_dump()"
   ]
  },
  {
   "cell_type": "code",
   "execution_count": 89,
   "id": "f075e2ce-a6bc-4d50-a072-3bffffd34a0f",
   "metadata": {},
   "outputs": [
    {
     "name": "stdout",
     "output_type": "stream",
     "text": [
      "{\n",
      "  \"length\": \"m\",\n",
      "  \"time\": \"s\"\n",
      "}\n"
     ]
    }
   ],
   "source": [
    "print(um.model_dump_json(indent=2))"
   ]
  },
  {
   "cell_type": "code",
   "execution_count": 90,
   "id": "3446b7f3-16f8-44d5-b20b-7dafbbd8ea9b",
   "metadata": {},
   "outputs": [],
   "source": [
    "um2 = UnitModel(length=Unit(\"meter\"), time=Unit(\"second\"))"
   ]
  },
  {
   "cell_type": "code",
   "execution_count": 91,
   "id": "12587651-2fd3-4838-9d8a-22ff5a9713dc",
   "metadata": {},
   "outputs": [
    {
     "data": {
      "text/plain": [
       "UnitModel(length=Unit(\"m\"), time=Unit(\"s\"))"
      ]
     },
     "execution_count": 91,
     "metadata": {},
     "output_type": "execute_result"
    }
   ],
   "source": [
    "um2"
   ]
  },
  {
   "cell_type": "code",
   "execution_count": 92,
   "id": "458d77b5-a2d5-45c2-8e52-5953a83f0094",
   "metadata": {},
   "outputs": [
    {
     "data": {
      "text/plain": [
       "{'properties': {'length': {'title': 'Length', 'type': 'string'},\n",
       "  'time': {'title': 'Time', 'type': 'string'}},\n",
       " 'required': ['length', 'time'],\n",
       " 'title': 'UnitModel',\n",
       " 'type': 'object'}"
      ]
     },
     "execution_count": 92,
     "metadata": {},
     "output_type": "execute_result"
    }
   ],
   "source": [
    "um2.model_json_schema()"
   ]
  },
  {
   "cell_type": "markdown",
   "id": "c889b3ab-e6cd-4189-aa55-1eace53ce642",
   "metadata": {},
   "source": [
    "From https://docs.pydantic.dev/2.5/concepts/json_schema/#modifying-the-schema"
   ]
  },
  {
   "cell_type": "code",
   "execution_count": 93,
   "id": "cf6a746b-a634-4279-bd90-754afcc68b1d",
   "metadata": {},
   "outputs": [
    {
     "data": {
      "text/plain": [
       "{'length': 'm', 'time': 's'}"
      ]
     },
     "execution_count": 93,
     "metadata": {},
     "output_type": "execute_result"
    }
   ],
   "source": [
    "um2.model_dump()"
   ]
  },
  {
   "cell_type": "code",
   "execution_count": 94,
   "id": "da9b8180-4985-4d6e-99f9-a7ece29fc141",
   "metadata": {},
   "outputs": [],
   "source": [
    "um3 = UnitModel(length=5, time=\"year\")"
   ]
  },
  {
   "cell_type": "code",
   "execution_count": 95,
   "id": "7df3da3f-cd10-4bdc-8f80-460f753e552f",
   "metadata": {},
   "outputs": [
    {
     "data": {
      "text/plain": [
       "UnitModel(length=Unit(dimensionless with a scale of 5.0), time=Unit(\"yr\"))"
      ]
     },
     "execution_count": 95,
     "metadata": {},
     "output_type": "execute_result"
    }
   ],
   "source": [
    "um3"
   ]
  },
  {
   "cell_type": "code",
   "execution_count": 96,
   "id": "edeb2ec6-b921-44f7-96c2-f7094e863131",
   "metadata": {},
   "outputs": [],
   "source": [
    "from astropy.units import Quantity"
   ]
  },
  {
   "cell_type": "code",
   "execution_count": 97,
   "id": "b9f77535-2787-4210-b819-ceab290da21a",
   "metadata": {},
   "outputs": [],
   "source": [
    "QuantityType = Annotated[\n",
    "    Quantity,\n",
    "    _UnitTypePydanticAnnotation\n",
    "]"
   ]
  },
  {
   "cell_type": "code",
   "execution_count": 98,
   "id": "11c3e65e-4130-4487-8787-0535c97e58a1",
   "metadata": {},
   "outputs": [
    {
     "name": "stdout",
     "output_type": "stream",
     "text": [
      "HOWDY!\n",
      "\t_handler.field_name='one'\n",
      "HOWDY!\n",
      "\t_handler.field_name='two'\n"
     ]
    }
   ],
   "source": [
    "class QuantityModel(BaseModel):\n",
    "    one: QuantityType\n",
    "    two: QuantityType"
   ]
  },
  {
   "cell_type": "code",
   "execution_count": 103,
   "id": "3ad50567-dc7e-4c11-960e-cbb1a95ed03d",
   "metadata": {},
   "outputs": [],
   "source": [
    "qmod = QuantityModel(one=\"5 meter\", two=Quantity(\"2 second\"))"
   ]
  },
  {
   "cell_type": "code",
   "execution_count": 104,
   "id": "da7cf796-9265-454a-921e-ce43ae983b5b",
   "metadata": {},
   "outputs": [
    {
     "data": {
      "text/plain": [
       "QuantityModel(one=<Quantity 5. m>, two=<Quantity 2. s>)"
      ]
     },
     "execution_count": 104,
     "metadata": {},
     "output_type": "execute_result"
    }
   ],
   "source": [
    "qmod"
   ]
  },
  {
   "cell_type": "code",
   "execution_count": 105,
   "id": "c06f53b6-efd7-46d8-a8c5-602c383613ab",
   "metadata": {},
   "outputs": [
    {
     "data": {
      "text/plain": [
       "{'properties': {'one': {'title': 'One', 'type': 'string'},\n",
       "  'two': {'title': 'Two', 'type': 'string'}},\n",
       " 'required': ['one', 'two'],\n",
       " 'title': 'QuantityModel',\n",
       " 'type': 'object'}"
      ]
     },
     "execution_count": 105,
     "metadata": {},
     "output_type": "execute_result"
    }
   ],
   "source": [
    "qmod.model_json_schema()"
   ]
  },
  {
   "cell_type": "code",
   "execution_count": 106,
   "id": "a20b150e-0b7a-49de-b6c8-b83593e42eb4",
   "metadata": {},
   "outputs": [
    {
     "data": {
      "text/plain": [
       "{'one': '5.0 m', 'two': '2.0 s'}"
      ]
     },
     "execution_count": 106,
     "metadata": {},
     "output_type": "execute_result"
    }
   ],
   "source": [
    "qmod.model_dump()"
   ]
  },
  {
   "cell_type": "code",
   "execution_count": 47,
   "id": "9c7e226e-1447-4313-a1cc-8abb08ccca8f",
   "metadata": {},
   "outputs": [
    {
     "data": {
      "text/plain": [
       "False"
      ]
     },
     "execution_count": 47,
     "metadata": {},
     "output_type": "execute_result"
    }
   ],
   "source": [
    "q = Quantity(5)\n",
    "isinstance(q, UnitBase)"
   ]
  },
  {
   "cell_type": "code",
   "execution_count": null,
   "id": "4910bc4b-dc5e-45f1-8fc3-60362d8c6b66",
   "metadata": {},
   "outputs": [],
   "source": [
    "from typing import Any, Type\n",
    "\n",
    "from pydantic_core import ValidationError, core_schema\n",
    "from typing_extensions import Annotated\n",
    "\n",
    "from pydantic import BaseModel, GetCoreSchemaHandler\n",
    "\n",
    "\n",
    "class AllowAnySubclass:\n",
    "    def __get_pydantic_core_schema__(\n",
    "        self, source: Type[Any], handler: GetCoreSchemaHandler\n",
    "    ) -> core_schema.CoreSchema:\n",
    "        # we can't call handler since it will fail for arbitrary types\n",
    "        def validate(value: Any) -> Any:\n",
    "            if not isinstance(value, source):\n",
    "                raise ValueError(\n",
    "                    f'Expected an instance of {source}, got an instance of {type(value)}'\n",
    "                )\n",
    "\n",
    "        return core_schema.no_info_plain_validator_function(validate)\n",
    "\n",
    "\n",
    "class Foo:\n",
    "    pass\n",
    "\n",
    "class Goo(Foo):\n",
    "    pass\n",
    "    \n",
    "class Model(BaseModel):\n",
    "    f: Annotated[Foo, AllowAnySubclass()]\n",
    "\n",
    "\n",
    "print(Model(f=Foo()))\n",
    "#> f=None\n",
    "\n",
    "\n",
    "class NotFoo:\n",
    "    pass\n",
    "\n",
    "\n",
    "try:\n",
    "    Model(f=NotFoo())\n",
    "except ValidationError as e:\n",
    "    print(e)\n",
    "    \"\"\"\n",
    "    1 validation error for Model\n",
    "    f\n",
    "      Value error, Expected an instance of <class '__main__.Foo'>, got an instance of <class '__main__.NotFoo'> [type=value_error, input_value=<__main__.NotFoo object at 0x0123456789ab>, input_type=NotFoo]\n",
    "    \"\"\"\n"
   ]
  },
  {
   "cell_type": "code",
   "execution_count": null,
   "id": "d31f2cb9-838a-4245-b3c4-ae2a1c1c9d4a",
   "metadata": {},
   "outputs": [],
   "source": [
    "class FooModel(BaseModel):\n",
    "    f: Annotated[Foo, AllowAnySubclass()]\n",
    "    g: Annotated[Foo, AllowAnySubclass()]"
   ]
  },
  {
   "cell_type": "code",
   "execution_count": null,
   "id": "517127c8-6a62-45b4-a962-c7dc31b57d35",
   "metadata": {},
   "outputs": [],
   "source": [
    "mmm =FooModel(f=Foo(), g=Goo())"
   ]
  },
  {
   "cell_type": "code",
   "execution_count": null,
   "id": "19fd0917-2f46-4cc2-bd11-41991208ad0a",
   "metadata": {},
   "outputs": [],
   "source": [
    "mmm.model_dump_json()"
   ]
  },
  {
   "cell_type": "code",
   "execution_count": null,
   "id": "6a2c58fd-6ab9-419f-93e9-7511281e756a",
   "metadata": {},
   "outputs": [],
   "source": [
    "mmm.model_json_schema()"
   ]
  },
  {
   "cell_type": "markdown",
   "id": "478e53ac-e018-4b21-a0da-482cc007c8d1",
   "metadata": {},
   "source": [
    "From https://docs.pydantic.dev/2.5/concepts/types/#adding-validation-and-serialization"
   ]
  },
  {
   "cell_type": "code",
   "execution_count": null,
   "id": "3e0d14fc-c349-4433-bf4f-88b1a03094f6",
   "metadata": {},
   "outputs": [],
   "source": [
    "from pydantic import (\n",
    "    AfterValidator,\n",
    "    PlainSerializer,\n",
    "    TypeAdapter,\n",
    "    WithJsonSchema,\n",
    ")\n",
    "\n",
    "TruncatedFloat = Annotated[\n",
    "    float,\n",
    "    AfterValidator(lambda x: round(x, 1)),\n",
    "    PlainSerializer(lambda x: f'{x:.1e}', return_type=str),\n",
    "    WithJsonSchema({'type': 'string'}, mode='serialization'),\n",
    "]"
   ]
  },
  {
   "cell_type": "code",
   "execution_count": null,
   "id": "789996e8-fe52-4777-a992-cfdacf602bb2",
   "metadata": {},
   "outputs": [],
   "source": [
    "class TFModel(BaseModel):\n",
    "    one: TruncatedFloat\n",
    "    two: TruncatedFloat"
   ]
  },
  {
   "cell_type": "code",
   "execution_count": null,
   "id": "c2ffca03-620f-4874-9b56-35bb5665afa3",
   "metadata": {},
   "outputs": [],
   "source": [
    "tf_mod = TFModel(one=2.34, two=3.14)"
   ]
  },
  {
   "cell_type": "code",
   "execution_count": null,
   "id": "9c2607f1-af9a-4f21-86c2-11ec77fa9c39",
   "metadata": {},
   "outputs": [],
   "source": [
    "tf_mod.model_json_schema()"
   ]
  },
  {
   "cell_type": "code",
   "execution_count": null,
   "id": "9799f1d7-7b67-443e-815c-4ce851105dc6",
   "metadata": {},
   "outputs": [],
   "source": []
  }
 ],
 "metadata": {
  "kernelspec": {
   "display_name": "Python 3 (ipykernel)",
   "language": "python",
   "name": "python3"
  },
  "language_info": {
   "codemirror_mode": {
    "name": "ipython",
    "version": 3
   },
   "file_extension": ".py",
   "mimetype": "text/x-python",
   "name": "python",
   "nbconvert_exporter": "python",
   "pygments_lexer": "ipython3",
   "version": "3.11.4"
  }
 },
 "nbformat": 4,
 "nbformat_minor": 5
}
