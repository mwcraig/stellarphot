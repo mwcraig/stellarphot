{
 "cells": [
  {
   "cell_type": "code",
   "execution_count": 14,
   "id": "62962901-3813-4c96-afba-8c746bbd8ccd",
   "metadata": {
    "scrolled": true
   },
   "outputs": [
    {
     "ename": "PydanticInvalidForJsonSchema",
     "evalue": "Cannot generate a JsonSchema for core_schema.PlainValidatorFunctionSchema ({'type': 'no-info', 'function': <function _ThirdPartyTypePydanticAnnotation.__get_pydantic_core_schema__.<locals>.validate_from_int at 0x117795300>})\n\nFor further information visit https://errors.pydantic.dev/2.5/u/invalid-for-json-schema",
     "output_type": "error",
     "traceback": [
      "\u001b[0;31m---------------------------------------------------------------------------\u001b[0m",
      "\u001b[0;31mPydanticInvalidForJsonSchema\u001b[0m              Traceback (most recent call last)",
      "Cell \u001b[0;32mIn[14], line 119\u001b[0m\n\u001b[1;32m    109\u001b[0m     \u001b[38;5;28mprint\u001b[39m(e)\n\u001b[1;32m    110\u001b[0m \u001b[38;5;250m    \u001b[39m\u001b[38;5;124;03m\"\"\"\u001b[39;00m\n\u001b[1;32m    111\u001b[0m \u001b[38;5;124;03m    2 validation errors for Model\u001b[39;00m\n\u001b[1;32m    112\u001b[0m \u001b[38;5;124;03m    third_party_type.is-instance[ThirdPartyType]\u001b[39;00m\n\u001b[0;32m   (...)\u001b[0m\n\u001b[1;32m    115\u001b[0m \u001b[38;5;124;03m      Input should be a valid integer, unable to parse string as an integer [type=int_parsing, input_value='a', input_type=str]\u001b[39;00m\n\u001b[1;32m    116\u001b[0m \u001b[38;5;124;03m    \"\"\"\u001b[39;00m\n\u001b[0;32m--> 119\u001b[0m \u001b[38;5;28;01massert\u001b[39;00m \u001b[43mModel\u001b[49m\u001b[38;5;241;43m.\u001b[39;49m\u001b[43mmodel_json_schema\u001b[49m\u001b[43m(\u001b[49m\u001b[43m)\u001b[49m \u001b[38;5;241m==\u001b[39m {\n\u001b[1;32m    120\u001b[0m     \u001b[38;5;124m'\u001b[39m\u001b[38;5;124mproperties\u001b[39m\u001b[38;5;124m'\u001b[39m: {\n\u001b[1;32m    121\u001b[0m         \u001b[38;5;124m'\u001b[39m\u001b[38;5;124mthird_party_type\u001b[39m\u001b[38;5;124m'\u001b[39m: {\u001b[38;5;124m'\u001b[39m\u001b[38;5;124mtitle\u001b[39m\u001b[38;5;124m'\u001b[39m: \u001b[38;5;124m'\u001b[39m\u001b[38;5;124mThird Party Type\u001b[39m\u001b[38;5;124m'\u001b[39m, \u001b[38;5;124m'\u001b[39m\u001b[38;5;124mtype\u001b[39m\u001b[38;5;124m'\u001b[39m: \u001b[38;5;124m'\u001b[39m\u001b[38;5;124minteger\u001b[39m\u001b[38;5;124m'\u001b[39m}\n\u001b[1;32m    122\u001b[0m     },\n\u001b[1;32m    123\u001b[0m     \u001b[38;5;124m'\u001b[39m\u001b[38;5;124mrequired\u001b[39m\u001b[38;5;124m'\u001b[39m: [\u001b[38;5;124m'\u001b[39m\u001b[38;5;124mthird_party_type\u001b[39m\u001b[38;5;124m'\u001b[39m],\n\u001b[1;32m    124\u001b[0m     \u001b[38;5;124m'\u001b[39m\u001b[38;5;124mtitle\u001b[39m\u001b[38;5;124m'\u001b[39m: \u001b[38;5;124m'\u001b[39m\u001b[38;5;124mModel\u001b[39m\u001b[38;5;124m'\u001b[39m,\n\u001b[1;32m    125\u001b[0m     \u001b[38;5;124m'\u001b[39m\u001b[38;5;124mtype\u001b[39m\u001b[38;5;124m'\u001b[39m: \u001b[38;5;124m'\u001b[39m\u001b[38;5;124mobject\u001b[39m\u001b[38;5;124m'\u001b[39m,\n\u001b[1;32m    126\u001b[0m }\n",
      "File \u001b[0;32m~/mambaforge/envs/stelldev-pyd2/lib/python3.11/site-packages/pydantic/main.py:385\u001b[0m, in \u001b[0;36mBaseModel.model_json_schema\u001b[0;34m(cls, by_alias, ref_template, schema_generator, mode)\u001b[0m\n\u001b[1;32m    365\u001b[0m \u001b[38;5;129m@classmethod\u001b[39m\n\u001b[1;32m    366\u001b[0m \u001b[38;5;28;01mdef\u001b[39;00m \u001b[38;5;21mmodel_json_schema\u001b[39m(\n\u001b[1;32m    367\u001b[0m     \u001b[38;5;28mcls\u001b[39m,\n\u001b[0;32m   (...)\u001b[0m\n\u001b[1;32m    371\u001b[0m     mode: JsonSchemaMode \u001b[38;5;241m=\u001b[39m \u001b[38;5;124m'\u001b[39m\u001b[38;5;124mvalidation\u001b[39m\u001b[38;5;124m'\u001b[39m,\n\u001b[1;32m    372\u001b[0m ) \u001b[38;5;241m-\u001b[39m\u001b[38;5;241m>\u001b[39m \u001b[38;5;28mdict\u001b[39m[\u001b[38;5;28mstr\u001b[39m, Any]:\n\u001b[1;32m    373\u001b[0m \u001b[38;5;250m    \u001b[39m\u001b[38;5;124;03m\"\"\"Generates a JSON schema for a model class.\u001b[39;00m\n\u001b[1;32m    374\u001b[0m \n\u001b[1;32m    375\u001b[0m \u001b[38;5;124;03m    Args:\u001b[39;00m\n\u001b[0;32m   (...)\u001b[0m\n\u001b[1;32m    383\u001b[0m \u001b[38;5;124;03m        The JSON schema for the given model class.\u001b[39;00m\n\u001b[1;32m    384\u001b[0m \u001b[38;5;124;03m    \"\"\"\u001b[39;00m\n\u001b[0;32m--> 385\u001b[0m     \u001b[38;5;28;01mreturn\u001b[39;00m \u001b[43mmodel_json_schema\u001b[49m\u001b[43m(\u001b[49m\n\u001b[1;32m    386\u001b[0m \u001b[43m        \u001b[49m\u001b[38;5;28;43mcls\u001b[39;49m\u001b[43m,\u001b[49m\u001b[43m \u001b[49m\u001b[43mby_alias\u001b[49m\u001b[38;5;241;43m=\u001b[39;49m\u001b[43mby_alias\u001b[49m\u001b[43m,\u001b[49m\u001b[43m \u001b[49m\u001b[43mref_template\u001b[49m\u001b[38;5;241;43m=\u001b[39;49m\u001b[43mref_template\u001b[49m\u001b[43m,\u001b[49m\u001b[43m \u001b[49m\u001b[43mschema_generator\u001b[49m\u001b[38;5;241;43m=\u001b[39;49m\u001b[43mschema_generator\u001b[49m\u001b[43m,\u001b[49m\u001b[43m \u001b[49m\u001b[43mmode\u001b[49m\u001b[38;5;241;43m=\u001b[39;49m\u001b[43mmode\u001b[49m\n\u001b[1;32m    387\u001b[0m \u001b[43m    \u001b[49m\u001b[43m)\u001b[49m\n",
      "File \u001b[0;32m~/mambaforge/envs/stelldev-pyd2/lib/python3.11/site-packages/pydantic/json_schema.py:2158\u001b[0m, in \u001b[0;36mmodel_json_schema\u001b[0;34m(cls, by_alias, ref_template, schema_generator, mode)\u001b[0m\n\u001b[1;32m   2156\u001b[0m     \u001b[38;5;28mcls\u001b[39m\u001b[38;5;241m.\u001b[39m__pydantic_validator__\u001b[38;5;241m.\u001b[39mrebuild()\n\u001b[1;32m   2157\u001b[0m \u001b[38;5;28;01massert\u001b[39;00m \u001b[38;5;124m'\u001b[39m\u001b[38;5;124m__pydantic_core_schema__\u001b[39m\u001b[38;5;124m'\u001b[39m \u001b[38;5;129;01min\u001b[39;00m \u001b[38;5;28mcls\u001b[39m\u001b[38;5;241m.\u001b[39m\u001b[38;5;18m__dict__\u001b[39m, \u001b[38;5;124m'\u001b[39m\u001b[38;5;124mthis is a bug! please report it\u001b[39m\u001b[38;5;124m'\u001b[39m\n\u001b[0;32m-> 2158\u001b[0m \u001b[38;5;28;01mreturn\u001b[39;00m \u001b[43mschema_generator_instance\u001b[49m\u001b[38;5;241;43m.\u001b[39;49m\u001b[43mgenerate\u001b[49m\u001b[43m(\u001b[49m\u001b[38;5;28;43mcls\u001b[39;49m\u001b[38;5;241;43m.\u001b[39;49m\u001b[43m__pydantic_core_schema__\u001b[49m\u001b[43m,\u001b[49m\u001b[43m \u001b[49m\u001b[43mmode\u001b[49m\u001b[38;5;241;43m=\u001b[39;49m\u001b[43mmode\u001b[49m\u001b[43m)\u001b[49m\n",
      "File \u001b[0;32m~/mambaforge/envs/stelldev-pyd2/lib/python3.11/site-packages/pydantic/json_schema.py:413\u001b[0m, in \u001b[0;36mGenerateJsonSchema.generate\u001b[0;34m(self, schema, mode)\u001b[0m\n\u001b[1;32m    406\u001b[0m \u001b[38;5;28;01mif\u001b[39;00m \u001b[38;5;28mself\u001b[39m\u001b[38;5;241m.\u001b[39m_used:\n\u001b[1;32m    407\u001b[0m     \u001b[38;5;28;01mraise\u001b[39;00m PydanticUserError(\n\u001b[1;32m    408\u001b[0m         \u001b[38;5;124m'\u001b[39m\u001b[38;5;124mThis JSON schema generator has already been used to generate a JSON schema. \u001b[39m\u001b[38;5;124m'\u001b[39m\n\u001b[1;32m    409\u001b[0m         \u001b[38;5;124mf\u001b[39m\u001b[38;5;124m'\u001b[39m\u001b[38;5;124mYou must create a new instance of \u001b[39m\u001b[38;5;132;01m{\u001b[39;00m\u001b[38;5;28mtype\u001b[39m(\u001b[38;5;28mself\u001b[39m)\u001b[38;5;241m.\u001b[39m\u001b[38;5;18m__name__\u001b[39m\u001b[38;5;132;01m}\u001b[39;00m\u001b[38;5;124m to generate a new JSON schema.\u001b[39m\u001b[38;5;124m'\u001b[39m,\n\u001b[1;32m    410\u001b[0m         code\u001b[38;5;241m=\u001b[39m\u001b[38;5;124m'\u001b[39m\u001b[38;5;124mjson-schema-already-used\u001b[39m\u001b[38;5;124m'\u001b[39m,\n\u001b[1;32m    411\u001b[0m     )\n\u001b[0;32m--> 413\u001b[0m json_schema: JsonSchemaValue \u001b[38;5;241m=\u001b[39m \u001b[38;5;28;43mself\u001b[39;49m\u001b[38;5;241;43m.\u001b[39;49m\u001b[43mgenerate_inner\u001b[49m\u001b[43m(\u001b[49m\u001b[43mschema\u001b[49m\u001b[43m)\u001b[49m\n\u001b[1;32m    414\u001b[0m json_ref_counts \u001b[38;5;241m=\u001b[39m \u001b[38;5;28mself\u001b[39m\u001b[38;5;241m.\u001b[39mget_json_ref_counts(json_schema)\n\u001b[1;32m    416\u001b[0m \u001b[38;5;66;03m# Remove the top-level $ref if present; note that the _generate method already ensures there are no sibling keys\u001b[39;00m\n",
      "File \u001b[0;32m~/mambaforge/envs/stelldev-pyd2/lib/python3.11/site-packages/pydantic/json_schema.py:552\u001b[0m, in \u001b[0;36mGenerateJsonSchema.generate_inner\u001b[0;34m(self, schema)\u001b[0m\n\u001b[1;32m    548\u001b[0m         \u001b[38;5;28;01mreturn\u001b[39;00m json_schema\n\u001b[1;32m    550\u001b[0m     current_handler \u001b[38;5;241m=\u001b[39m _schema_generation_shared\u001b[38;5;241m.\u001b[39mGenerateJsonSchemaHandler(\u001b[38;5;28mself\u001b[39m, new_handler_func)\n\u001b[0;32m--> 552\u001b[0m json_schema \u001b[38;5;241m=\u001b[39m \u001b[43mcurrent_handler\u001b[49m\u001b[43m(\u001b[49m\u001b[43mschema\u001b[49m\u001b[43m)\u001b[49m\n\u001b[1;32m    553\u001b[0m \u001b[38;5;28;01mif\u001b[39;00m _core_utils\u001b[38;5;241m.\u001b[39mis_core_schema(schema):\n\u001b[1;32m    554\u001b[0m     json_schema \u001b[38;5;241m=\u001b[39m populate_defs(schema, json_schema)\n",
      "File \u001b[0;32m~/mambaforge/envs/stelldev-pyd2/lib/python3.11/site-packages/pydantic/_internal/_schema_generation_shared.py:36\u001b[0m, in \u001b[0;36mGenerateJsonSchemaHandler.__call__\u001b[0;34m(self, _GenerateJsonSchemaHandler__core_schema)\u001b[0m\n\u001b[1;32m     35\u001b[0m \u001b[38;5;28;01mdef\u001b[39;00m \u001b[38;5;21m__call__\u001b[39m(\u001b[38;5;28mself\u001b[39m, __core_schema: CoreSchemaOrField) \u001b[38;5;241m-\u001b[39m\u001b[38;5;241m>\u001b[39m JsonSchemaValue:\n\u001b[0;32m---> 36\u001b[0m     \u001b[38;5;28;01mreturn\u001b[39;00m \u001b[38;5;28;43mself\u001b[39;49m\u001b[38;5;241;43m.\u001b[39;49m\u001b[43mhandler\u001b[49m\u001b[43m(\u001b[49m\u001b[43m__core_schema\u001b[49m\u001b[43m)\u001b[49m\n",
      "File \u001b[0;32m~/mambaforge/envs/stelldev-pyd2/lib/python3.11/site-packages/pydantic/json_schema.py:526\u001b[0m, in \u001b[0;36mGenerateJsonSchema.generate_inner.<locals>.new_handler_func\u001b[0;34m(schema_or_field, current_handler, js_modify_function)\u001b[0m\n\u001b[1;32m    521\u001b[0m \u001b[38;5;28;01mdef\u001b[39;00m \u001b[38;5;21mnew_handler_func\u001b[39m(\n\u001b[1;32m    522\u001b[0m     schema_or_field: CoreSchemaOrField,\n\u001b[1;32m    523\u001b[0m     current_handler: GetJsonSchemaHandler \u001b[38;5;241m=\u001b[39m current_handler,\n\u001b[1;32m    524\u001b[0m     js_modify_function: GetJsonSchemaFunction \u001b[38;5;241m=\u001b[39m js_modify_function,\n\u001b[1;32m    525\u001b[0m ) \u001b[38;5;241m-\u001b[39m\u001b[38;5;241m>\u001b[39m JsonSchemaValue:\n\u001b[0;32m--> 526\u001b[0m     json_schema \u001b[38;5;241m=\u001b[39m \u001b[43mjs_modify_function\u001b[49m\u001b[43m(\u001b[49m\u001b[43mschema_or_field\u001b[49m\u001b[43m,\u001b[49m\u001b[43m \u001b[49m\u001b[43mcurrent_handler\u001b[49m\u001b[43m)\u001b[49m\n\u001b[1;32m    527\u001b[0m     \u001b[38;5;28;01mif\u001b[39;00m _core_utils\u001b[38;5;241m.\u001b[39mis_core_schema(schema_or_field):\n\u001b[1;32m    528\u001b[0m         json_schema \u001b[38;5;241m=\u001b[39m populate_defs(schema_or_field, json_schema)\n",
      "File \u001b[0;32m~/mambaforge/envs/stelldev-pyd2/lib/python3.11/site-packages/pydantic/main.py:603\u001b[0m, in \u001b[0;36mBaseModel.__get_pydantic_json_schema__\u001b[0;34m(cls, _BaseModel__core_schema, _BaseModel__handler)\u001b[0m\n\u001b[1;32m    580\u001b[0m \u001b[38;5;129m@classmethod\u001b[39m\n\u001b[1;32m    581\u001b[0m \u001b[38;5;28;01mdef\u001b[39;00m \u001b[38;5;21m__get_pydantic_json_schema__\u001b[39m(\n\u001b[1;32m    582\u001b[0m     \u001b[38;5;28mcls\u001b[39m,\n\u001b[1;32m    583\u001b[0m     __core_schema: CoreSchema,\n\u001b[1;32m    584\u001b[0m     __handler: GetJsonSchemaHandler,\n\u001b[1;32m    585\u001b[0m ) \u001b[38;5;241m-\u001b[39m\u001b[38;5;241m>\u001b[39m JsonSchemaValue:\n\u001b[1;32m    586\u001b[0m \u001b[38;5;250m    \u001b[39m\u001b[38;5;124;03m\"\"\"Hook into generating the model's JSON schema.\u001b[39;00m\n\u001b[1;32m    587\u001b[0m \n\u001b[1;32m    588\u001b[0m \u001b[38;5;124;03m    Args:\u001b[39;00m\n\u001b[0;32m   (...)\u001b[0m\n\u001b[1;32m    601\u001b[0m \u001b[38;5;124;03m        A JSON schema, as a Python object.\u001b[39;00m\n\u001b[1;32m    602\u001b[0m \u001b[38;5;124;03m    \"\"\"\u001b[39;00m\n\u001b[0;32m--> 603\u001b[0m     \u001b[38;5;28;01mreturn\u001b[39;00m \u001b[43m__handler\u001b[49m\u001b[43m(\u001b[49m\u001b[43m__core_schema\u001b[49m\u001b[43m)\u001b[49m\n",
      "File \u001b[0;32m~/mambaforge/envs/stelldev-pyd2/lib/python3.11/site-packages/pydantic/_internal/_schema_generation_shared.py:36\u001b[0m, in \u001b[0;36mGenerateJsonSchemaHandler.__call__\u001b[0;34m(self, _GenerateJsonSchemaHandler__core_schema)\u001b[0m\n\u001b[1;32m     35\u001b[0m \u001b[38;5;28;01mdef\u001b[39;00m \u001b[38;5;21m__call__\u001b[39m(\u001b[38;5;28mself\u001b[39m, __core_schema: CoreSchemaOrField) \u001b[38;5;241m-\u001b[39m\u001b[38;5;241m>\u001b[39m JsonSchemaValue:\n\u001b[0;32m---> 36\u001b[0m     \u001b[38;5;28;01mreturn\u001b[39;00m \u001b[38;5;28;43mself\u001b[39;49m\u001b[38;5;241;43m.\u001b[39;49m\u001b[43mhandler\u001b[49m\u001b[43m(\u001b[49m\u001b[43m__core_schema\u001b[49m\u001b[43m)\u001b[49m\n",
      "File \u001b[0;32m~/mambaforge/envs/stelldev-pyd2/lib/python3.11/site-packages/pydantic/json_schema.py:526\u001b[0m, in \u001b[0;36mGenerateJsonSchema.generate_inner.<locals>.new_handler_func\u001b[0;34m(schema_or_field, current_handler, js_modify_function)\u001b[0m\n\u001b[1;32m    521\u001b[0m \u001b[38;5;28;01mdef\u001b[39;00m \u001b[38;5;21mnew_handler_func\u001b[39m(\n\u001b[1;32m    522\u001b[0m     schema_or_field: CoreSchemaOrField,\n\u001b[1;32m    523\u001b[0m     current_handler: GetJsonSchemaHandler \u001b[38;5;241m=\u001b[39m current_handler,\n\u001b[1;32m    524\u001b[0m     js_modify_function: GetJsonSchemaFunction \u001b[38;5;241m=\u001b[39m js_modify_function,\n\u001b[1;32m    525\u001b[0m ) \u001b[38;5;241m-\u001b[39m\u001b[38;5;241m>\u001b[39m JsonSchemaValue:\n\u001b[0;32m--> 526\u001b[0m     json_schema \u001b[38;5;241m=\u001b[39m \u001b[43mjs_modify_function\u001b[49m\u001b[43m(\u001b[49m\u001b[43mschema_or_field\u001b[49m\u001b[43m,\u001b[49m\u001b[43m \u001b[49m\u001b[43mcurrent_handler\u001b[49m\u001b[43m)\u001b[49m\n\u001b[1;32m    527\u001b[0m     \u001b[38;5;28;01mif\u001b[39;00m _core_utils\u001b[38;5;241m.\u001b[39mis_core_schema(schema_or_field):\n\u001b[1;32m    528\u001b[0m         json_schema \u001b[38;5;241m=\u001b[39m populate_defs(schema_or_field, json_schema)\n",
      "File \u001b[0;32m~/mambaforge/envs/stelldev-pyd2/lib/python3.11/site-packages/pydantic/_internal/_generate_schema.py:212\u001b[0m, in \u001b[0;36mmodify_model_json_schema\u001b[0;34m(schema_or_field, handler, cls)\u001b[0m\n\u001b[1;32m    199\u001b[0m \u001b[38;5;28;01mdef\u001b[39;00m \u001b[38;5;21mmodify_model_json_schema\u001b[39m(\n\u001b[1;32m    200\u001b[0m     schema_or_field: CoreSchemaOrField, handler: GetJsonSchemaHandler, \u001b[38;5;241m*\u001b[39m, \u001b[38;5;28mcls\u001b[39m: Any\n\u001b[1;32m    201\u001b[0m ) \u001b[38;5;241m-\u001b[39m\u001b[38;5;241m>\u001b[39m JsonSchemaValue:\n\u001b[1;32m    202\u001b[0m \u001b[38;5;250m    \u001b[39m\u001b[38;5;124;03m\"\"\"Add title and description for model-like classes' JSON schema.\u001b[39;00m\n\u001b[1;32m    203\u001b[0m \n\u001b[1;32m    204\u001b[0m \u001b[38;5;124;03m    Args:\u001b[39;00m\n\u001b[0;32m   (...)\u001b[0m\n\u001b[1;32m    210\u001b[0m \u001b[38;5;124;03m        JsonSchemaValue: The updated JSON schema.\u001b[39;00m\n\u001b[1;32m    211\u001b[0m \u001b[38;5;124;03m    \"\"\"\u001b[39;00m\n\u001b[0;32m--> 212\u001b[0m     json_schema \u001b[38;5;241m=\u001b[39m \u001b[43mhandler\u001b[49m\u001b[43m(\u001b[49m\u001b[43mschema_or_field\u001b[49m\u001b[43m)\u001b[49m\n\u001b[1;32m    213\u001b[0m     original_schema \u001b[38;5;241m=\u001b[39m handler\u001b[38;5;241m.\u001b[39mresolve_ref_schema(json_schema)\n\u001b[1;32m    214\u001b[0m     \u001b[38;5;66;03m# Preserve the fact that definitions schemas should never have sibling keys:\u001b[39;00m\n",
      "File \u001b[0;32m~/mambaforge/envs/stelldev-pyd2/lib/python3.11/site-packages/pydantic/_internal/_schema_generation_shared.py:36\u001b[0m, in \u001b[0;36mGenerateJsonSchemaHandler.__call__\u001b[0;34m(self, _GenerateJsonSchemaHandler__core_schema)\u001b[0m\n\u001b[1;32m     35\u001b[0m \u001b[38;5;28;01mdef\u001b[39;00m \u001b[38;5;21m__call__\u001b[39m(\u001b[38;5;28mself\u001b[39m, __core_schema: CoreSchemaOrField) \u001b[38;5;241m-\u001b[39m\u001b[38;5;241m>\u001b[39m JsonSchemaValue:\n\u001b[0;32m---> 36\u001b[0m     \u001b[38;5;28;01mreturn\u001b[39;00m \u001b[38;5;28;43mself\u001b[39;49m\u001b[38;5;241;43m.\u001b[39;49m\u001b[43mhandler\u001b[49m\u001b[43m(\u001b[49m\u001b[43m__core_schema\u001b[49m\u001b[43m)\u001b[49m\n",
      "File \u001b[0;32m~/mambaforge/envs/stelldev-pyd2/lib/python3.11/site-packages/pydantic/json_schema.py:509\u001b[0m, in \u001b[0;36mGenerateJsonSchema.generate_inner.<locals>.handler_func\u001b[0;34m(schema_or_field)\u001b[0m\n\u001b[1;32m    507\u001b[0m \u001b[38;5;28;01mif\u001b[39;00m _core_utils\u001b[38;5;241m.\u001b[39mis_core_schema(schema_or_field) \u001b[38;5;129;01mor\u001b[39;00m _core_utils\u001b[38;5;241m.\u001b[39mis_core_schema_field(schema_or_field):\n\u001b[1;32m    508\u001b[0m     generate_for_schema_type \u001b[38;5;241m=\u001b[39m \u001b[38;5;28mself\u001b[39m\u001b[38;5;241m.\u001b[39m_schema_type_to_method[schema_or_field[\u001b[38;5;124m'\u001b[39m\u001b[38;5;124mtype\u001b[39m\u001b[38;5;124m'\u001b[39m]]\n\u001b[0;32m--> 509\u001b[0m     json_schema \u001b[38;5;241m=\u001b[39m \u001b[43mgenerate_for_schema_type\u001b[49m\u001b[43m(\u001b[49m\u001b[43mschema_or_field\u001b[49m\u001b[43m)\u001b[49m\n\u001b[1;32m    510\u001b[0m \u001b[38;5;28;01melse\u001b[39;00m:\n\u001b[1;32m    511\u001b[0m     \u001b[38;5;28;01mraise\u001b[39;00m \u001b[38;5;167;01mTypeError\u001b[39;00m(\u001b[38;5;124mf\u001b[39m\u001b[38;5;124m'\u001b[39m\u001b[38;5;124mUnexpected schema type: schema=\u001b[39m\u001b[38;5;132;01m{\u001b[39;00mschema_or_field\u001b[38;5;132;01m}\u001b[39;00m\u001b[38;5;124m'\u001b[39m)\n",
      "File \u001b[0;32m~/mambaforge/envs/stelldev-pyd2/lib/python3.11/site-packages/pydantic/json_schema.py:1323\u001b[0m, in \u001b[0;36mGenerateJsonSchema.model_schema\u001b[0;34m(self, schema)\u001b[0m\n\u001b[1;32m   1320\u001b[0m title \u001b[38;5;241m=\u001b[39m config\u001b[38;5;241m.\u001b[39mget(\u001b[38;5;124m'\u001b[39m\u001b[38;5;124mtitle\u001b[39m\u001b[38;5;124m'\u001b[39m)\n\u001b[1;32m   1322\u001b[0m \u001b[38;5;28;01mwith\u001b[39;00m \u001b[38;5;28mself\u001b[39m\u001b[38;5;241m.\u001b[39m_config_wrapper_stack\u001b[38;5;241m.\u001b[39mpush(config):\n\u001b[0;32m-> 1323\u001b[0m     json_schema \u001b[38;5;241m=\u001b[39m \u001b[38;5;28;43mself\u001b[39;49m\u001b[38;5;241;43m.\u001b[39;49m\u001b[43mgenerate_inner\u001b[49m\u001b[43m(\u001b[49m\u001b[43mschema\u001b[49m\u001b[43m[\u001b[49m\u001b[38;5;124;43m'\u001b[39;49m\u001b[38;5;124;43mschema\u001b[39;49m\u001b[38;5;124;43m'\u001b[39;49m\u001b[43m]\u001b[49m\u001b[43m)\u001b[49m\n\u001b[1;32m   1325\u001b[0m json_schema_extra \u001b[38;5;241m=\u001b[39m config\u001b[38;5;241m.\u001b[39mget(\u001b[38;5;124m'\u001b[39m\u001b[38;5;124mjson_schema_extra\u001b[39m\u001b[38;5;124m'\u001b[39m)\n\u001b[1;32m   1326\u001b[0m \u001b[38;5;28;01mif\u001b[39;00m \u001b[38;5;28mcls\u001b[39m\u001b[38;5;241m.\u001b[39m__pydantic_root_model__:\n",
      "File \u001b[0;32m~/mambaforge/envs/stelldev-pyd2/lib/python3.11/site-packages/pydantic/json_schema.py:552\u001b[0m, in \u001b[0;36mGenerateJsonSchema.generate_inner\u001b[0;34m(self, schema)\u001b[0m\n\u001b[1;32m    548\u001b[0m         \u001b[38;5;28;01mreturn\u001b[39;00m json_schema\n\u001b[1;32m    550\u001b[0m     current_handler \u001b[38;5;241m=\u001b[39m _schema_generation_shared\u001b[38;5;241m.\u001b[39mGenerateJsonSchemaHandler(\u001b[38;5;28mself\u001b[39m, new_handler_func)\n\u001b[0;32m--> 552\u001b[0m json_schema \u001b[38;5;241m=\u001b[39m \u001b[43mcurrent_handler\u001b[49m\u001b[43m(\u001b[49m\u001b[43mschema\u001b[49m\u001b[43m)\u001b[49m\n\u001b[1;32m    553\u001b[0m \u001b[38;5;28;01mif\u001b[39;00m _core_utils\u001b[38;5;241m.\u001b[39mis_core_schema(schema):\n\u001b[1;32m    554\u001b[0m     json_schema \u001b[38;5;241m=\u001b[39m populate_defs(schema, json_schema)\n",
      "File \u001b[0;32m~/mambaforge/envs/stelldev-pyd2/lib/python3.11/site-packages/pydantic/_internal/_schema_generation_shared.py:36\u001b[0m, in \u001b[0;36mGenerateJsonSchemaHandler.__call__\u001b[0;34m(self, _GenerateJsonSchemaHandler__core_schema)\u001b[0m\n\u001b[1;32m     35\u001b[0m \u001b[38;5;28;01mdef\u001b[39;00m \u001b[38;5;21m__call__\u001b[39m(\u001b[38;5;28mself\u001b[39m, __core_schema: CoreSchemaOrField) \u001b[38;5;241m-\u001b[39m\u001b[38;5;241m>\u001b[39m JsonSchemaValue:\n\u001b[0;32m---> 36\u001b[0m     \u001b[38;5;28;01mreturn\u001b[39;00m \u001b[38;5;28;43mself\u001b[39;49m\u001b[38;5;241;43m.\u001b[39;49m\u001b[43mhandler\u001b[49m\u001b[43m(\u001b[49m\u001b[43m__core_schema\u001b[49m\u001b[43m)\u001b[49m\n",
      "File \u001b[0;32m~/mambaforge/envs/stelldev-pyd2/lib/python3.11/site-packages/pydantic/json_schema.py:509\u001b[0m, in \u001b[0;36mGenerateJsonSchema.generate_inner.<locals>.handler_func\u001b[0;34m(schema_or_field)\u001b[0m\n\u001b[1;32m    507\u001b[0m \u001b[38;5;28;01mif\u001b[39;00m _core_utils\u001b[38;5;241m.\u001b[39mis_core_schema(schema_or_field) \u001b[38;5;129;01mor\u001b[39;00m _core_utils\u001b[38;5;241m.\u001b[39mis_core_schema_field(schema_or_field):\n\u001b[1;32m    508\u001b[0m     generate_for_schema_type \u001b[38;5;241m=\u001b[39m \u001b[38;5;28mself\u001b[39m\u001b[38;5;241m.\u001b[39m_schema_type_to_method[schema_or_field[\u001b[38;5;124m'\u001b[39m\u001b[38;5;124mtype\u001b[39m\u001b[38;5;124m'\u001b[39m]]\n\u001b[0;32m--> 509\u001b[0m     json_schema \u001b[38;5;241m=\u001b[39m \u001b[43mgenerate_for_schema_type\u001b[49m\u001b[43m(\u001b[49m\u001b[43mschema_or_field\u001b[49m\u001b[43m)\u001b[49m\n\u001b[1;32m    510\u001b[0m \u001b[38;5;28;01melse\u001b[39;00m:\n\u001b[1;32m    511\u001b[0m     \u001b[38;5;28;01mraise\u001b[39;00m \u001b[38;5;167;01mTypeError\u001b[39;00m(\u001b[38;5;124mf\u001b[39m\u001b[38;5;124m'\u001b[39m\u001b[38;5;124mUnexpected schema type: schema=\u001b[39m\u001b[38;5;132;01m{\u001b[39;00mschema_or_field\u001b[38;5;132;01m}\u001b[39;00m\u001b[38;5;124m'\u001b[39m)\n",
      "File \u001b[0;32m~/mambaforge/envs/stelldev-pyd2/lib/python3.11/site-packages/pydantic/json_schema.py:1415\u001b[0m, in \u001b[0;36mGenerateJsonSchema.model_fields_schema\u001b[0;34m(self, schema)\u001b[0m\n\u001b[1;32m   1413\u001b[0m \u001b[38;5;28;01mif\u001b[39;00m \u001b[38;5;28mself\u001b[39m\u001b[38;5;241m.\u001b[39mmode \u001b[38;5;241m==\u001b[39m \u001b[38;5;124m'\u001b[39m\u001b[38;5;124mserialization\u001b[39m\u001b[38;5;124m'\u001b[39m:\n\u001b[1;32m   1414\u001b[0m     named_required_fields\u001b[38;5;241m.\u001b[39mextend(\u001b[38;5;28mself\u001b[39m\u001b[38;5;241m.\u001b[39m_name_required_computed_fields(schema\u001b[38;5;241m.\u001b[39mget(\u001b[38;5;124m'\u001b[39m\u001b[38;5;124mcomputed_fields\u001b[39m\u001b[38;5;124m'\u001b[39m, [])))\n\u001b[0;32m-> 1415\u001b[0m json_schema \u001b[38;5;241m=\u001b[39m \u001b[38;5;28;43mself\u001b[39;49m\u001b[38;5;241;43m.\u001b[39;49m\u001b[43m_named_required_fields_schema\u001b[49m\u001b[43m(\u001b[49m\u001b[43mnamed_required_fields\u001b[49m\u001b[43m)\u001b[49m\n\u001b[1;32m   1416\u001b[0m extras_schema \u001b[38;5;241m=\u001b[39m schema\u001b[38;5;241m.\u001b[39mget(\u001b[38;5;124m'\u001b[39m\u001b[38;5;124mextras_schema\u001b[39m\u001b[38;5;124m'\u001b[39m, \u001b[38;5;28;01mNone\u001b[39;00m)\n\u001b[1;32m   1417\u001b[0m \u001b[38;5;28;01mif\u001b[39;00m extras_schema \u001b[38;5;129;01mis\u001b[39;00m \u001b[38;5;129;01mnot\u001b[39;00m \u001b[38;5;28;01mNone\u001b[39;00m:\n",
      "File \u001b[0;32m~/mambaforge/envs/stelldev-pyd2/lib/python3.11/site-packages/pydantic/json_schema.py:1226\u001b[0m, in \u001b[0;36mGenerateJsonSchema._named_required_fields_schema\u001b[0;34m(self, named_required_fields)\u001b[0m\n\u001b[1;32m   1224\u001b[0m     name \u001b[38;5;241m=\u001b[39m \u001b[38;5;28mself\u001b[39m\u001b[38;5;241m.\u001b[39m_get_alias_name(field, name)\n\u001b[1;32m   1225\u001b[0m \u001b[38;5;28;01mtry\u001b[39;00m:\n\u001b[0;32m-> 1226\u001b[0m     field_json_schema \u001b[38;5;241m=\u001b[39m \u001b[38;5;28;43mself\u001b[39;49m\u001b[38;5;241;43m.\u001b[39;49m\u001b[43mgenerate_inner\u001b[49m\u001b[43m(\u001b[49m\u001b[43mfield\u001b[49m\u001b[43m)\u001b[49m\u001b[38;5;241m.\u001b[39mcopy()\n\u001b[1;32m   1227\u001b[0m \u001b[38;5;28;01mexcept\u001b[39;00m PydanticOmit:\n\u001b[1;32m   1228\u001b[0m     \u001b[38;5;28;01mcontinue\u001b[39;00m\n",
      "File \u001b[0;32m~/mambaforge/envs/stelldev-pyd2/lib/python3.11/site-packages/pydantic/json_schema.py:552\u001b[0m, in \u001b[0;36mGenerateJsonSchema.generate_inner\u001b[0;34m(self, schema)\u001b[0m\n\u001b[1;32m    548\u001b[0m         \u001b[38;5;28;01mreturn\u001b[39;00m json_schema\n\u001b[1;32m    550\u001b[0m     current_handler \u001b[38;5;241m=\u001b[39m _schema_generation_shared\u001b[38;5;241m.\u001b[39mGenerateJsonSchemaHandler(\u001b[38;5;28mself\u001b[39m, new_handler_func)\n\u001b[0;32m--> 552\u001b[0m json_schema \u001b[38;5;241m=\u001b[39m \u001b[43mcurrent_handler\u001b[49m\u001b[43m(\u001b[49m\u001b[43mschema\u001b[49m\u001b[43m)\u001b[49m\n\u001b[1;32m    553\u001b[0m \u001b[38;5;28;01mif\u001b[39;00m _core_utils\u001b[38;5;241m.\u001b[39mis_core_schema(schema):\n\u001b[1;32m    554\u001b[0m     json_schema \u001b[38;5;241m=\u001b[39m populate_defs(schema, json_schema)\n",
      "File \u001b[0;32m~/mambaforge/envs/stelldev-pyd2/lib/python3.11/site-packages/pydantic/_internal/_schema_generation_shared.py:36\u001b[0m, in \u001b[0;36mGenerateJsonSchemaHandler.__call__\u001b[0;34m(self, _GenerateJsonSchemaHandler__core_schema)\u001b[0m\n\u001b[1;32m     35\u001b[0m \u001b[38;5;28;01mdef\u001b[39;00m \u001b[38;5;21m__call__\u001b[39m(\u001b[38;5;28mself\u001b[39m, __core_schema: CoreSchemaOrField) \u001b[38;5;241m-\u001b[39m\u001b[38;5;241m>\u001b[39m JsonSchemaValue:\n\u001b[0;32m---> 36\u001b[0m     \u001b[38;5;28;01mreturn\u001b[39;00m \u001b[38;5;28;43mself\u001b[39;49m\u001b[38;5;241;43m.\u001b[39;49m\u001b[43mhandler\u001b[49m\u001b[43m(\u001b[49m\u001b[43m__core_schema\u001b[49m\u001b[43m)\u001b[49m\n",
      "File \u001b[0;32m~/mambaforge/envs/stelldev-pyd2/lib/python3.11/site-packages/pydantic/json_schema.py:544\u001b[0m, in \u001b[0;36mGenerateJsonSchema.generate_inner.<locals>.new_handler_func\u001b[0;34m(schema_or_field, current_handler, js_modify_function)\u001b[0m\n\u001b[1;32m    539\u001b[0m \u001b[38;5;28;01mdef\u001b[39;00m \u001b[38;5;21mnew_handler_func\u001b[39m(\n\u001b[1;32m    540\u001b[0m     schema_or_field: CoreSchemaOrField,\n\u001b[1;32m    541\u001b[0m     current_handler: GetJsonSchemaHandler \u001b[38;5;241m=\u001b[39m current_handler,\n\u001b[1;32m    542\u001b[0m     js_modify_function: GetJsonSchemaFunction \u001b[38;5;241m=\u001b[39m js_modify_function,\n\u001b[1;32m    543\u001b[0m ) \u001b[38;5;241m-\u001b[39m\u001b[38;5;241m>\u001b[39m JsonSchemaValue:\n\u001b[0;32m--> 544\u001b[0m     json_schema \u001b[38;5;241m=\u001b[39m \u001b[43mjs_modify_function\u001b[49m\u001b[43m(\u001b[49m\u001b[43mschema_or_field\u001b[49m\u001b[43m,\u001b[49m\u001b[43m \u001b[49m\u001b[43mcurrent_handler\u001b[49m\u001b[43m)\u001b[49m\n\u001b[1;32m    545\u001b[0m     \u001b[38;5;28;01mif\u001b[39;00m _core_utils\u001b[38;5;241m.\u001b[39mis_core_schema(schema_or_field):\n\u001b[1;32m    546\u001b[0m         json_schema \u001b[38;5;241m=\u001b[39m populate_defs(schema_or_field, json_schema)\n",
      "File \u001b[0;32m~/mambaforge/envs/stelldev-pyd2/lib/python3.11/site-packages/pydantic/_internal/_generate_schema.py:2012\u001b[0m, in \u001b[0;36mget_json_schema_update_func.<locals>.json_schema_update_func\u001b[0;34m(core_schema_or_field, handler)\u001b[0m\n\u001b[1;32m   2009\u001b[0m \u001b[38;5;28;01mdef\u001b[39;00m \u001b[38;5;21mjson_schema_update_func\u001b[39m(\n\u001b[1;32m   2010\u001b[0m     core_schema_or_field: CoreSchemaOrField, handler: GetJsonSchemaHandler\n\u001b[1;32m   2011\u001b[0m ) \u001b[38;5;241m-\u001b[39m\u001b[38;5;241m>\u001b[39m JsonSchemaValue:\n\u001b[0;32m-> 2012\u001b[0m     json_schema \u001b[38;5;241m=\u001b[39m {\u001b[38;5;241m*\u001b[39m\u001b[38;5;241m*\u001b[39m\u001b[43mhandler\u001b[49m\u001b[43m(\u001b[49m\u001b[43mcore_schema_or_field\u001b[49m\u001b[43m)\u001b[49m, \u001b[38;5;241m*\u001b[39m\u001b[38;5;241m*\u001b[39mjson_schema_update}\n\u001b[1;32m   2013\u001b[0m     add_json_schema_extra(json_schema, json_schema_extra)\n\u001b[1;32m   2014\u001b[0m     \u001b[38;5;28;01mreturn\u001b[39;00m json_schema\n",
      "File \u001b[0;32m~/mambaforge/envs/stelldev-pyd2/lib/python3.11/site-packages/pydantic/_internal/_schema_generation_shared.py:36\u001b[0m, in \u001b[0;36mGenerateJsonSchemaHandler.__call__\u001b[0;34m(self, _GenerateJsonSchemaHandler__core_schema)\u001b[0m\n\u001b[1;32m     35\u001b[0m \u001b[38;5;28;01mdef\u001b[39;00m \u001b[38;5;21m__call__\u001b[39m(\u001b[38;5;28mself\u001b[39m, __core_schema: CoreSchemaOrField) \u001b[38;5;241m-\u001b[39m\u001b[38;5;241m>\u001b[39m JsonSchemaValue:\n\u001b[0;32m---> 36\u001b[0m     \u001b[38;5;28;01mreturn\u001b[39;00m \u001b[38;5;28;43mself\u001b[39;49m\u001b[38;5;241;43m.\u001b[39;49m\u001b[43mhandler\u001b[49m\u001b[43m(\u001b[49m\u001b[43m__core_schema\u001b[49m\u001b[43m)\u001b[49m\n",
      "File \u001b[0;32m~/mambaforge/envs/stelldev-pyd2/lib/python3.11/site-packages/pydantic/json_schema.py:509\u001b[0m, in \u001b[0;36mGenerateJsonSchema.generate_inner.<locals>.handler_func\u001b[0;34m(schema_or_field)\u001b[0m\n\u001b[1;32m    507\u001b[0m \u001b[38;5;28;01mif\u001b[39;00m _core_utils\u001b[38;5;241m.\u001b[39mis_core_schema(schema_or_field) \u001b[38;5;129;01mor\u001b[39;00m _core_utils\u001b[38;5;241m.\u001b[39mis_core_schema_field(schema_or_field):\n\u001b[1;32m    508\u001b[0m     generate_for_schema_type \u001b[38;5;241m=\u001b[39m \u001b[38;5;28mself\u001b[39m\u001b[38;5;241m.\u001b[39m_schema_type_to_method[schema_or_field[\u001b[38;5;124m'\u001b[39m\u001b[38;5;124mtype\u001b[39m\u001b[38;5;124m'\u001b[39m]]\n\u001b[0;32m--> 509\u001b[0m     json_schema \u001b[38;5;241m=\u001b[39m \u001b[43mgenerate_for_schema_type\u001b[49m\u001b[43m(\u001b[49m\u001b[43mschema_or_field\u001b[49m\u001b[43m)\u001b[49m\n\u001b[1;32m    510\u001b[0m \u001b[38;5;28;01melse\u001b[39;00m:\n\u001b[1;32m    511\u001b[0m     \u001b[38;5;28;01mraise\u001b[39;00m \u001b[38;5;167;01mTypeError\u001b[39;00m(\u001b[38;5;124mf\u001b[39m\u001b[38;5;124m'\u001b[39m\u001b[38;5;124mUnexpected schema type: schema=\u001b[39m\u001b[38;5;132;01m{\u001b[39;00mschema_or_field\u001b[38;5;132;01m}\u001b[39;00m\u001b[38;5;124m'\u001b[39m)\n",
      "File \u001b[0;32m~/mambaforge/envs/stelldev-pyd2/lib/python3.11/site-packages/pydantic/json_schema.py:1294\u001b[0m, in \u001b[0;36mGenerateJsonSchema.model_field_schema\u001b[0;34m(self, schema)\u001b[0m\n\u001b[1;32m   1285\u001b[0m \u001b[38;5;28;01mdef\u001b[39;00m \u001b[38;5;21mmodel_field_schema\u001b[39m(\u001b[38;5;28mself\u001b[39m, schema: core_schema\u001b[38;5;241m.\u001b[39mModelField) \u001b[38;5;241m-\u001b[39m\u001b[38;5;241m>\u001b[39m JsonSchemaValue:\n\u001b[1;32m   1286\u001b[0m \u001b[38;5;250m    \u001b[39m\u001b[38;5;124;03m\"\"\"Generates a JSON schema that matches a schema that defines a model field.\u001b[39;00m\n\u001b[1;32m   1287\u001b[0m \n\u001b[1;32m   1288\u001b[0m \u001b[38;5;124;03m    Args:\u001b[39;00m\n\u001b[0;32m   (...)\u001b[0m\n\u001b[1;32m   1292\u001b[0m \u001b[38;5;124;03m        The generated JSON schema.\u001b[39;00m\n\u001b[1;32m   1293\u001b[0m \u001b[38;5;124;03m    \"\"\"\u001b[39;00m\n\u001b[0;32m-> 1294\u001b[0m     \u001b[38;5;28;01mreturn\u001b[39;00m \u001b[38;5;28;43mself\u001b[39;49m\u001b[38;5;241;43m.\u001b[39;49m\u001b[43mgenerate_inner\u001b[49m\u001b[43m(\u001b[49m\u001b[43mschema\u001b[49m\u001b[43m[\u001b[49m\u001b[38;5;124;43m'\u001b[39;49m\u001b[38;5;124;43mschema\u001b[39;49m\u001b[38;5;124;43m'\u001b[39;49m\u001b[43m]\u001b[49m\u001b[43m)\u001b[49m\n",
      "File \u001b[0;32m~/mambaforge/envs/stelldev-pyd2/lib/python3.11/site-packages/pydantic/json_schema.py:552\u001b[0m, in \u001b[0;36mGenerateJsonSchema.generate_inner\u001b[0;34m(self, schema)\u001b[0m\n\u001b[1;32m    548\u001b[0m         \u001b[38;5;28;01mreturn\u001b[39;00m json_schema\n\u001b[1;32m    550\u001b[0m     current_handler \u001b[38;5;241m=\u001b[39m _schema_generation_shared\u001b[38;5;241m.\u001b[39mGenerateJsonSchemaHandler(\u001b[38;5;28mself\u001b[39m, new_handler_func)\n\u001b[0;32m--> 552\u001b[0m json_schema \u001b[38;5;241m=\u001b[39m \u001b[43mcurrent_handler\u001b[49m\u001b[43m(\u001b[49m\u001b[43mschema\u001b[49m\u001b[43m)\u001b[49m\n\u001b[1;32m    553\u001b[0m \u001b[38;5;28;01mif\u001b[39;00m _core_utils\u001b[38;5;241m.\u001b[39mis_core_schema(schema):\n\u001b[1;32m    554\u001b[0m     json_schema \u001b[38;5;241m=\u001b[39m populate_defs(schema, json_schema)\n",
      "File \u001b[0;32m~/mambaforge/envs/stelldev-pyd2/lib/python3.11/site-packages/pydantic/_internal/_schema_generation_shared.py:36\u001b[0m, in \u001b[0;36mGenerateJsonSchemaHandler.__call__\u001b[0;34m(self, _GenerateJsonSchemaHandler__core_schema)\u001b[0m\n\u001b[1;32m     35\u001b[0m \u001b[38;5;28;01mdef\u001b[39;00m \u001b[38;5;21m__call__\u001b[39m(\u001b[38;5;28mself\u001b[39m, __core_schema: CoreSchemaOrField) \u001b[38;5;241m-\u001b[39m\u001b[38;5;241m>\u001b[39m JsonSchemaValue:\n\u001b[0;32m---> 36\u001b[0m     \u001b[38;5;28;01mreturn\u001b[39;00m \u001b[38;5;28;43mself\u001b[39;49m\u001b[38;5;241;43m.\u001b[39;49m\u001b[43mhandler\u001b[49m\u001b[43m(\u001b[49m\u001b[43m__core_schema\u001b[49m\u001b[43m)\u001b[49m\n",
      "File \u001b[0;32m~/mambaforge/envs/stelldev-pyd2/lib/python3.11/site-packages/pydantic/json_schema.py:509\u001b[0m, in \u001b[0;36mGenerateJsonSchema.generate_inner.<locals>.handler_func\u001b[0;34m(schema_or_field)\u001b[0m\n\u001b[1;32m    507\u001b[0m \u001b[38;5;28;01mif\u001b[39;00m _core_utils\u001b[38;5;241m.\u001b[39mis_core_schema(schema_or_field) \u001b[38;5;129;01mor\u001b[39;00m _core_utils\u001b[38;5;241m.\u001b[39mis_core_schema_field(schema_or_field):\n\u001b[1;32m    508\u001b[0m     generate_for_schema_type \u001b[38;5;241m=\u001b[39m \u001b[38;5;28mself\u001b[39m\u001b[38;5;241m.\u001b[39m_schema_type_to_method[schema_or_field[\u001b[38;5;124m'\u001b[39m\u001b[38;5;124mtype\u001b[39m\u001b[38;5;124m'\u001b[39m]]\n\u001b[0;32m--> 509\u001b[0m     json_schema \u001b[38;5;241m=\u001b[39m \u001b[43mgenerate_for_schema_type\u001b[49m\u001b[43m(\u001b[49m\u001b[43mschema_or_field\u001b[49m\u001b[43m)\u001b[49m\n\u001b[1;32m    510\u001b[0m \u001b[38;5;28;01melse\u001b[39;00m:\n\u001b[1;32m    511\u001b[0m     \u001b[38;5;28;01mraise\u001b[39;00m \u001b[38;5;167;01mTypeError\u001b[39;00m(\u001b[38;5;124mf\u001b[39m\u001b[38;5;124m'\u001b[39m\u001b[38;5;124mUnexpected schema type: schema=\u001b[39m\u001b[38;5;132;01m{\u001b[39;00mschema_or_field\u001b[38;5;132;01m}\u001b[39;00m\u001b[38;5;124m'\u001b[39m)\n",
      "File \u001b[0;32m~/mambaforge/envs/stelldev-pyd2/lib/python3.11/site-packages/pydantic/json_schema.py:1177\u001b[0m, in \u001b[0;36mGenerateJsonSchema.json_or_python_schema\u001b[0;34m(self, schema)\u001b[0m\n\u001b[1;32m   1164\u001b[0m \u001b[38;5;28;01mdef\u001b[39;00m \u001b[38;5;21mjson_or_python_schema\u001b[39m(\u001b[38;5;28mself\u001b[39m, schema: core_schema\u001b[38;5;241m.\u001b[39mJsonOrPythonSchema) \u001b[38;5;241m-\u001b[39m\u001b[38;5;241m>\u001b[39m JsonSchemaValue:\n\u001b[1;32m   1165\u001b[0m \u001b[38;5;250m    \u001b[39m\u001b[38;5;124;03m\"\"\"Generates a JSON schema that matches a schema that allows values matching either the JSON schema or the\u001b[39;00m\n\u001b[1;32m   1166\u001b[0m \u001b[38;5;124;03m    Python schema.\u001b[39;00m\n\u001b[1;32m   1167\u001b[0m \n\u001b[0;32m   (...)\u001b[0m\n\u001b[1;32m   1175\u001b[0m \u001b[38;5;124;03m        The generated JSON schema.\u001b[39;00m\n\u001b[1;32m   1176\u001b[0m \u001b[38;5;124;03m    \"\"\"\u001b[39;00m\n\u001b[0;32m-> 1177\u001b[0m     \u001b[38;5;28;01mreturn\u001b[39;00m \u001b[38;5;28;43mself\u001b[39;49m\u001b[38;5;241;43m.\u001b[39;49m\u001b[43mgenerate_inner\u001b[49m\u001b[43m(\u001b[49m\u001b[43mschema\u001b[49m\u001b[43m[\u001b[49m\u001b[38;5;124;43m'\u001b[39;49m\u001b[38;5;124;43mjson_schema\u001b[39;49m\u001b[38;5;124;43m'\u001b[39;49m\u001b[43m]\u001b[49m\u001b[43m)\u001b[49m\n",
      "File \u001b[0;32m~/mambaforge/envs/stelldev-pyd2/lib/python3.11/site-packages/pydantic/json_schema.py:552\u001b[0m, in \u001b[0;36mGenerateJsonSchema.generate_inner\u001b[0;34m(self, schema)\u001b[0m\n\u001b[1;32m    548\u001b[0m         \u001b[38;5;28;01mreturn\u001b[39;00m json_schema\n\u001b[1;32m    550\u001b[0m     current_handler \u001b[38;5;241m=\u001b[39m _schema_generation_shared\u001b[38;5;241m.\u001b[39mGenerateJsonSchemaHandler(\u001b[38;5;28mself\u001b[39m, new_handler_func)\n\u001b[0;32m--> 552\u001b[0m json_schema \u001b[38;5;241m=\u001b[39m \u001b[43mcurrent_handler\u001b[49m\u001b[43m(\u001b[49m\u001b[43mschema\u001b[49m\u001b[43m)\u001b[49m\n\u001b[1;32m    553\u001b[0m \u001b[38;5;28;01mif\u001b[39;00m _core_utils\u001b[38;5;241m.\u001b[39mis_core_schema(schema):\n\u001b[1;32m    554\u001b[0m     json_schema \u001b[38;5;241m=\u001b[39m populate_defs(schema, json_schema)\n",
      "File \u001b[0;32m~/mambaforge/envs/stelldev-pyd2/lib/python3.11/site-packages/pydantic/_internal/_schema_generation_shared.py:36\u001b[0m, in \u001b[0;36mGenerateJsonSchemaHandler.__call__\u001b[0;34m(self, _GenerateJsonSchemaHandler__core_schema)\u001b[0m\n\u001b[1;32m     35\u001b[0m \u001b[38;5;28;01mdef\u001b[39;00m \u001b[38;5;21m__call__\u001b[39m(\u001b[38;5;28mself\u001b[39m, __core_schema: CoreSchemaOrField) \u001b[38;5;241m-\u001b[39m\u001b[38;5;241m>\u001b[39m JsonSchemaValue:\n\u001b[0;32m---> 36\u001b[0m     \u001b[38;5;28;01mreturn\u001b[39;00m \u001b[38;5;28;43mself\u001b[39;49m\u001b[38;5;241;43m.\u001b[39;49m\u001b[43mhandler\u001b[49m\u001b[43m(\u001b[49m\u001b[43m__core_schema\u001b[49m\u001b[43m)\u001b[49m\n",
      "File \u001b[0;32m~/mambaforge/envs/stelldev-pyd2/lib/python3.11/site-packages/pydantic/json_schema.py:509\u001b[0m, in \u001b[0;36mGenerateJsonSchema.generate_inner.<locals>.handler_func\u001b[0;34m(schema_or_field)\u001b[0m\n\u001b[1;32m    507\u001b[0m \u001b[38;5;28;01mif\u001b[39;00m _core_utils\u001b[38;5;241m.\u001b[39mis_core_schema(schema_or_field) \u001b[38;5;129;01mor\u001b[39;00m _core_utils\u001b[38;5;241m.\u001b[39mis_core_schema_field(schema_or_field):\n\u001b[1;32m    508\u001b[0m     generate_for_schema_type \u001b[38;5;241m=\u001b[39m \u001b[38;5;28mself\u001b[39m\u001b[38;5;241m.\u001b[39m_schema_type_to_method[schema_or_field[\u001b[38;5;124m'\u001b[39m\u001b[38;5;124mtype\u001b[39m\u001b[38;5;124m'\u001b[39m]]\n\u001b[0;32m--> 509\u001b[0m     json_schema \u001b[38;5;241m=\u001b[39m \u001b[43mgenerate_for_schema_type\u001b[49m\u001b[43m(\u001b[49m\u001b[43mschema_or_field\u001b[49m\u001b[43m)\u001b[49m\n\u001b[1;32m    510\u001b[0m \u001b[38;5;28;01melse\u001b[39;00m:\n\u001b[1;32m    511\u001b[0m     \u001b[38;5;28;01mraise\u001b[39;00m \u001b[38;5;167;01mTypeError\u001b[39;00m(\u001b[38;5;124mf\u001b[39m\u001b[38;5;124m'\u001b[39m\u001b[38;5;124mUnexpected schema type: schema=\u001b[39m\u001b[38;5;132;01m{\u001b[39;00mschema_or_field\u001b[38;5;132;01m}\u001b[39;00m\u001b[38;5;124m'\u001b[39m)\n",
      "File \u001b[0;32m~/mambaforge/envs/stelldev-pyd2/lib/python3.11/site-packages/pydantic/json_schema.py:1143\u001b[0m, in \u001b[0;36mGenerateJsonSchema.chain_schema\u001b[0;34m(self, schema)\u001b[0m\n\u001b[1;32m   1131\u001b[0m \u001b[38;5;250m\u001b[39m\u001b[38;5;124;03m\"\"\"Generates a JSON schema that matches a core_schema.ChainSchema.\u001b[39;00m\n\u001b[1;32m   1132\u001b[0m \n\u001b[1;32m   1133\u001b[0m \u001b[38;5;124;03mWhen generating a schema for validation, we return the validation JSON schema for the first step in the chain.\u001b[39;00m\n\u001b[0;32m   (...)\u001b[0m\n\u001b[1;32m   1140\u001b[0m \u001b[38;5;124;03m    The generated JSON schema.\u001b[39;00m\n\u001b[1;32m   1141\u001b[0m \u001b[38;5;124;03m\"\"\"\u001b[39;00m\n\u001b[1;32m   1142\u001b[0m step_index \u001b[38;5;241m=\u001b[39m \u001b[38;5;241m0\u001b[39m \u001b[38;5;28;01mif\u001b[39;00m \u001b[38;5;28mself\u001b[39m\u001b[38;5;241m.\u001b[39mmode \u001b[38;5;241m==\u001b[39m \u001b[38;5;124m'\u001b[39m\u001b[38;5;124mvalidation\u001b[39m\u001b[38;5;124m'\u001b[39m \u001b[38;5;28;01melse\u001b[39;00m \u001b[38;5;241m-\u001b[39m\u001b[38;5;241m1\u001b[39m  \u001b[38;5;66;03m# use first step for validation, last for serialization\u001b[39;00m\n\u001b[0;32m-> 1143\u001b[0m \u001b[38;5;28;01mreturn\u001b[39;00m \u001b[38;5;28;43mself\u001b[39;49m\u001b[38;5;241;43m.\u001b[39;49m\u001b[43mgenerate_inner\u001b[49m\u001b[43m(\u001b[49m\u001b[43mschema\u001b[49m\u001b[43m[\u001b[49m\u001b[38;5;124;43m'\u001b[39;49m\u001b[38;5;124;43msteps\u001b[39;49m\u001b[38;5;124;43m'\u001b[39;49m\u001b[43m]\u001b[49m\u001b[43m[\u001b[49m\u001b[43mstep_index\u001b[49m\u001b[43m]\u001b[49m\u001b[43m)\u001b[49m\n",
      "File \u001b[0;32m~/mambaforge/envs/stelldev-pyd2/lib/python3.11/site-packages/pydantic/json_schema.py:552\u001b[0m, in \u001b[0;36mGenerateJsonSchema.generate_inner\u001b[0;34m(self, schema)\u001b[0m\n\u001b[1;32m    548\u001b[0m         \u001b[38;5;28;01mreturn\u001b[39;00m json_schema\n\u001b[1;32m    550\u001b[0m     current_handler \u001b[38;5;241m=\u001b[39m _schema_generation_shared\u001b[38;5;241m.\u001b[39mGenerateJsonSchemaHandler(\u001b[38;5;28mself\u001b[39m, new_handler_func)\n\u001b[0;32m--> 552\u001b[0m json_schema \u001b[38;5;241m=\u001b[39m \u001b[43mcurrent_handler\u001b[49m\u001b[43m(\u001b[49m\u001b[43mschema\u001b[49m\u001b[43m)\u001b[49m\n\u001b[1;32m    553\u001b[0m \u001b[38;5;28;01mif\u001b[39;00m _core_utils\u001b[38;5;241m.\u001b[39mis_core_schema(schema):\n\u001b[1;32m    554\u001b[0m     json_schema \u001b[38;5;241m=\u001b[39m populate_defs(schema, json_schema)\n",
      "File \u001b[0;32m~/mambaforge/envs/stelldev-pyd2/lib/python3.11/site-packages/pydantic/_internal/_schema_generation_shared.py:36\u001b[0m, in \u001b[0;36mGenerateJsonSchemaHandler.__call__\u001b[0;34m(self, _GenerateJsonSchemaHandler__core_schema)\u001b[0m\n\u001b[1;32m     35\u001b[0m \u001b[38;5;28;01mdef\u001b[39;00m \u001b[38;5;21m__call__\u001b[39m(\u001b[38;5;28mself\u001b[39m, __core_schema: CoreSchemaOrField) \u001b[38;5;241m-\u001b[39m\u001b[38;5;241m>\u001b[39m JsonSchemaValue:\n\u001b[0;32m---> 36\u001b[0m     \u001b[38;5;28;01mreturn\u001b[39;00m \u001b[38;5;28;43mself\u001b[39;49m\u001b[38;5;241;43m.\u001b[39;49m\u001b[43mhandler\u001b[49m\u001b[43m(\u001b[49m\u001b[43m__core_schema\u001b[49m\u001b[43m)\u001b[49m\n",
      "File \u001b[0;32m~/mambaforge/envs/stelldev-pyd2/lib/python3.11/site-packages/pydantic/json_schema.py:509\u001b[0m, in \u001b[0;36mGenerateJsonSchema.generate_inner.<locals>.handler_func\u001b[0;34m(schema_or_field)\u001b[0m\n\u001b[1;32m    507\u001b[0m \u001b[38;5;28;01mif\u001b[39;00m _core_utils\u001b[38;5;241m.\u001b[39mis_core_schema(schema_or_field) \u001b[38;5;129;01mor\u001b[39;00m _core_utils\u001b[38;5;241m.\u001b[39mis_core_schema_field(schema_or_field):\n\u001b[1;32m    508\u001b[0m     generate_for_schema_type \u001b[38;5;241m=\u001b[39m \u001b[38;5;28mself\u001b[39m\u001b[38;5;241m.\u001b[39m_schema_type_to_method[schema_or_field[\u001b[38;5;124m'\u001b[39m\u001b[38;5;124mtype\u001b[39m\u001b[38;5;124m'\u001b[39m]]\n\u001b[0;32m--> 509\u001b[0m     json_schema \u001b[38;5;241m=\u001b[39m \u001b[43mgenerate_for_schema_type\u001b[49m\u001b[43m(\u001b[49m\u001b[43mschema_or_field\u001b[49m\u001b[43m)\u001b[49m\n\u001b[1;32m    510\u001b[0m \u001b[38;5;28;01melse\u001b[39;00m:\n\u001b[1;32m    511\u001b[0m     \u001b[38;5;28;01mraise\u001b[39;00m \u001b[38;5;167;01mTypeError\u001b[39;00m(\u001b[38;5;124mf\u001b[39m\u001b[38;5;124m'\u001b[39m\u001b[38;5;124mUnexpected schema type: schema=\u001b[39m\u001b[38;5;132;01m{\u001b[39;00mschema_or_field\u001b[38;5;132;01m}\u001b[39;00m\u001b[38;5;124m'\u001b[39m)\n",
      "File \u001b[0;32m~/mambaforge/envs/stelldev-pyd2/lib/python3.11/site-packages/pydantic/json_schema.py:956\u001b[0m, in \u001b[0;36mGenerateJsonSchema.function_plain_schema\u001b[0;34m(self, schema)\u001b[0m\n\u001b[1;32m    947\u001b[0m \u001b[38;5;28;01mdef\u001b[39;00m \u001b[38;5;21mfunction_plain_schema\u001b[39m(\u001b[38;5;28mself\u001b[39m, schema: core_schema\u001b[38;5;241m.\u001b[39mPlainValidatorFunctionSchema) \u001b[38;5;241m-\u001b[39m\u001b[38;5;241m>\u001b[39m JsonSchemaValue:\n\u001b[1;32m    948\u001b[0m \u001b[38;5;250m    \u001b[39m\u001b[38;5;124;03m\"\"\"Generates a JSON schema that matches a function-plain schema.\u001b[39;00m\n\u001b[1;32m    949\u001b[0m \n\u001b[1;32m    950\u001b[0m \u001b[38;5;124;03m    Args:\u001b[39;00m\n\u001b[0;32m   (...)\u001b[0m\n\u001b[1;32m    954\u001b[0m \u001b[38;5;124;03m        The generated JSON schema.\u001b[39;00m\n\u001b[1;32m    955\u001b[0m \u001b[38;5;124;03m    \"\"\"\u001b[39;00m\n\u001b[0;32m--> 956\u001b[0m     \u001b[38;5;28;01mreturn\u001b[39;00m \u001b[38;5;28;43mself\u001b[39;49m\u001b[38;5;241;43m.\u001b[39;49m\u001b[43m_function_schema\u001b[49m\u001b[43m(\u001b[49m\u001b[43mschema\u001b[49m\u001b[43m)\u001b[49m\n",
      "File \u001b[0;32m~/mambaforge/envs/stelldev-pyd2/lib/python3.11/site-packages/pydantic/json_schema.py:921\u001b[0m, in \u001b[0;36mGenerateJsonSchema._function_schema\u001b[0;34m(self, schema)\u001b[0m\n\u001b[1;32m    918\u001b[0m     \u001b[38;5;28;01mreturn\u001b[39;00m \u001b[38;5;28mself\u001b[39m\u001b[38;5;241m.\u001b[39mgenerate_inner(schema[\u001b[38;5;124m'\u001b[39m\u001b[38;5;124mschema\u001b[39m\u001b[38;5;124m'\u001b[39m])\n\u001b[1;32m    920\u001b[0m \u001b[38;5;66;03m# function-plain\u001b[39;00m\n\u001b[0;32m--> 921\u001b[0m \u001b[38;5;28;01mreturn\u001b[39;00m \u001b[38;5;28;43mself\u001b[39;49m\u001b[38;5;241;43m.\u001b[39;49m\u001b[43mhandle_invalid_for_json_schema\u001b[49m\u001b[43m(\u001b[49m\n\u001b[1;32m    922\u001b[0m \u001b[43m    \u001b[49m\u001b[43mschema\u001b[49m\u001b[43m,\u001b[49m\u001b[43m \u001b[49m\u001b[38;5;124;43mf\u001b[39;49m\u001b[38;5;124;43m'\u001b[39;49m\u001b[38;5;124;43mcore_schema.PlainValidatorFunctionSchema (\u001b[39;49m\u001b[38;5;132;43;01m{\u001b[39;49;00m\u001b[43mschema\u001b[49m\u001b[43m[\u001b[49m\u001b[38;5;124;43m\"\u001b[39;49m\u001b[38;5;124;43mfunction\u001b[39;49m\u001b[38;5;124;43m\"\u001b[39;49m\u001b[43m]\u001b[49m\u001b[38;5;132;43;01m}\u001b[39;49;00m\u001b[38;5;124;43m)\u001b[39;49m\u001b[38;5;124;43m'\u001b[39;49m\n\u001b[1;32m    923\u001b[0m \u001b[43m\u001b[49m\u001b[43m)\u001b[49m\n",
      "File \u001b[0;32m~/mambaforge/envs/stelldev-pyd2/lib/python3.11/site-packages/pydantic/json_schema.py:2074\u001b[0m, in \u001b[0;36mGenerateJsonSchema.handle_invalid_for_json_schema\u001b[0;34m(self, schema, error_info)\u001b[0m\n\u001b[1;32m   2073\u001b[0m \u001b[38;5;28;01mdef\u001b[39;00m \u001b[38;5;21mhandle_invalid_for_json_schema\u001b[39m(\u001b[38;5;28mself\u001b[39m, schema: CoreSchemaOrField, error_info: \u001b[38;5;28mstr\u001b[39m) \u001b[38;5;241m-\u001b[39m\u001b[38;5;241m>\u001b[39m JsonSchemaValue:\n\u001b[0;32m-> 2074\u001b[0m     \u001b[38;5;28;01mraise\u001b[39;00m PydanticInvalidForJsonSchema(\u001b[38;5;124mf\u001b[39m\u001b[38;5;124m'\u001b[39m\u001b[38;5;124mCannot generate a JsonSchema for \u001b[39m\u001b[38;5;132;01m{\u001b[39;00merror_info\u001b[38;5;132;01m}\u001b[39;00m\u001b[38;5;124m'\u001b[39m)\n",
      "\u001b[0;31mPydanticInvalidForJsonSchema\u001b[0m: Cannot generate a JsonSchema for core_schema.PlainValidatorFunctionSchema ({'type': 'no-info', 'function': <function _ThirdPartyTypePydanticAnnotation.__get_pydantic_core_schema__.<locals>.validate_from_int at 0x117795300>})\n\nFor further information visit https://errors.pydantic.dev/2.5/u/invalid-for-json-schema"
     ]
    }
   ],
   "source": [
    "from typing import Any\n",
    "\n",
    "from pydantic_core import core_schema\n",
    "from typing_extensions import Annotated\n",
    "\n",
    "from pydantic import (\n",
    "    BaseModel,\n",
    "    GetCoreSchemaHandler,\n",
    "    GetJsonSchemaHandler,\n",
    "    ValidationError,\n",
    ")\n",
    "from pydantic.json_schema import JsonSchemaValue\n",
    "\n",
    "\n",
    "class ThirdPartyType:\n",
    "    \"\"\"\n",
    "    This is meant to represent a type from a third-party library that wasn't designed with Pydantic\n",
    "    integration in mind, and so doesn't have a `pydantic_core.CoreSchema` or anything.\n",
    "    \"\"\"\n",
    "\n",
    "    x: int\n",
    "\n",
    "    def __init__(self):\n",
    "        self.x = 0\n",
    "\n",
    "\n",
    "class _ThirdPartyTypePydanticAnnotation:\n",
    "    @classmethod\n",
    "    def __get_pydantic_core_schema__(\n",
    "        cls,\n",
    "        _source_type: Any,\n",
    "        _handler: GetCoreSchemaHandler,\n",
    "    ) -> core_schema.CoreSchema:\n",
    "        \"\"\"\n",
    "        We return a pydantic_core.CoreSchema that behaves in the following ways:\n",
    "\n",
    "        * ints will be parsed as `ThirdPartyType` instances with the int as the x attribute\n",
    "        * `ThirdPartyType` instances will be parsed as `ThirdPartyType` instances without any changes\n",
    "        * Nothing else will pass validation\n",
    "        * Serialization will always return just an int\n",
    "        \"\"\"\n",
    "\n",
    "        def validate_from_int(value: int) -> ThirdPartyType:\n",
    "            result = ThirdPartyType()\n",
    "            result.x = value\n",
    "            return result\n",
    "\n",
    "        from_int_schema = core_schema.chain_schema(\n",
    "            [\n",
    "                #core_schema.int_schema(),\n",
    "                core_schema.no_info_plain_validator_function(validate_from_int),\n",
    "            ]\n",
    "        )\n",
    "\n",
    "        return core_schema.json_or_python_schema(\n",
    "            json_schema=from_int_schema,\n",
    "            python_schema=core_schema.union_schema(\n",
    "                [\n",
    "                    # check if it's an instance first before doing any further work\n",
    "                    core_schema.is_instance_schema(ThirdPartyType),\n",
    "                    from_int_schema,\n",
    "                ]\n",
    "            ),\n",
    "            serialization=core_schema.plain_serializer_function_ser_schema(\n",
    "                lambda instance: instance.x\n",
    "            ),\n",
    "        )\n",
    "\n",
    "    # @classmethod\n",
    "    # def __get_pydantic_json_schema__(\n",
    "    #     cls, _core_schema: core_schema.CoreSchema, handler: GetJsonSchemaHandler\n",
    "    # ) -> JsonSchemaValue:\n",
    "    #     # Use the same schema that would be used for `int`\n",
    "    #     return handler(core_schema.int_schema())\n",
    "\n",
    "\n",
    "# We now create an `Annotated` wrapper that we'll use as the annotation for fields on `BaseModel`s, etc.\n",
    "PydanticThirdPartyType = Annotated[\n",
    "    ThirdPartyType, _ThirdPartyTypePydanticAnnotation\n",
    "]\n",
    "\n",
    "\n",
    "# Create a model class that uses this annotation as a field\n",
    "class Model(BaseModel):\n",
    "    third_party_type: PydanticThirdPartyType\n",
    "\n",
    "\n",
    "# Demonstrate that this field is handled correctly, that ints are parsed into `ThirdPartyType`, and that\n",
    "# these instances are also \"dumped\" directly into ints as expected.\n",
    "m_int = Model(third_party_type=1)\n",
    "assert isinstance(m_int.third_party_type, ThirdPartyType)\n",
    "assert m_int.third_party_type.x == 1\n",
    "assert m_int.model_dump() == {'third_party_type': 1}\n",
    "\n",
    "# Do the same thing where an instance of ThirdPartyType is passed in\n",
    "instance = ThirdPartyType()\n",
    "assert instance.x == 0\n",
    "instance.x = 10\n",
    "\n",
    "m_instance = Model(third_party_type=instance)\n",
    "assert isinstance(m_instance.third_party_type, ThirdPartyType)\n",
    "assert m_instance.third_party_type.x == 10\n",
    "assert m_instance.model_dump() == {'third_party_type': 10}\n",
    "\n",
    "# Demonstrate that validation errors are raised as expected for invalid inputs\n",
    "try:\n",
    "    Model(third_party_type='a')\n",
    "except ValidationError as e:\n",
    "    print(e)\n",
    "    \"\"\"\n",
    "    2 validation errors for Model\n",
    "    third_party_type.is-instance[ThirdPartyType]\n",
    "      Input should be an instance of ThirdPartyType [type=is_instance_of, input_value='a', input_type=str]\n",
    "    third_party_type.chain[int,function-plain[validate_from_int()]]\n",
    "      Input should be a valid integer, unable to parse string as an integer [type=int_parsing, input_value='a', input_type=str]\n",
    "    \"\"\"\n",
    "\n",
    "\n",
    "assert Model.model_json_schema() == {\n",
    "    'properties': {\n",
    "        'third_party_type': {'title': 'Third Party Type', 'type': 'integer'}\n",
    "    },\n",
    "    'required': ['third_party_type'],\n",
    "    'title': 'Model',\n",
    "    'type': 'object',\n",
    "}\n"
   ]
  },
  {
   "cell_type": "code",
   "execution_count": 10,
   "id": "3bc76d4f-762c-4512-a885-3262e33cfb2a",
   "metadata": {},
   "outputs": [],
   "source": [
    "# Create a model class that uses this annotation as a field\n",
    "class MyModel(BaseModel):\n",
    "    third_party_type: PydanticThirdPartyType\n",
    "    tpt: PydanticThirdPartyType"
   ]
  },
  {
   "cell_type": "code",
   "execution_count": 11,
   "id": "1c1acf88-1bf0-40a7-b211-756921528028",
   "metadata": {},
   "outputs": [],
   "source": [
    "mm = MyModel(third_party_type=3, tpt=8)"
   ]
  },
  {
   "cell_type": "code",
   "execution_count": 12,
   "id": "087a5068-ce2b-48ac-80dc-14a0c2de053b",
   "metadata": {},
   "outputs": [
    {
     "data": {
      "text/plain": [
       "{'properties': {'third_party_type': {'title': 'Third Party Type',\n",
       "   'type': 'integer'},\n",
       "  'tpt': {'title': 'Tpt', 'type': 'integer'}},\n",
       " 'required': ['third_party_type', 'tpt'],\n",
       " 'title': 'MyModel',\n",
       " 'type': 'object'}"
      ]
     },
     "execution_count": 12,
     "metadata": {},
     "output_type": "execute_result"
    }
   ],
   "source": [
    "mm.model_json_schema()"
   ]
  },
  {
   "cell_type": "code",
   "execution_count": 13,
   "id": "15d9a917-1b59-41e5-9586-40b137cec8b0",
   "metadata": {},
   "outputs": [
    {
     "data": {
      "text/plain": [
       "'{\"third_party_type\":3,\"tpt\":8}'"
      ]
     },
     "execution_count": 13,
     "metadata": {},
     "output_type": "execute_result"
    }
   ],
   "source": [
    "mm.model_dump_json()"
   ]
  },
  {
   "cell_type": "code",
   "execution_count": null,
   "id": "8ea301ae-a853-4422-9340-292aa2ce95c7",
   "metadata": {},
   "outputs": [],
   "source": []
  }
 ],
 "metadata": {
  "kernelspec": {
   "display_name": "Python 3 (ipykernel)",
   "language": "python",
   "name": "python3"
  },
  "language_info": {
   "codemirror_mode": {
    "name": "ipython",
    "version": 3
   },
   "file_extension": ".py",
   "mimetype": "text/x-python",
   "name": "python",
   "nbconvert_exporter": "python",
   "pygments_lexer": "ipython3",
   "version": "3.11.7"
  }
 },
 "nbformat": 4,
 "nbformat_minor": 5
}
